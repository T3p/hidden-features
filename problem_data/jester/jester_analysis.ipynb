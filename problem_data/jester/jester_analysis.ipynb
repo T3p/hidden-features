{
 "cells": [
  {
   "cell_type": "code",
   "execution_count": 1,
   "metadata": {},
   "outputs": [],
   "source": [
    "import numpy as np\n",
    "from scipy.linalg import lu\n",
    "from scipy.sparse.linalg import svds\n",
    "from numpy.linalg import svd"
   ]
  },
  {
   "cell_type": "code",
   "execution_count": 2,
   "metadata": {},
   "outputs": [],
   "source": [
    "def check_spanrd(vectors, d):\n",
    "    \"\"\"\n",
    "    Inputs:\n",
    "        - vectors (array): matrix (N, d)\n",
    "        - d (int): dimension of the space to be spanned\n",
    "    Return:\n",
    "        - True or False\n",
    "    \"\"\"\n",
    "    # https://math.stackexchange.com/questions/56201/how-to-tell-if-a-set-of-vectors-spans-a-space\n",
    "    # https://stackoverflow.com/questions/15638650/is-there-a-standard-solution-for-gauss-elimination-in-python\n",
    "    pl, u = lu(vectors, permute_l=True)\n",
    "    rank = np.linalg.matrix_rank(u)\n",
    "    return d == int(rank)\n",
    "\n",
    "def span(vectors):\n",
    "    \n",
    "    d = vectors.shape[1]\n",
    "    for i in range(d):\n",
    "        if check_spanrd(vectors, d - i):\n",
    "            return d - i"
   ]
  },
  {
   "cell_type": "code",
   "execution_count": 3,
   "metadata": {},
   "outputs": [
    {
     "name": "stdout",
     "output_type": "stream",
     "text": [
      "Loaded d=257\n",
      "Loaded d=201\n",
      "Loaded d=221\n",
      "Loaded d=241\n",
      "\n"
     ]
    }
   ],
   "source": [
    "files = [\"/home/andrea/git/lrcb/problem_data/jester/jester_d257_span186_L5.61_S2.08_hls0.00000.npz\",\n",
    "        \"/home/andrea/git/lrcb/problem_data/jester/jester_d11_span10_L4.59_S1.15_hls0.00000.npz\",\n",
    "        \"/home/andrea/git/lrcb/problem_data/jester/jester_d21_span20_L3.15_S1.71_hls0.00000.npz\",\n",
    "        \"/home/andrea/git/lrcb/problem_data/jester/jester_d41_span40_L3.50_S1.93_hls0.00000.npz\",\n",
    "        \"/home/andrea/git/lrcb/problem_data/jester/jester_d61_span54_L3.17_S2.20_hls0.00000.npz\",\n",
    "        \"/home/andrea/git/lrcb/problem_data/jester/jester_d81_span70_L3.21_S2.22_hls0.00000.npz\",\n",
    "        \"/home/andrea/git/lrcb/problem_data/jester/jester_d101_span84_L3.56_S2.33_hls0.00000.npz\",\n",
    "        \"/home/andrea/git/lrcb/problem_data/jester/jester_d121_span101_L3.29_S2.39_hls0.00000.npz\",\n",
    "        \"/home/andrea/git/lrcb/problem_data/jester/jester_d141_span111_L3.25_S2.41_hls0.00000.npz\",\n",
    "        \"/home/andrea/git/lrcb/problem_data/jester/jester_d161_span115_L3.21_S2.54_hls0.00000.npz\",\n",
    "        \"/home/andrea/git/lrcb/problem_data/jester/jester_d181_span125_L3.29_S2.65_hls0.00000.npz\",\n",
    "        \"/home/andrea/git/lrcb/problem_data/jester/jester_d201_span131_L3.19_S2.92_hls0.00000.npz\",\n",
    "        \"/home/andrea/git/lrcb/problem_data/jester/jester_d221_span129_L3.50_S3.11_hls0.00000.npz\",\n",
    "        \"/home/andrea/git/lrcb/problem_data/jester/jester_d241_span137_L3.31_S2.85_hls0.00000.npz\"]\n",
    "files = [\"/home/andrea/git/lrcb/problem_data/jester/257/jester_d257_span186_L5.61_S2.08_hls0.00000.npz\",\n",
    "        \"/home/andrea/git/lrcb/problem_data/jester/257/jester_d201_span131_L3.19_S2.92_hls0.00000.npz\",\n",
    "        \"/home/andrea/git/lrcb/problem_data/jester/257/jester_d221_span129_L3.50_S3.11_hls0.00000.npz\",\n",
    "        \"/home/andrea/git/lrcb/problem_data/jester/257/jester_d241_span137_L3.31_S2.85_hls0.00000.npz\"]\n",
    "\n",
    "#dims = [257, 11, 21, 41, 61, 81, 101, 121, 141, 161, 181, 201, 221, 241]\n",
    "dims = [257, 201, 221, 241]\n",
    "\n",
    "features = {}\n",
    "thetas = {}\n",
    "\n",
    "for file, d in zip(files, dims):\n",
    "    \n",
    "        f = np.load(file)\n",
    "        features[d] = f['features']\n",
    "        thetas[d] = f['theta']\n",
    "        print(\"Loaded d={}\".format(d))\n",
    "        del(f)\n",
    "print()"
   ]
  },
  {
   "cell_type": "code",
   "execution_count": 4,
   "metadata": {},
   "outputs": [
    {
     "name": "stdout",
     "output_type": "stream",
     "text": [
      "Starting d=257\n",
      "[d=257] span: 188\n",
      "[d=257] Reconstruction rmse: 5.700174909861744e-08\n",
      "[d=257] mu error: max 5.960464477539062e-07 - mean 5.222723231668169e-08\n",
      "\n",
      "Starting d=201\n",
      "[d=201] span: 132\n",
      "[d=201] Reconstruction rmse: 3.551129523771124e-08\n",
      "[d=201] mu error: max 5.364418029785156e-07 - mean 5.1338169271275547e-08\n",
      "\n",
      "Starting d=221\n",
      "[d=221] span: 130\n",
      "[d=221] Reconstruction rmse: 3.340858967249005e-08\n",
      "[d=221] mu error: max 4.76837158203125e-07 - mean 4.98829884065799e-08\n",
      "\n",
      "Starting d=241\n",
      "[d=241] span: 140\n",
      "[d=241] Reconstruction rmse: 3.279894045249421e-08\n",
      "[d=241] mu error: max 4.76837158203125e-07 - mean 4.9307779192986345e-08\n",
      "\n"
     ]
    }
   ],
   "source": [
    "# remove useless features\n",
    "\n",
    "tol = 1e-8  # threshold to consider an eigenvalue equal to zero\n",
    "\n",
    "new_features = {}\n",
    "new_thetas = {}\n",
    "\n",
    "for d in dims:\n",
    "    \n",
    "    print(\"Starting d={}\".format(d))\n",
    "    fmat = features[d].reshape(-1, d)\n",
    "    \n",
    "    U, s, Vt = svd(fmat, full_matrices=False)\n",
    "    sp = np.sum(s > tol)\n",
    "    print(\"[d={0}] span: {1}\".format(d,sp))\n",
    "    s = s[:sp]\n",
    "    U = U[:, :sp]\n",
    "    Vt = Vt[:sp, :]\n",
    "\n",
    "    s = np.diag(s)\n",
    "    U = np.dot(U, s)\n",
    "    M = U.dot(Vt)\n",
    "    rmse = np.sqrt(np.mean(np.abs(M - fmat) ** 2))\n",
    "    print(\"[d={0}] Reconstruction rmse: {1}\".format(d, rmse))\n",
    "        \n",
    "    # create new features/parameters\n",
    "    new_features[sp] = U.reshape(features[d].shape[0], features[d].shape[1], sp)\n",
    "    new_thetas[sp] = Vt.dot(thetas[d])\n",
    "    \n",
    "    # check errors\n",
    "    old_mu = features[d].dot(thetas[d])\n",
    "    new_mu = new_features[sp].dot(new_thetas[sp])\n",
    "    err = np.abs(old_mu - new_mu)\n",
    "    print(\"[d={0}] mu error: max {1} - mean {2}\".format(d, np.max(err), np.mean(err)))\n",
    "    \n",
    "    del(old_mu)\n",
    "    del(new_mu)\n",
    "    del(err)\n",
    "    \n",
    "    print()"
   ]
  },
  {
   "cell_type": "code",
   "execution_count": 5,
   "metadata": {},
   "outputs": [
    {
     "name": "stdout",
     "output_type": "stream",
     "text": [
      "gap min: 2.9802322e-07\n",
      "# contexts with gap_min > 0.1: 3297\n"
     ]
    }
   ],
   "source": [
    "# filter gaps\n",
    "\n",
    "thresh = 0.1\n",
    "\n",
    "# ground truth\n",
    "d_gt = max(new_features.keys())\n",
    "mu_gt = new_features[d_gt].dot(new_thetas[d_gt])\n",
    "gap_gt = np.max(mu_gt, axis=1)[:, np.newaxis] - mu_gt\n",
    "gap_gt[gap_gt == 0] = 100\n",
    "print(\"gap min:\", gap_gt.min())\n",
    "gap_gt = np.min(gap_gt, axis=1)\n",
    "\n",
    "# indexes of contexts with minimum gap above threshold\n",
    "good_contexts = gap_gt > thresh\n",
    "print(\"# contexts with gap_min > {0}: {1}\".format(thresh, np.sum(good_contexts)))\n",
    "\n",
    "# filter\n",
    "for d in new_features.keys():\n",
    "    new_features[d] = new_features[d][good_contexts, :, :]\n",
    "\n",
    "n_contexts = np.sum(good_contexts)\n",
    "mu_gt = mu_gt[good_contexts, :]"
   ]
  },
  {
   "cell_type": "code",
   "execution_count": 14,
   "metadata": {},
   "outputs": [
    {
     "name": "stdout",
     "output_type": "stream",
     "text": [
      "[d=132] error wrt ground truth: max 0.2978231608867645 - mean 0.018024424090981483\n",
      "# contexts with eps < 0.05: 1142\n",
      "[d=130] error wrt ground truth: max 0.34656280279159546 - mean 0.01759651117026806\n",
      "# contexts with eps < 0.05: 1239\n",
      "[d=140] error wrt ground truth: max 0.3155077397823334 - mean 0.0179055854678154\n",
      "# contexts with eps < 0.05: 1368\n",
      "[d=188] error wrt ground truth: max 0.0 - mean 0.0\n",
      "# contexts with eps < 0.05: 3297\n",
      "# contexts with eps < 0.05 in all representations: 679\n"
     ]
    }
   ],
   "source": [
    "# check misspecification\n",
    "\n",
    "eps = 0.05 # threshold for low misspecification\n",
    "\n",
    "low_eps_contexts = np.ones(n_contexts, dtype=np.bool) \n",
    "\n",
    "for d in new_features.keys():\n",
    "    mu = new_features[d].dot(new_thetas[d])\n",
    "    err = np.abs(mu - mu_gt)\n",
    "    print(\"[d={0}] error wrt ground truth: max {1} - mean {2}\".format(d, err.max(), np.mean(err)))\n",
    "    idx = np.max(err, axis=1) < eps  # contexts with low misspecification\n",
    "    print(\"# contexts with eps < {0}: {1}\".format(eps, np.sum(idx)))\n",
    "    low_eps_contexts *= idx  # make sure all representations have low misspecification\n",
    "    \n",
    "    del(mu)\n",
    "    del(err)\n",
    "\n",
    "print(\"# contexts with eps < {0} in all representations: {1}\".format(eps, np.sum(low_eps_contexts)))\n",
    "\n",
    "# filter\n",
    "for d in new_features.keys():\n",
    "    new_features[d] = new_features[d][low_eps_contexts, :, :]\n",
    "\n",
    "n_contexts = np.sum(low_eps_contexts)"
   ]
  },
  {
   "cell_type": "code",
   "execution_count": 18,
   "metadata": {},
   "outputs": [
    {
     "name": "stdout",
     "output_type": "stream",
     "text": [
      "[d=132] span optimal arms: 126 - lambda HLS: -5.865825880579933e-11\n",
      "[d=130] span optimal arms: 120 - lambda HLS: -6.367945060148372e-10\n",
      "[d=140] span optimal arms: 133 - lambda HLS: -9.735783013109511e-11\n",
      "[d=188] span optimal arms: 177 - lambda HLS: -7.381848604604002e-11\n"
     ]
    }
   ],
   "source": [
    "# check span optimal arms\n",
    "\n",
    "span_opt = {}\n",
    "\n",
    "for d in new_features.keys():\n",
    "    \n",
    "    mu = new_features[d].dot(new_thetas[d])\n",
    "    astar = np.argmax(mu, axis=1)\n",
    "    fstar = np.array([new_features[d][x, astar[x]] for x in range(n_contexts)])\n",
    "\n",
    "    span = d\n",
    "    for i in range(d):\n",
    "        if check_spanrd(fstar, d - i):\n",
    "            span = d - i\n",
    "            break\n",
    "            \n",
    "    span_opt[d] = span\n",
    "    \n",
    "    outer = np.matmul(fstar.T, fstar) / n_contexts\n",
    "    lambda_hls = np.linalg.eigvals(outer).min()\n",
    "    \n",
    "    print(\"[d={0}] span optimal arms: {1} - lambda HLS: {2}\".format(d, span, lambda_hls))\n",
    "    \n",
    "    del(mu)\n",
    "    del(astar)\n",
    "    del(fstar)\n",
    "    del(outer)"
   ]
  },
  {
   "cell_type": "code",
   "execution_count": 17,
   "metadata": {},
   "outputs": [],
   "source": [
    "# save\n",
    "\n",
    "for d in new_features.keys():\n",
    "    np.savez_compressed('jester_post_d{0}_span{1}.npz'.format(d,span_opt[d]), \n",
    "                        features=new_features[d], theta=new_thetas[d])"
   ]
  },
  {
   "cell_type": "code",
   "execution_count": null,
   "metadata": {},
   "outputs": [],
   "source": []
  }
 ],
 "metadata": {
  "kernelspec": {
   "display_name": "Python 3",
   "language": "python",
   "name": "python3"
  },
  "language_info": {
   "codemirror_mode": {
    "name": "ipython",
    "version": 3
   },
   "file_extension": ".py",
   "mimetype": "text/x-python",
   "name": "python",
   "nbconvert_exporter": "python",
   "pygments_lexer": "ipython3",
   "version": "3.5.2"
  }
 },
 "nbformat": 4,
 "nbformat_minor": 2
}
