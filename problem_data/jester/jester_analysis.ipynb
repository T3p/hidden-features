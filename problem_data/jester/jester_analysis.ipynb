{
 "cells": [
  {
   "cell_type": "code",
   "execution_count": 1,
   "metadata": {},
   "outputs": [],
   "source": [
    "import numpy as np\n",
    "from scipy.linalg import lu\n",
    "from scipy.sparse.linalg import svds\n",
    "from numpy.linalg import svd"
   ]
  },
  {
   "cell_type": "code",
   "execution_count": 2,
   "metadata": {},
   "outputs": [],
   "source": [
    "def check_spanrd(vectors, d):\n",
    "    \"\"\"\n",
    "    Inputs:\n",
    "        - vectors (array): matrix (N, d)\n",
    "        - d (int): dimension of the space to be spanned\n",
    "    Return:\n",
    "        - True or False\n",
    "    \"\"\"\n",
    "    # https://math.stackexchange.com/questions/56201/how-to-tell-if-a-set-of-vectors-spans-a-space\n",
    "    # https://stackoverflow.com/questions/15638650/is-there-a-standard-solution-for-gauss-elimination-in-python\n",
    "    pl, u = lu(vectors, permute_l=True)\n",
    "    rank = np.linalg.matrix_rank(u)\n",
    "    return d == int(rank)\n",
    "\n",
    "def span(vectors):\n",
    "    \n",
    "    d = vectors.shape[1]\n",
    "    for i in range(d):\n",
    "        if check_spanrd(vectors, d - i):\n",
    "            return d - i"
   ]
  },
  {
   "cell_type": "code",
   "execution_count": 3,
   "metadata": {},
   "outputs": [
    {
     "name": "stdout",
     "output_type": "stream",
     "text": [
      "Loaded d=33\n",
      "Loaded d=31\n",
      "Loaded d=29\n",
      "Loaded d=27\n",
      "Loaded d=25\n",
      "Loaded d=23\n",
      "Loaded d=21\n",
      "\n"
     ]
    }
   ],
   "source": [
    "files = [\"/home/andrea/git/lrcb/problem_data/jester/33/1/jester_d33_span33_L4.95_S4.09_hls0.00186.npz\",\n",
    "        \"/home/andrea/git/lrcb/problem_data/jester/33/1/jester_d31_span23_L4.13_S1.85_hls0.00000.npz\",\n",
    "        \"/home/andrea/git/lrcb/problem_data/jester/33/1/jester_d29_span26_L4.08_S1.96_hls0.00000.npz\",\n",
    "        \"/home/andrea/git/lrcb/problem_data/jester/33/1/jester_d27_span24_L3.97_S2.11_hls0.00000.npz\",\n",
    "        \"/home/andrea/git/lrcb/problem_data/jester/33/1/jester_d25_span20_L4.18_S2.00_hls0.00000.npz\",\n",
    "        \"/home/andrea/git/lrcb/problem_data/jester/33/1/jester_d23_span16_L5.13_S2.10_hls0.00000.npz\",\n",
    "        \"/home/andrea/git/lrcb/problem_data/jester/33/1/jester_d21_span17_L4.54_S1.71_hls0.00000.npz\"]\n",
    "\n",
    "#dims = [257, 11, 21, 41, 61, 81, 101, 121, 141, 161, 181, 201, 221, 241]\n",
    "dims = [33, 31, 29, 27, 25, 23, 21]\n",
    "\n",
    "features = {}\n",
    "thetas = {}\n",
    "\n",
    "for file, d in zip(files, dims):\n",
    "    \n",
    "        f = np.load(file)\n",
    "        features[d] = f['features']\n",
    "        thetas[d] = f['theta']\n",
    "        print(\"Loaded d={}\".format(d))\n",
    "        del(f)\n",
    "print()"
   ]
  },
  {
   "cell_type": "code",
   "execution_count": 4,
   "metadata": {},
   "outputs": [
    {
     "name": "stdout",
     "output_type": "stream",
     "text": [
      "Starting d=33\n",
      "[d=33] span: 33\n",
      "[d=33] Reconstruction rmse: 7.396315737651094e-08\n",
      "[d=33] mu error: max 9.5367431640625e-07 - mean 9.124558886242085e-08\n",
      "\n",
      "Starting d=31\n",
      "[d=31] span: 23\n",
      "[d=31] Reconstruction rmse: 4.430497213547824e-08\n",
      "[d=31] mu error: max 3.5762786865234375e-07 - mean 4.0275679680235044e-08\n",
      "\n",
      "Starting d=29\n",
      "[d=29] span: 26\n",
      "[d=29] Reconstruction rmse: 5.371440536805494e-08\n",
      "[d=29] mu error: max 2.980232238769531e-07 - mean 3.898551526049232e-08\n",
      "\n",
      "Starting d=27\n",
      "[d=27] span: 24\n",
      "[d=27] Reconstruction rmse: 5.1650676624603875e-08\n",
      "[d=27] mu error: max 3.5762786865234375e-07 - mean 6.987396261592949e-08\n",
      "\n",
      "Starting d=25\n",
      "[d=25] span: 20\n",
      "[d=25] Reconstruction rmse: 5.4938041671448445e-08\n",
      "[d=25] mu error: max 2.980232238769531e-07 - mean 3.767866729731395e-08\n",
      "\n",
      "Starting d=23\n",
      "[d=23] span: 16\n",
      "[d=23] Reconstruction rmse: 5.5417388011846924e-08\n",
      "[d=23] mu error: max 2.980232238769531e-07 - mean 5.34213064895539e-08\n",
      "\n",
      "Starting d=21\n",
      "[d=21] span: 17\n",
      "[d=21] Reconstruction rmse: 5.740727360148412e-08\n",
      "[d=21] mu error: max 3.5762786865234375e-07 - mean 4.264095565531534e-08\n",
      "\n"
     ]
    }
   ],
   "source": [
    "# remove useless features\n",
    "\n",
    "tol = 1e-8  # threshold to consider an eigenvalue equal to zero\n",
    "\n",
    "new_features = {}\n",
    "new_thetas = {}\n",
    "\n",
    "for d in dims:\n",
    "    \n",
    "    print(\"Starting d={}\".format(d))\n",
    "    fmat = features[d].reshape(-1, d)\n",
    "    \n",
    "    U, s, Vt = svd(fmat, full_matrices=False)\n",
    "    sp = np.sum(s > tol)\n",
    "    print(\"[d={0}] span: {1}\".format(d,sp))\n",
    "    s = s[:sp]\n",
    "    U = U[:, :sp]\n",
    "    Vt = Vt[:sp, :]\n",
    "\n",
    "    s = np.diag(s)\n",
    "    U = np.dot(U, s)\n",
    "    M = U.dot(Vt)\n",
    "    rmse = np.sqrt(np.mean(np.abs(M - fmat) ** 2))\n",
    "    print(\"[d={0}] Reconstruction rmse: {1}\".format(d, rmse))\n",
    "        \n",
    "    # create new features/parameters\n",
    "    new_features[sp] = U.reshape(features[d].shape[0], features[d].shape[1], sp)\n",
    "    new_thetas[sp] = Vt.dot(thetas[d])\n",
    "    \n",
    "    # normalize parameters\n",
    "    norm = np.linalg.norm(new_thetas[sp])\n",
    "    new_thetas[sp] /= norm\n",
    "    new_features[sp] *= norm\n",
    "    \n",
    "    # check errors\n",
    "    old_mu = features[d].dot(thetas[d])\n",
    "    new_mu = new_features[sp].dot(new_thetas[sp])\n",
    "    err = np.abs(old_mu - new_mu)\n",
    "    print(\"[d={0}] mu error: max {1} - mean {2}\".format(d, np.max(err), np.mean(err)))\n",
    "    \n",
    "    del(old_mu)\n",
    "    del(new_mu)\n",
    "    del(err)\n",
    "    \n",
    "    print()"
   ]
  },
  {
   "cell_type": "code",
   "execution_count": 5,
   "metadata": {},
   "outputs": [
    {
     "name": "stdout",
     "output_type": "stream",
     "text": [
      "gap min: 4.2915344e-06\n",
      "# contexts with gap_min > 0.1: 5437\n"
     ]
    }
   ],
   "source": [
    "# filter gaps\n",
    "\n",
    "thresh = 0.1\n",
    "\n",
    "# ground truth\n",
    "d_gt = max(new_features.keys())\n",
    "mu_gt = new_features[d_gt].dot(new_thetas[d_gt])\n",
    "gap_gt = np.max(mu_gt, axis=1)[:, np.newaxis] - mu_gt\n",
    "gap_gt[gap_gt == 0] = 100\n",
    "print(\"gap min:\", gap_gt.min())\n",
    "gap_gt = np.min(gap_gt, axis=1)\n",
    "\n",
    "# indexes of contexts with minimum gap above threshold\n",
    "good_contexts = gap_gt > thresh\n",
    "print(\"# contexts with gap_min > {0}: {1}\".format(thresh, np.sum(good_contexts)))\n",
    "\n",
    "# filter\n",
    "for d in new_features.keys():\n",
    "    new_features[d] = new_features[d][good_contexts, :, :]\n",
    "\n",
    "n_contexts = np.sum(good_contexts)\n",
    "mu_gt = mu_gt[good_contexts, :]"
   ]
  },
  {
   "cell_type": "code",
   "execution_count": 6,
   "metadata": {},
   "outputs": [
    {
     "name": "stdout",
     "output_type": "stream",
     "text": [
      "[d=16] error wrt ground truth: max 0.7536253929138184 - mean 0.01893376186490059\n",
      "# contexts with eps < 0.05: 2600\n",
      "[d=33] error wrt ground truth: max 0.0 - mean 0.0\n",
      "# contexts with eps < 0.05: 5437\n",
      "[d=20] error wrt ground truth: max 0.6976933479309082 - mean 0.0202250387519598\n",
      "# contexts with eps < 0.05: 2333\n",
      "[d=17] error wrt ground truth: max 0.7919116020202637 - mean 0.01966984197497368\n",
      "# contexts with eps < 0.05: 2366\n",
      "[d=23] error wrt ground truth: max 0.8105988502502441 - mean 0.018861087039113045\n",
      "# contexts with eps < 0.05: 2320\n",
      "[d=24] error wrt ground truth: max 0.707683801651001 - mean 0.019329054281115532\n",
      "# contexts with eps < 0.05: 2391\n",
      "[d=26] error wrt ground truth: max 0.7306199073791504 - mean 0.017828047275543213\n",
      "# contexts with eps < 0.05: 2782\n",
      "# contexts with eps < 0.05 in all representations: 1291\n"
     ]
    }
   ],
   "source": [
    "# check misspecification\n",
    "\n",
    "eps = 0.05 # threshold for low misspecification\n",
    "\n",
    "low_eps_contexts = np.ones(n_contexts, dtype=np.bool) \n",
    "\n",
    "for d in new_features.keys():\n",
    "    mu = new_features[d].dot(new_thetas[d])\n",
    "    err = np.abs(mu - mu_gt)\n",
    "    print(\"[d={0}] error wrt ground truth: max {1} - mean {2}\".format(d, err.max(), np.mean(err)))\n",
    "    idx = np.max(err, axis=1) < eps  # contexts with low misspecification\n",
    "    print(\"# contexts with eps < {0}: {1}\".format(eps, np.sum(idx)))\n",
    "    low_eps_contexts *= idx  # make sure all representations have low misspecification\n",
    "    \n",
    "    del(mu)\n",
    "    del(err)\n",
    "\n",
    "print(\"# contexts with eps < {0} in all representations: {1}\".format(eps, np.sum(low_eps_contexts)))\n",
    "\n",
    "# filter\n",
    "for d in new_features.keys():\n",
    "    new_features[d] = new_features[d][low_eps_contexts, :, :]\n",
    "\n",
    "n_contexts = np.sum(low_eps_contexts)"
   ]
  },
  {
   "cell_type": "code",
   "execution_count": 7,
   "metadata": {},
   "outputs": [
    {
     "name": "stdout",
     "output_type": "stream",
     "text": [
      "[d=16] span optimal arms: 16 - lambda HLS: 0.000542577588930726\n",
      "[d=33] span optimal arms: 33 - lambda HLS: 0.01859199069440365\n",
      "[d=20] span optimal arms: 20 - lambda HLS: 2.5937774594808616e-08\n",
      "[d=17] span optimal arms: 17 - lambda HLS: 0.0048090796917676926\n",
      "[d=23] span optimal arms: 23 - lambda HLS: 0.0016820760210976005\n",
      "[d=24] span optimal arms: 24 - lambda HLS: 0.0003457514103502035\n",
      "[d=26] span optimal arms: 26 - lambda HLS: 0.0010042345384135842\n"
     ]
    }
   ],
   "source": [
    "# check span optimal arms\n",
    "\n",
    "span_opt = {}\n",
    "\n",
    "for d in new_features.keys():\n",
    "    \n",
    "    mu = new_features[d].dot(new_thetas[d])\n",
    "    astar = np.argmax(mu, axis=1)\n",
    "    fstar = np.array([new_features[d][x, astar[x]] for x in range(n_contexts)])\n",
    "\n",
    "    span = d\n",
    "    for i in range(d):\n",
    "        if check_spanrd(fstar, d - i):\n",
    "            span = d - i\n",
    "            break\n",
    "            \n",
    "    span_opt[d] = span\n",
    "    \n",
    "    outer = np.matmul(fstar.T, fstar) / n_contexts\n",
    "    lambda_hls = np.linalg.eigvals(outer).min()\n",
    "    \n",
    "    print(\"[d={0}] span optimal arms: {1} - lambda HLS: {2}\".format(d, span, lambda_hls))\n",
    "    \n",
    "    del(mu)\n",
    "    del(astar)\n",
    "    del(fstar)\n",
    "    del(outer)"
   ]
  },
  {
   "cell_type": "code",
   "execution_count": 8,
   "metadata": {},
   "outputs": [],
   "source": [
    "# save\n",
    "\n",
    "for d in new_features.keys():\n",
    "    np.savez_compressed('jester_post_d{0}_span{1}.npz'.format(d,span_opt[d]), \n",
    "                        features=new_features[d], theta=new_thetas[d])"
   ]
  },
  {
   "cell_type": "code",
   "execution_count": null,
   "metadata": {},
   "outputs": [],
   "source": []
  }
 ],
 "metadata": {
  "kernelspec": {
   "display_name": "Python 3",
   "language": "python",
   "name": "python3"
  },
  "language_info": {
   "codemirror_mode": {
    "name": "ipython",
    "version": 3
   },
   "file_extension": ".py",
   "mimetype": "text/x-python",
   "name": "python",
   "nbconvert_exporter": "python",
   "pygments_lexer": "ipython3",
   "version": "3.5.2"
  }
 },
 "nbformat": 4,
 "nbformat_minor": 2
}
