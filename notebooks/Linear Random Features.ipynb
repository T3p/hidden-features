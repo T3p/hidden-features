{
 "cells": [
  {
   "cell_type": "code",
   "execution_count": 2,
   "metadata": {},
   "outputs": [],
   "source": [
    "import numpy as np\n",
    "import matplotlib.pyplot as plt\n",
    "import ipywidgets as widgets"
   ]
  },
  {
   "cell_type": "markdown",
   "metadata": {},
   "source": [
    "# Finite case\n",
    "$x\\in[M]$"
   ]
  },
  {
   "cell_type": "code",
   "execution_count": 3,
   "metadata": {},
   "outputs": [],
   "source": [
    "M = 1000"
   ]
  },
  {
   "cell_type": "markdown",
   "metadata": {},
   "source": [
    "### True function"
   ]
  },
  {
   "cell_type": "code",
   "execution_count": 4,
   "metadata": {},
   "outputs": [],
   "source": [
    "_d = 10\n",
    "param = np.random.uniform(size=_d) - 1/2\n",
    "fmap = np.array([[(x/M)**y for y in range(_d)] for x in range(M)])\n",
    "#fmap = np.random.uniform(size = (M, _d))\n",
    "_f = np.matmul(fmap, param)\n",
    "f = lambda x: _f[x]"
   ]
  },
  {
   "cell_type": "code",
   "execution_count": 5,
   "metadata": {},
   "outputs": [
    {
     "data": {
      "text/plain": [
       "[<matplotlib.lines.Line2D at 0x7f9eb180cb00>]"
      ]
     },
     "execution_count": 5,
     "metadata": {},
     "output_type": "execute_result"
    },
    {
     "data": {
      "image/png": "[encoded data removed]",
      "text/plain": [
       "<Figure size 432x288 with 1 Axes>"
      ]
     },
     "metadata": {
      "needs_background": "light"
     },
     "output_type": "display_data"
    }
   ],
   "source": [
    "plt.plot(range(M), _f)"
   ]
  },
  {
   "cell_type": "code",
   "execution_count": 6,
   "metadata": {},
   "outputs": [],
   "source": [
    "ylim = [min(_f)-0.1, max(_f)+0.1]"
   ]
  },
  {
   "cell_type": "markdown",
   "metadata": {},
   "source": [
    "### Approximation with d random features (no noise)"
   ]
  },
  {
   "cell_type": "code",
   "execution_count": 7,
   "metadata": {},
   "outputs": [],
   "source": [
    "def rfmap(d):\n",
    "    return np.random.normal(size=(M,d))"
   ]
  },
  {
   "cell_type": "code",
   "execution_count": 8,
   "metadata": {},
   "outputs": [],
   "source": [
    "def ols(X, y, reg=0):\n",
    "    A = np.matmul(X.T,X) + reg * np.eye(d)\n",
    "    b = np.matmul(X.T, y)\n",
    "    theta = np.linalg.solve(A,b)\n",
    "    return np.matmul(X, theta), theta"
   ]
  },
  {
   "cell_type": "code",
   "execution_count": 9,
   "metadata": {},
   "outputs": [],
   "source": [
    "RF = rfmap(M)\n",
    "err = np.zeros(M)\n",
    "perr = np.zeros(M)\n",
    "fhats = np.zeros((M,M))\n",
    "for d in range(1, M+1):\n",
    "    X = RF[:, :d] \n",
    "    y = _f\n",
    "    fhat, theta = ols(X, y)\n",
    "    fhats[d-1] = fhat\n",
    "    err[d-1] = np.linalg.norm(fhat - _f, ord=1) / M\n",
    "    "
   ]
  },
  {
   "cell_type": "code",
   "execution_count": 10,
   "metadata": {
    "scrolled": true
   },
   "outputs": [
    {
     "data": {
      "text/plain": [
       "[<matplotlib.lines.Line2D at 0x7f9ee01e9be0>]"
      ]
     },
     "execution_count": 10,
     "metadata": {},
     "output_type": "execute_result"
    },
    {
     "data": {
      "image/png": "[encoded data removed]",
      "text/plain": [
       "<Figure size 432x288 with 1 Axes>"
      ]
     },
     "metadata": {
      "needs_background": "light"
     },
     "output_type": "display_data"
    }
   ],
   "source": [
    "plt.plot(range(M), err)\n",
    "plt.plot(range(M), 0.2/np.sqrt(range(1,M+1)))"
   ]
  },
  {
   "cell_type": "code",
   "execution_count": 11,
   "metadata": {},
   "outputs": [
    {
     "data": {
      "application/vnd.jupyter.widget-view+json": {
       "model_id": "df537dbf74ac418d94b1fc5e88be848b",
       "version_major": 2,
       "version_minor": 0
      },
      "text/plain": [
       "interactive(children=(IntSlider(value=1, description='d', max=1000, min=1), Output()), _dom_classes=('widget-i…"
      ]
     },
     "metadata": {},
     "output_type": "display_data"
    }
   ],
   "source": [
    "xx = range(M)\n",
    "\n",
    "def update(d = 1):\n",
    "    plt.plot(xx, _f, xx, fhats[d-1])\n",
    "    axes = plt.gca()\n",
    "    axes.set_ylim(ylim)\n",
    "    \n",
    "slider = widgets.interact(update, d=widgets.IntSlider(min=1, max=M, step=1, value=1))"
   ]
  },
  {
   "cell_type": "code",
   "execution_count": null,
   "metadata": {},
   "outputs": [],
   "source": []
  },
  {
   "cell_type": "markdown",
   "metadata": {},
   "source": [
    "### With noise"
   ]
  },
  {
   "cell_type": "code",
   "execution_count": 12,
   "metadata": {},
   "outputs": [],
   "source": [
    "N = 900\n",
    "noise = 0.001\n",
    "reg = 1\n",
    "S = np.random.choice(M, size=N, replace=True)\n",
    "y = _f[S] + noise * np.random.normal(size=N)"
   ]
  },
  {
   "cell_type": "code",
   "execution_count": 13,
   "metadata": {},
   "outputs": [],
   "source": [
    "RF = rfmap(M)\n",
    "err = np.zeros(M)\n",
    "fhats = np.zeros((M,M))\n",
    "for d in range(1, M+1):\n",
    "    X = RF[S, :d] \n",
    "    fhat, theta = ols(X, y, reg)\n",
    "    err[d-1] = np.linalg.norm(np.matmul(RF[:, :d], theta) - _f, ord=1) / N\n",
    "    fhats[d-1] = np.matmul(RF[:, :d], theta)"
   ]
  },
  {
   "cell_type": "code",
   "execution_count": 14,
   "metadata": {
    "scrolled": true
   },
   "outputs": [
    {
     "data": {
      "text/plain": [
       "[<matplotlib.lines.Line2D at 0x7f9e994ca128>]"
      ]
     },
     "execution_count": 14,
     "metadata": {},
     "output_type": "execute_result"
    },
    {
     "data": {
      "image/png": "[encoded data removed]",
      "text/plain": [
       "<Figure size 432x288 with 1 Axes>"
      ]
     },
     "metadata": {
      "needs_background": "light"
     },
     "output_type": "display_data"
    }
   ],
   "source": [
    "plt.plot(range(M), err)"
   ]
  },
  {
   "cell_type": "code",
   "execution_count": 15,
   "metadata": {},
   "outputs": [
    {
     "data": {
      "application/vnd.jupyter.widget-view+json": {
       "model_id": "01362249843343ff9c91da12e29578ba",
       "version_major": 2,
       "version_minor": 0
      },
      "text/plain": [
       "interactive(children=(IntSlider(value=1000, description='d', max=1000, min=1), Output()), _dom_classes=('widge…"
      ]
     },
     "metadata": {},
     "output_type": "display_data"
    }
   ],
   "source": [
    "xx = range(M)\n",
    "\n",
    "def update(d = 1):\n",
    "    plt.scatter(S,y)\n",
    "    plt.plot(xx, fhats[d-1])\n",
    "    axes = plt.gca()\n",
    "    axes.set_ylim(ylim)\n",
    "    \n",
    "slider = widgets.interact(update, d=widgets.IntSlider(min=1, max=M, step=1, value=M))"
   ]
  },
  {
   "cell_type": "code",
   "execution_count": null,
   "metadata": {},
   "outputs": [],
   "source": []
  },
  {
   "cell_type": "markdown",
   "metadata": {},
   "source": [
    "# Linear case\n",
    "\n",
    "$x\\in\\mathbb{R}^m$"
   ]
  },
  {
   "cell_type": "code",
   "execution_count": 16,
   "metadata": {},
   "outputs": [],
   "source": [
    "def make_fun(m):\n",
    "    param = 2 * np.random.uniform(size=m) - 1\n",
    "    return lambda x : np.matmul(x, param)"
   ]
  },
  {
   "cell_type": "code",
   "execution_count": 17,
   "metadata": {},
   "outputs": [],
   "source": [
    "#This represents functions of the form <x,c> + d\n",
    "def make_rfm(d, m):\n",
    "    A = np.random.normal(size=(d, m))\n",
    "    b = np.random.normal(size=d)\n",
    "    return lambda X: np.matmul(A, X.T).T + b"
   ]
  },
  {
   "cell_type": "code",
   "execution_count": 18,
   "metadata": {},
   "outputs": [],
   "source": [
    "def ls(A, b, reg=0):\n",
    "    return np.linalg.solve(np.matmul(A.T, A) + reg * np.eye(A.shape[-1]), np.matmul(A.T, b))"
   ]
  },
  {
   "cell_type": "code",
   "execution_count": 19,
   "metadata": {},
   "outputs": [],
   "source": [
    "def rf_approx(X, y, d, reg=0):\n",
    "    rfm = make_rfm(d, X.shape[-1])\n",
    "    Phi = rfm(X) #Nxd\n",
    "    theta = ls(Phi, y, reg)\n",
    "    yhat = np.matmul(Phi, theta)\n",
    "    return yhat, rfm, theta"
   ]
  },
  {
   "cell_type": "code",
   "execution_count": 20,
   "metadata": {},
   "outputs": [],
   "source": [
    "def gen_rank(n, m, r):\n",
    "    A = 2 * np.random.uniform(size=(n, r)) - 1\n",
    "    B = 2 * np.random.uniform(size=(r, r)) - 1\n",
    "    C = 2 * np.random.uniform(size=(r, m)) - 1\n",
    "    M = np.matmul(np.matmul(A, B), C)\n",
    "    assert np.linalg.matrix_rank(M) == r\n",
    "    return M"
   ]
  },
  {
   "cell_type": "markdown",
   "metadata": {},
   "source": [
    "### Scalar example"
   ]
  },
  {
   "cell_type": "code",
   "execution_count": 21,
   "metadata": {},
   "outputs": [
    {
     "data": {
      "text/plain": [
       "(-1.0, 1.0)"
      ]
     },
     "execution_count": 21,
     "metadata": {},
     "output_type": "execute_result"
    },
    {
     "data": {
      "image/png": "[encoded data removed]",
      "text/plain": [
       "<Figure size 432x288 with 1 Axes>"
      ]
     },
     "metadata": {
      "needs_background": "light"
     },
     "output_type": "display_data"
    }
   ],
   "source": [
    "m = 1\n",
    "N = 100\n",
    "noise = 0\n",
    "d = 2\n",
    "\n",
    "f = make_fun(m)\n",
    "X = 2 * np.random.uniform(size=(N, m)) - 1\n",
    "y = f(X) + noise * np.random.normal(size=N)\n",
    "yhat, _, _ = rf_approx(X, y, d)\n",
    "xx = np.linspace(-1,1,100)\n",
    "plt.scatter(X, y)\n",
    "plt.plot(X, yhat)\n",
    "ax = plt.gca()\n",
    "ax.set_ylim([-1,1])\n",
    "ax.set_xlim([-1,1])"
   ]
  },
  {
   "cell_type": "markdown",
   "metadata": {},
   "source": [
    "### Full-rank case"
   ]
  },
  {
   "cell_type": "code",
   "execution_count": 22,
   "metadata": {},
   "outputs": [
    {
     "data": {
      "text/plain": [
       "<matplotlib.legend.Legend at 0x7f9e903fc0b8>"
      ]
     },
     "execution_count": 22,
     "metadata": {},
     "output_type": "execute_result"
    },
    {
     "data": {
      "image/png": "[encoded data removed]",
      "text/plain": [
       "<Figure size 432x288 with 1 Axes>"
      ]
     },
     "metadata": {
      "needs_background": "light"
     },
     "output_type": "display_data"
    }
   ],
   "source": [
    "m = 100\n",
    "N = 500\n",
    "noise = 0.1\n",
    "reg = 0\n",
    "norm_ord = 1\n",
    "max_d = 2 * m\n",
    "\n",
    "f = make_fun(m)\n",
    "X = 2 * np.random.uniform(size=(N, m)) - 1\n",
    "y = f(X) + noise * np.random.normal(size=N)\n",
    "ls_param = ls(X, y, reg)\n",
    "yls = np.matmul(X, ls_param)\n",
    "lserr = np.linalg.norm(yls - y, ord=norm_ord)**norm_ord / N\n",
    "lsrank = np.linalg.matrix_rank(X)\n",
    "\n",
    "X_test = 2 * np.random.uniform(size=(N, m)) - 1\n",
    "y_test = f(X_test) + noise * np.random.normal(size=N)\n",
    "yls_test = np.matmul(X_test, ls_param)\n",
    "test_lserr = np.linalg.norm(yls_test - y_test, ord=norm_ord)**norm_ord / N\n",
    "\n",
    "err = []\n",
    "test_err = []\n",
    "ranks = []\n",
    "for d in range(1, max_d+1):\n",
    "    yhat, rfm, theta = rf_approx(X, y, d, reg)\n",
    "    err.append(np.linalg.norm(y - yhat, ord=norm_ord)**norm_ord / N)\n",
    "    ranks.append(np.linalg.matrix_rank(rfm(X)))\n",
    "    \n",
    "    #Test\n",
    "    yhat_test = np.matmul(rfm(X_test), theta)\n",
    "    test_err.append(np.linalg.norm(y_test - yhat_test, ord=norm_ord)**norm_ord / N)\n",
    "\n",
    "xx = range(1, max_d+1)\n",
    "plt.plot(xx, err)\n",
    "plt.plot(xx, test_err)\n",
    "plt.plot([xx[0], xx[-1]], [lserr, lserr])\n",
    "plt.plot([xx[0], xx[-1]], [test_lserr, test_lserr])\n",
    "plt.xlabel('d')\n",
    "plt.legend(('Training error', 'Test error', 'LS', 'LS test'))"
   ]
  },
  {
   "cell_type": "code",
   "execution_count": 23,
   "metadata": {},
   "outputs": [
    {
     "data": {
      "text/plain": [
       "(0.0, 0.7531784719329361)"
      ]
     },
     "execution_count": 23,
     "metadata": {},
     "output_type": "execute_result"
    },
    {
     "data": {
      "image/png": "[encoded data removed]",
      "text/plain": [
       "<Figure size 432x288 with 1 Axes>"
      ]
     },
     "metadata": {
      "needs_background": "light"
     },
     "output_type": "display_data"
    }
   ],
   "source": [
    "xx = range(1, max_d+1)\n",
    "plt.plot(xx, err)\n",
    "plt.plot(xx, test_err)\n",
    "plt.plot([xx[0], xx[-1]], [lserr, lserr])\n",
    "plt.plot([xx[0], xx[-1]], [test_lserr, test_lserr])\n",
    "plt.xlabel('d')\n",
    "plt.legend(('Training error', 'Test error', 'LS', 'LS test'))\n",
    "plt.gca().set_xlim((m-3, m+3))\n",
    "plt.gca().set_ylim((0,err[m-4]))"
   ]
  },
  {
   "cell_type": "code",
   "execution_count": 24,
   "metadata": {},
   "outputs": [
    {
     "name": "stdout",
     "output_type": "stream",
     "text": [
      "100 101\n"
     ]
    },
    {
     "data": {
      "text/plain": [
       "<matplotlib.legend.Legend at 0x7f9eba019550>"
      ]
     },
     "execution_count": 24,
     "metadata": {},
     "output_type": "execute_result"
    },
    {
     "data": {
      "image/png": "[encoded data removed]",
      "text/plain": [
       "<Figure size 432x288 with 1 Axes>"
      ]
     },
     "metadata": {
      "needs_background": "light"
     },
     "output_type": "display_data"
    }
   ],
   "source": [
    "print(lsrank, np.max(ranks))\n",
    "plt.plot(xx, ranks)\n",
    "plt.plot((xx[0], xx[-1]),(lsrank, lsrank))\n",
    "plt.legend(('rank after rf', 'original rank'))"
   ]
  },
  {
   "cell_type": "code",
   "execution_count": 25,
   "metadata": {},
   "outputs": [
    {
     "name": "stdout",
     "output_type": "stream",
     "text": [
      "1 2.5426090513013233 2.51015183619977 \n",
      "\n",
      "2 2.60777656621826 2.5375418934924525 \n",
      "\n",
      "3 2.601990181125333 2.534734386074181 \n",
      "\n",
      "4 2.5820872690562253 2.4733022798246327 \n",
      "\n",
      "5 2.534570603891234 2.4457712058757455 \n",
      "\n",
      "6 2.586717892548279 2.5492463658880973 \n",
      "\n",
      "7 2.564957419345781 2.510650152544023 \n",
      "\n",
      "8 2.522143833926293 2.5196109908684523 \n",
      "\n",
      "9 2.5904961777722884 2.5306079762917992 \n",
      "\n",
      "10 2.529601615612291 2.5004743256869166 \n",
      "\n",
      "11 2.53351106543031 2.4792107811775144 \n",
      "\n",
      "12 2.4318029692604695 2.440126581093247 \n",
      "\n",
      "13 2.2951891478948747 2.277299771660624 \n",
      "\n",
      "14 2.4138137591729034 2.4607583847126966 \n",
      "\n",
      "15 2.159665951183665 2.223581576601495 \n",
      "\n",
      "16 2.3762011678938735 2.420343114331462 \n",
      "\n",
      "17 2.2210617519411424 2.23759737937651 \n",
      "\n",
      "18 2.3856501164866724 2.3597342606967455 \n",
      "\n",
      "19 2.4324477451216944 2.478344084545415 \n",
      "\n",
      "20 2.3836261194487722 2.429483214831107 \n",
      "\n",
      "21 2.434468214549881 2.4960018615472492 \n",
      "\n",
      "22 2.301125952607299 2.2692998472859545 \n",
      "\n",
      "23 2.3195235377387244 2.384117417686379 \n",
      "\n",
      "24 2.140124473943531 2.1455192453199756 \n",
      "\n",
      "25 2.207851332031288 2.3174935253029307 \n",
      "\n",
      "26 2.103658003991127 2.1757490328661806 \n",
      "\n",
      "27 2.203912764356647 2.2854789894442393 \n",
      "\n",
      "28 2.2950317922259673 2.3550549948484734 \n",
      "\n",
      "29 2.261999079368055 2.2260737924786063 \n",
      "\n",
      "30 2.167384299501861 2.1811645327849045 \n",
      "\n",
      "31 2.1373716167825325 2.131617678611839 \n",
      "\n",
      "32 2.2128376262862766 2.3194852543640465 \n",
      "\n",
      "33 1.8545508881819601 1.9764349390526073 \n",
      "\n",
      "34 2.208423397333455 2.304924461613329 \n",
      "\n",
      "35 2.024385797811378 2.182191787544697 \n",
      "\n",
      "36 1.8803497961376583 2.0194169268556417 \n",
      "\n",
      "37 2.141716573015926 2.119890444704158 \n",
      "\n",
      "38 2.248992528629223 2.2308774852697506 \n",
      "\n",
      "39 1.8081033265346451 1.9736488748643746 \n",
      "\n",
      "40 1.8709404944123518 2.0785357424207476 \n",
      "\n",
      "41 1.7007814116328897 1.9260037078024215 \n",
      "\n",
      "42 1.8412187198062164 2.100410630679749 \n",
      "\n",
      "43 2.0050848000620163 2.173395798448573 \n",
      "\n",
      "44 1.8609696363408734 2.005594121342989 \n",
      "\n",
      "45 1.8674397761053283 1.9512535118129153 \n",
      "\n",
      "46 1.9456972072218433 2.1244174396276048 \n",
      "\n",
      "47 1.753979602113579 2.0042487460542695 \n",
      "\n",
      "48 1.7757899519085705 1.8999364910145928 \n",
      "\n",
      "49 1.8509041648630213 1.9677996047179591 \n",
      "\n",
      "50 1.5702079850570205 1.8085066549484086 \n",
      "\n",
      "51 1.737708808948749 1.8994869162166275 \n",
      "\n",
      "52 1.6901326449977938 1.931939076706347 \n",
      "\n",
      "53 1.7317770843625613 1.9820319495545542 \n",
      "\n",
      "54 1.5480767002662628 1.6812621670307566 \n",
      "\n",
      "55 1.5588057894789453 1.686533054670625 \n",
      "\n",
      "56 1.8024938577208287 1.8959875496890655 \n",
      "\n",
      "57 1.6994643365378037 1.852260664177849 \n",
      "\n",
      "58 1.7304719060981206 1.8582756649443595 \n",
      "\n",
      "59 1.6523760872722255 1.8523860103733782 \n",
      "\n",
      "60 1.7754248161296426 1.9300760230563918 \n",
      "\n",
      "61 1.5481260063561322 1.6972684496262274 \n",
      "\n",
      "62 1.414222659836961 1.5908331708179477 \n",
      "\n",
      "63 1.510251401029087 1.7456286917081278 \n",
      "\n",
      "64 1.270611833485107 1.5525086954188836 \n",
      "\n",
      "65 1.3623311823784285 1.5810710340969731 \n",
      "\n",
      "66 1.590158297321572 1.8416818733726772 \n",
      "\n",
      "67 1.2204597253417802 1.4462340992899052 \n",
      "\n",
      "68 1.0967363468691615 1.2397254326604026 \n",
      "\n",
      "69 1.6772987484470794 1.9129615045861303 \n",
      "\n",
      "70 1.5941529630513929 1.7353522556080705 \n",
      "\n",
      "71 1.172237333821452 1.4712058658626865 \n",
      "\n",
      "72 1.3703715939202685 1.5778752131588711 \n",
      "\n",
      "73 1.5172709579916337 1.820111842989872 \n",
      "\n",
      "74 1.264068650061888 1.4059101345434528 \n",
      "\n",
      "75 1.2490562406267969 1.585554133864608 \n",
      "\n",
      "76 1.0204200245111061 1.1864255666991752 \n",
      "\n",
      "77 0.906833069489306 1.1288744584079045 \n",
      "\n",
      "78 1.2721177575139053 1.4552274706633053 \n",
      "\n",
      "79 1.3111972304507817 1.4641025773508327 \n",
      "\n",
      "80 1.237144082709905 1.4261454930980946 \n",
      "\n",
      "81 1.0023464045627064 1.279766919295483 \n",
      "\n",
      "82 0.7669567881125658 0.9406918409181314 \n",
      "\n",
      "83 1.0798427424909565 1.3351856158341358 \n",
      "\n",
      "84 0.7568192949424161 0.8588723003776643 \n",
      "\n",
      "85 1.0927230071528693 1.3634679811112118 \n",
      "\n",
      "86 0.8395586747065892 0.9139765768087732 \n",
      "\n",
      "87 0.7969585256366972 0.9707254467464959 \n",
      "\n",
      "88 0.851244576561994 0.9876144839160149 \n",
      "\n",
      "89 0.8861835882066432 1.1559650324271042 \n",
      "\n",
      "90 0.797369819976954 0.914935319757758 \n",
      "\n",
      "91 0.8544709215997145 0.9424856383005344 \n",
      "\n",
      "92 0.4546349799483399 0.49080685762704296 \n",
      "\n",
      "93 0.6893408837818631 0.8278412823696799 \n",
      "\n",
      "94 0.703211497817611 0.8425989544689737 \n",
      "\n",
      "95 0.5098298609296321 0.627183875764469 \n",
      "\n",
      "96 0.5555756751606757 0.7734993594114971 \n",
      "\n",
      "97 0.7531784719329361 0.9727664666484135 \n",
      "\n",
      "98 0.34734062428572265 0.442238584816879 \n",
      "\n",
      "99 0.26208863649681474 0.35822423196449393 \n",
      "\n",
      "100 0.31150150405376803 0.4072949169469457 \n",
      "\n",
      "101 0.06606179992515163 0.08918144249329106 \n",
      "\n",
      "102 0.0660617999251405 0.08918144249332763 \n",
      "\n",
      "103 0.06606179992513288 0.08918144249331858 \n",
      "\n",
      "104 0.06606179992514513 0.0891814424933263 \n",
      "\n",
      "105 0.06606179992513717 0.08918144249332041 \n",
      "\n",
      "106 0.0660617999251299 0.08918144249334754 \n",
      "\n",
      "107 0.06606179992514774 0.08918144249333335 \n",
      "\n",
      "108 0.06606179992514402 0.08918144249333614 \n",
      "\n",
      "109 0.06606179992514334 0.08918144249332983 \n",
      "\n",
      "110 0.06606179992514451 0.089181442493331 \n",
      "\n",
      "111 0.06606179992513965 0.08918144249332129 \n",
      "\n",
      "112 0.06606179992514374 0.08918144249332585 \n",
      "\n",
      "113 0.06606179992514531 0.08918144249332735 \n",
      "\n",
      "114 0.06606179992516134 0.08918144249325213 \n",
      "\n",
      "115 0.06606179992514337 0.08918144249332247 \n",
      "\n",
      "116 0.06606179992514417 0.08918144249333139 \n",
      "\n",
      "117 0.06606179992514154 0.08918144249332946 \n",
      "\n",
      "118 0.06606179992514259 0.08918144249332968 \n",
      "\n",
      "119 0.06606179992514609 0.08918144249331002 \n",
      "\n",
      "120 0.066061799925143 0.08918144249331483 \n",
      "\n",
      "121 0.06606179992514458 0.0891814424933313 \n",
      "\n",
      "122 0.06606179992514458 0.08918144249332718 \n",
      "\n",
      "123 0.06606179992514283 0.08918144249333068 \n",
      "\n",
      "124 0.06606179992515866 0.08918144249335318 \n",
      "\n",
      "125 0.06606179992513925 0.08918144249333147 \n",
      "\n",
      "126 0.06606179992514626 0.0891814424933257 \n",
      "\n",
      "127 0.06606179992514571 0.08918144249333033 \n",
      "\n",
      "128 0.0660617999251445 0.08918144249332786 \n",
      "\n",
      "129 0.06606179992514612 0.08918144249333626 \n",
      "\n",
      "130 0.06606179992514324 0.0891814424933274 \n",
      "\n",
      "131 0.06606179992514259 0.08918144249333447 \n",
      "\n",
      "132 0.06606179992514362 0.0891814424933293 \n",
      "\n",
      "133 0.06606179992514402 0.08918144249333161 \n",
      "\n",
      "134 0.06606179992514408 0.08918144249332885 \n",
      "\n",
      "135 0.06606179992514433 0.08918144249333079 \n",
      "\n",
      "136 0.06606179992514379 0.08918144249332444 \n",
      "\n",
      "137 0.06606179992514598 0.08918144249332167 \n",
      "\n",
      "138 0.06606179992514506 0.0891814424933261 \n",
      "\n",
      "139 0.06606179992514433 0.08918144249332985 \n",
      "\n",
      "140 0.06606179992514528 0.08918144249332366 \n",
      "\n",
      "141 0.06606179992514517 0.08918144249332655 \n",
      "\n",
      "142 0.06606179992514313 0.08918144249341003 \n",
      "\n",
      "143 0.06606179992514379 0.08918144249333344 \n",
      "\n",
      "144 0.06606179992514374 0.08918144249332298 \n",
      "\n",
      "145 0.06606179992514337 0.08918144249332856 \n",
      "\n",
      "146 0.06606179992513592 0.08918144249333247 \n",
      "\n",
      "147 0.06606179992514359 0.08918144249333378 \n",
      "\n",
      "148 0.06606179992514519 0.08918144249333286 \n",
      "\n",
      "149 0.06606179992514674 0.08918144249334571 \n",
      "\n",
      "150 0.06606179992514416 0.08918144249332857 \n",
      "\n",
      "151 0.0660617999251427 0.08918144249332213 \n",
      "\n",
      "152 0.06606179992514506 0.08918144249333085 \n",
      "\n",
      "153 0.06606179992513966 0.08918144249332347 \n",
      "\n",
      "154 0.06606179992514095 0.08918144249333303 \n",
      "\n",
      "155 0.0660617999251431 0.08918144249333097 \n",
      "\n",
      "156 0.06606179992514373 0.08918144249332759 \n",
      "\n",
      "157 0.06606179992514134 0.08918144249331693 \n",
      "\n",
      "158 0.06606179992514433 0.08918144249332649 \n",
      "\n",
      "159 0.06606179992514334 0.08918144249332983 \n",
      "\n",
      "160 0.06606179992514234 0.0891814424933312 \n",
      "\n",
      "161 0.06606179992515056 0.08918144249335698 \n",
      "\n",
      "162 0.06606179992514395 0.08918144249332559 \n",
      "\n",
      "163 0.06606179992514354 0.08918144249332764 \n",
      "\n",
      "164 0.06606179992514706 0.08918144249332227 \n",
      "\n",
      "165 0.0660617999251424 0.08918144249333912 \n",
      "\n",
      "166 0.06606179992514782 0.08918144249331576 \n",
      "\n",
      "167 0.06606179992514273 0.08918144249333071 \n",
      "\n",
      "168 0.0660617999251433 0.08918144249332868 \n",
      "\n",
      "169 0.06606179992514548 0.08918144249332997 \n",
      "\n",
      "170 0.06606179992513944 0.08918144249332718 \n",
      "\n",
      "171 0.06606179992514626 0.08918144249332954 \n",
      "\n",
      "172 0.0660617999251434 0.08918144249333144 \n",
      "\n",
      "173 0.06606179992514928 0.08918144249333028 \n",
      "\n",
      "174 0.06606179992514208 0.08918144249332399 \n",
      "\n",
      "175 0.06606179992514455 0.08918144249333006 \n",
      "\n",
      "176 0.06606179992514347 0.08918144249332838 \n",
      "\n",
      "177 0.06606179992514373 0.08918144249332821 \n",
      "\n",
      "178 0.06606179992514562 0.08918144249332374 \n",
      "\n",
      "179 0.06606179992514395 0.08918144249332961 \n",
      "\n",
      "180 0.0660617999251707 0.08918144249320042 \n",
      "\n",
      "181 0.06606179992513846 0.08918144249333486 \n",
      "\n",
      "182 0.06606179992514438 0.08918144249332474 \n",
      "\n",
      "183 0.06606179992513694 0.08918144249331568 \n",
      "\n",
      "184 0.06606179992514745 0.08918144249333197 \n",
      "\n",
      "185 0.06606179992514545 0.08918144249332935 \n",
      "\n",
      "186 0.06606179992514645 0.08918144249332491 \n",
      "\n",
      "187 0.06606179992514365 0.08918144249332778 \n",
      "\n",
      "188 0.06606179992514671 0.0891814424933296 \n",
      "\n",
      "189 0.06606179992514367 0.08918144249332877 \n",
      "\n",
      "190 0.06606179992514334 0.08918144249332367 \n",
      "\n",
      "191 0.06606179992514348 0.0891814424933273 \n",
      "\n",
      "192 0.06606179992514455 0.08918144249332914 \n",
      "\n",
      "193 0.06606179992514702 0.08918144249334048 \n",
      "\n",
      "194 0.0660617999251456 0.08918144249332909 \n",
      "\n",
      "195 0.06606179992514805 0.089181442493332 \n",
      "\n",
      "196 0.0660617999251451 0.08918144249334535 \n",
      "\n",
      "197 0.06606179992514276 0.08918144249333033 \n",
      "\n",
      "198 0.0660617999251475 0.08918144249331367 \n",
      "\n",
      "199 0.0660617999251428 0.08918144249333296 \n",
      "\n",
      "200 0.0660617999251445 0.08918144249332863 \n",
      "\n"
     ]
    }
   ],
   "source": [
    "for i in range(max_d): print(i+1, err[i], test_err[i], '\\n')"
   ]
  },
  {
   "cell_type": "code",
   "execution_count": null,
   "metadata": {},
   "outputs": [],
   "source": []
  },
  {
   "cell_type": "markdown",
   "metadata": {},
   "source": [
    "### The rank-deficient case"
   ]
  },
  {
   "cell_type": "code",
   "execution_count": 26,
   "metadata": {},
   "outputs": [
    {
     "data": {
      "text/plain": [
       "93"
      ]
     },
     "execution_count": 26,
     "metadata": {},
     "output_type": "execute_result"
    },
    {
     "data": {
      "image/png": "[encoded data removed]",
      "text/plain": [
       "<Figure size 432x288 with 1 Axes>"
      ]
     },
     "metadata": {
      "needs_background": "light"
     },
     "output_type": "display_data"
    }
   ],
   "source": [
    "m = 100\n",
    "N = 1000\n",
    "noise = 0.1\n",
    "reg = 0.1\n",
    "norm_ord = 1\n",
    "max_d = 3*m\n",
    "rank = m - 1\n",
    "\n",
    "f = make_fun(m)\n",
    "\n",
    "#Contexts do not span R^d\n",
    "X = gen_rank(N, m, rank)\n",
    "lsrank = np.linalg.matrix_rank(X)\n",
    "\n",
    "y = f(X) + noise * np.random.normal(size=N)\n",
    "ls_param = ls(X, y, reg)\n",
    "yls = np.matmul(X, ls_param)\n",
    "lserr = np.linalg.norm(yls - y, ord=norm_ord)**norm_ord / N\n",
    "\n",
    "X_test = gen_rank(N, m, rank)\n",
    "y_test = f(X_test) + noise * np.random.normal(size=N)\n",
    "yls_test = np.matmul(X_test, ls_param)\n",
    "test_lserr = np.linalg.norm(yls_test - y_test, ord=norm_ord)**norm_ord / N\n",
    "\n",
    "err = []\n",
    "test_err = []\n",
    "ranks = []\n",
    "for d in range(1, max_d+1):\n",
    "    yhat, rfm, theta = rf_approx(X, y, d, reg)\n",
    "    err.append(np.linalg.norm(y - yhat, ord=norm_ord)**norm_ord / N)\n",
    "    #print(rfm(X).shape)\n",
    "    ranks.append(np.linalg.matrix_rank(rfm(X)))\n",
    "    \n",
    "    #Test\n",
    "    yhat_test = np.matmul(rfm(X_test), theta)\n",
    "    test_err.append(np.linalg.norm(y_test - yhat_test, ord=norm_ord)**norm_ord / N)\n",
    "\n",
    "xx = range(1, max_d+1)\n",
    "plt.plot(xx, err)\n",
    "plt.plot(xx, test_err)\n",
    "plt.plot([xx[0], xx[-1]], [lserr, lserr])\n",
    "plt.plot([xx[0], xx[-1]], [test_lserr, test_lserr])\n",
    "plt.xlabel('d')\n",
    "plt.legend(('Training error', 'Test error', 'LS', 'LS test'))\n",
    "np.argmax(test_err)"
   ]
  },
  {
   "cell_type": "code",
   "execution_count": 27,
   "metadata": {},
   "outputs": [
    {
     "name": "stdout",
     "output_type": "stream",
     "text": [
      "99 100\n"
     ]
    },
    {
     "data": {
      "text/plain": [
       "Text(0.5, 0, 'd')"
      ]
     },
     "execution_count": 27,
     "metadata": {},
     "output_type": "execute_result"
    },
    {
     "data": {
      "image/png": "[encoded data removed]",
      "text/plain": [
       "<Figure size 432x288 with 1 Axes>"
      ]
     },
     "metadata": {
      "needs_background": "light"
     },
     "output_type": "display_data"
    }
   ],
   "source": [
    "print(lsrank, np.max(ranks))\n",
    "plt.plot(xx, ranks)\n",
    "plt.plot((xx[0], xx[-1]),(lsrank, lsrank))\n",
    "plt.legend(('rank after rf', 'original rank'))\n",
    "plt.xlabel('d')"
   ]
  },
  {
   "cell_type": "markdown",
   "metadata": {},
   "source": [
    "### Playing with perturbed matrices"
   ]
  },
  {
   "cell_type": "code",
   "execution_count": 31,
   "metadata": {},
   "outputs": [
    {
     "name": "stdout",
     "output_type": "stream",
     "text": [
      "1000\n",
      "2\n",
      "RFN:\n",
      "1/1000\n",
      "19/1000\n",
      "1000/1000\n"
     ]
    },
    {
     "data": {
      "text/plain": [
       "[<matplotlib.lines.Line2D at 0x7f9e90541940>]"
      ]
     },
     "execution_count": 31,
     "metadata": {},
     "output_type": "execute_result"
    },
    {
     "data": {
      "image/png": "[encoded data removed]",
      "text/plain": [
       "<Figure size 432x288 with 1 Axes>"
      ]
     },
     "metadata": {
      "needs_background": "light"
     },
     "output_type": "display_data"
    }
   ],
   "source": [
    "n = 1000\n",
    "m = n\n",
    "r = 1\n",
    "A = gen_rank(n,m,r)\n",
    "std = 1\n",
    "\n",
    "B = A + np.random.normal(size=(n, m), scale=std)\n",
    "print(np.linalg.matrix_rank(B))\n",
    "\n",
    "C = A + np.random.normal(size=m, scale=std)\n",
    "print(np.linalg.matrix_rank(C))\n",
    "\n",
    "\n",
    "print('RFN:')\n",
    "D = A\n",
    "rank = np.linalg.matrix_rank(D)\n",
    "ranks = [rank]\n",
    "print('%d/%d' % (rank, min(m, n)))\n",
    "max_layers = 100\n",
    "activation = np.cos\n",
    "#activation = lambda X: np.maximum(X, 0)\n",
    "#activation = lambda X: X**2 / np.linalg.norm(X**2, 2)\n",
    "#activation = lambda X: 0.01 * X**2\n",
    "while(np.linalg.matrix_rank(D) < min(n, m) and len(ranks) < max_layers):\n",
    "    W = np.random.normal(size=(n,n), scale=std)\n",
    "    b = np.random.normal(size=m, scale=std)\n",
    "    D = np.matmul(W, D) + b\n",
    "    D = activation(D)\n",
    "    rank = np.linalg.matrix_rank(D)\n",
    "    ranks.append(rank)\n",
    "    print('%d/%d' % (rank, min(m, n)))\n",
    "plt.plot(range(len(ranks)), ranks)"
   ]
  },
  {
   "cell_type": "code",
   "execution_count": null,
   "metadata": {},
   "outputs": [],
   "source": []
  }
 ],
 "metadata": {
  "kernelspec": {
   "display_name": "Python 3",
   "language": "python",
   "name": "python3"
  },
  "language_info": {
   "codemirror_mode": {
    "name": "ipython",
    "version": 3
   },
   "file_extension": ".py",
   "mimetype": "text/x-python",
   "name": "python",
   "nbconvert_exporter": "python",
   "pygments_lexer": "ipython3",
   "version": "3.6.12"
  }
 },
 "nbformat": 4,
 "nbformat_minor": 4
}
