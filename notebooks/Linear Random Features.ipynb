{
 "cells": [
  {
   "cell_type": "code",
   "execution_count": 29,
   "metadata": {},
   "outputs": [],
   "source": [
    "import numpy as np\n",
    "import matplotlib.pyplot as plt\n",
    "import ipywidgets as widgets"
   ]
  },
  {
   "cell_type": "markdown",
   "metadata": {},
   "source": [
    "# Finite case\n",
    "$x\\in[M]$"
   ]
  },
  {
   "cell_type": "code",
   "execution_count": 30,
   "metadata": {},
   "outputs": [],
   "source": [
    "M = 1000"
   ]
  },
  {
   "cell_type": "markdown",
   "metadata": {},
   "source": [
    "### True function"
   ]
  },
  {
   "cell_type": "code",
   "execution_count": 31,
   "metadata": {},
   "outputs": [],
   "source": [
    "_d = 10\n",
    "param = np.random.uniform(size=_d) - 1/2\n",
    "fmap = np.array([[(x/M)**y for y in range(_d)] for x in range(M)])\n",
    "#fmap = np.random.uniform(size = (M, _d))\n",
    "_f = np.matmul(fmap, param)\n",
    "f = lambda x: _f[x]"
   ]
  },
  {
   "cell_type": "code",
   "execution_count": 32,
   "metadata": {},
   "outputs": [
    {
     "data": {
      "text/plain": [
       "[<matplotlib.lines.Line2D at 0x7fa54a917898>]"
      ]
     },
     "execution_count": 32,
     "metadata": {},
     "output_type": "execute_result"
    },
    {
     "data": {
      "image/png": "[encoded data removed]",
      "text/plain": [
       "<Figure size 432x288 with 1 Axes>"
      ]
     },
     "metadata": {
      "needs_background": "light"
     },
     "output_type": "display_data"
    }
   ],
   "source": [
    "plt.plot(range(M), _f)"
   ]
  },
  {
   "cell_type": "code",
   "execution_count": 33,
   "metadata": {},
   "outputs": [],
   "source": [
    "ylim = [min(_f)-0.1, max(_f)+0.1]"
   ]
  },
  {
   "cell_type": "markdown",
   "metadata": {},
   "source": [
    "### Approximation with d random features (no noise)"
   ]
  },
  {
   "cell_type": "code",
   "execution_count": 34,
   "metadata": {},
   "outputs": [],
   "source": [
    "def rfmap(d):\n",
    "    return np.random.normal(size=(M,d))"
   ]
  },
  {
   "cell_type": "code",
   "execution_count": 35,
   "metadata": {},
   "outputs": [],
   "source": [
    "def ols(X, y, reg=0):\n",
    "    A = np.matmul(X.T,X) + reg * np.eye(d)\n",
    "    b = np.matmul(X.T, y)\n",
    "    theta = np.linalg.solve(A,b)\n",
    "    return np.matmul(X, theta), theta"
   ]
  },
  {
   "cell_type": "code",
   "execution_count": 36,
   "metadata": {},
   "outputs": [],
   "source": [
    "RF = rfmap(M)\n",
    "err = np.zeros(M)\n",
    "perr = np.zeros(M)\n",
    "fhats = np.zeros((M,M))\n",
    "for d in range(1, M+1):\n",
    "    X = RF[:, :d] \n",
    "    y = _f\n",
    "    fhat, theta = ols(X, y)\n",
    "    fhats[d-1] = fhat\n",
    "    err[d-1] = np.linalg.norm(fhat - _f, ord=1) / M\n",
    "    "
   ]
  },
  {
   "cell_type": "code",
   "execution_count": 37,
   "metadata": {
    "scrolled": true
   },
   "outputs": [
    {
     "data": {
      "text/plain": [
       "[<matplotlib.lines.Line2D at 0x7fa53beccda0>]"
      ]
     },
     "execution_count": 37,
     "metadata": {},
     "output_type": "execute_result"
    },
    {
     "data": {
      "image/png": "[encoded data removed]",
      "text/plain": [
       "<Figure size 432x288 with 1 Axes>"
      ]
     },
     "metadata": {
      "needs_background": "light"
     },
     "output_type": "display_data"
    }
   ],
   "source": [
    "plt.plot(range(M), err)\n",
    "plt.plot(range(M), 0.2/np.sqrt(range(1,M+1)))"
   ]
  },
  {
   "cell_type": "code",
   "execution_count": 38,
   "metadata": {},
   "outputs": [
    {
     "data": {
      "application/vnd.jupyter.widget-view+json": {
       "model_id": "2eb94eed38234264a8307b6608f51c65",
       "version_major": 2,
       "version_minor": 0
      },
      "text/plain": [
       "interactive(children=(IntSlider(value=1, description='d', max=1000, min=1), Output()), _dom_classes=('widget-i…"
      ]
     },
     "metadata": {},
     "output_type": "display_data"
    }
   ],
   "source": [
    "xx = range(M)\n",
    "\n",
    "def update(d = 1):\n",
    "    plt.plot(xx, _f, xx, fhats[d-1])\n",
    "    axes = plt.gca()\n",
    "    axes.set_ylim(ylim)\n",
    "    \n",
    "slider = widgets.interact(update, d=widgets.IntSlider(min=1, max=M, step=1, value=1))"
   ]
  },
  {
   "cell_type": "code",
   "execution_count": null,
   "metadata": {},
   "outputs": [],
   "source": []
  },
  {
   "cell_type": "markdown",
   "metadata": {},
   "source": [
    "### With noise"
   ]
  },
  {
   "cell_type": "code",
   "execution_count": 11,
   "metadata": {},
   "outputs": [],
   "source": [
    "N = 900\n",
    "noise = 0.001\n",
    "reg = 1\n",
    "S = np.random.choice(M, size=N, replace=True)\n",
    "y = _f[S] + noise * np.random.normal(size=N)"
   ]
  },
  {
   "cell_type": "code",
   "execution_count": 12,
   "metadata": {},
   "outputs": [],
   "source": [
    "RF = rfmap(M)\n",
    "err = np.zeros(M)\n",
    "fhats = np.zeros((M,M))\n",
    "for d in range(1, M+1):\n",
    "    X = RF[S, :d] \n",
    "    fhat, theta = ols(X, y, reg)\n",
    "    err[d-1] = np.linalg.norm(np.matmul(RF[:, :d], theta) - _f, ord=1) / N\n",
    "    fhats[d-1] = np.matmul(RF[:, :d], theta)"
   ]
  },
  {
   "cell_type": "code",
   "execution_count": 13,
   "metadata": {
    "scrolled": true
   },
   "outputs": [
    {
     "data": {
      "text/plain": [
       "[<matplotlib.lines.Line2D at 0x7fa538334128>]"
      ]
     },
     "execution_count": 13,
     "metadata": {},
     "output_type": "execute_result"
    },
    {
     "data": {
      "image/png": "[encoded data removed]",
      "text/plain": [
       "<Figure size 432x288 with 1 Axes>"
      ]
     },
     "metadata": {
      "needs_background": "light"
     },
     "output_type": "display_data"
    }
   ],
   "source": [
    "plt.plot(range(M), err)"
   ]
  },
  {
   "cell_type": "code",
   "execution_count": 14,
   "metadata": {},
   "outputs": [
    {
     "data": {
      "application/vnd.jupyter.widget-view+json": {
       "model_id": "beb5cd4fcef443908c8f62975b613fe4",
       "version_major": 2,
       "version_minor": 0
      },
      "text/plain": [
       "interactive(children=(IntSlider(value=1000, description='d', max=1000, min=1), Output()), _dom_classes=('widge…"
      ]
     },
     "metadata": {},
     "output_type": "display_data"
    }
   ],
   "source": [
    "xx = range(M)\n",
    "\n",
    "def update(d = 1):\n",
    "    plt.scatter(S,y)\n",
    "    plt.plot(xx, fhats[d-1])\n",
    "    axes = plt.gca()\n",
    "    axes.set_ylim(ylim)\n",
    "    \n",
    "slider = widgets.interact(update, d=widgets.IntSlider(min=1, max=M, step=1, value=M))"
   ]
  },
  {
   "cell_type": "code",
   "execution_count": null,
   "metadata": {},
   "outputs": [],
   "source": []
  },
  {
   "cell_type": "markdown",
   "metadata": {},
   "source": [
    "# Linear case\n",
    "\n",
    "$x\\in\\mathbb{R}^m$"
   ]
  },
  {
   "cell_type": "code",
   "execution_count": 16,
   "metadata": {},
   "outputs": [],
   "source": [
    "def make_fun(m):\n",
    "    param = 2 * np.random.uniform(size=m) - 1\n",
    "    return lambda x : np.matmul(x, param)"
   ]
  },
  {
   "cell_type": "code",
   "execution_count": 17,
   "metadata": {},
   "outputs": [],
   "source": [
    "#This represents functions of the form <x,c> + d\n",
    "def make_rfm(d, m):\n",
    "    A = np.random.normal(size=(d, m))\n",
    "    b = np.random.normal(size=d)\n",
    "    return lambda X: np.matmul(A, X.T).T + b"
   ]
  },
  {
   "cell_type": "code",
   "execution_count": 18,
   "metadata": {},
   "outputs": [],
   "source": [
    "def ls(A, b, reg=0):\n",
    "    return np.linalg.solve(np.matmul(A.T, A) + reg * np.eye(A.shape[-1]), np.matmul(A.T, b))"
   ]
  },
  {
   "cell_type": "code",
   "execution_count": 19,
   "metadata": {},
   "outputs": [],
   "source": [
    "def rf_approx(X, y, d, reg=0):\n",
    "    rfm = make_rfm(d, X.shape[-1])\n",
    "    Phi = rfm(X) #Nxd\n",
    "    theta = ls(Phi, y, reg)\n",
    "    yhat = np.matmul(Phi, theta)\n",
    "    return yhat, rfm, theta"
   ]
  },
  {
   "cell_type": "code",
   "execution_count": 20,
   "metadata": {},
   "outputs": [],
   "source": [
    "def gen_rank(n, m, r):\n",
    "    A = 2 * np.random.uniform(size=(n, r)) - 1\n",
    "    B = 2 * np.random.uniform(size=(r, r)) - 1\n",
    "    C = 2 * np.random.uniform(size=(r, m)) - 1\n",
    "    M = np.matmul(np.matmul(A, B), C)\n",
    "    assert np.linalg.matrix_rank(M) == r\n",
    "    return M"
   ]
  },
  {
   "cell_type": "markdown",
   "metadata": {},
   "source": [
    "### Scalar example"
   ]
  },
  {
   "cell_type": "code",
   "execution_count": 21,
   "metadata": {},
   "outputs": [
    {
     "data": {
      "text/plain": [
       "(-1.0, 1.0)"
      ]
     },
     "execution_count": 21,
     "metadata": {},
     "output_type": "execute_result"
    },
    {
     "data": {
      "image/png": "[encoded data removed]",
      "text/plain": [
       "<Figure size 432x288 with 1 Axes>"
      ]
     },
     "metadata": {
      "needs_background": "light"
     },
     "output_type": "display_data"
    }
   ],
   "source": [
    "m = 1\n",
    "N = 100\n",
    "noise = 0\n",
    "d = 2\n",
    "\n",
    "f = make_fun(m)\n",
    "X = 2 * np.random.uniform(size=(N, m)) - 1\n",
    "y = f(X) + noise * np.random.normal(size=N)\n",
    "yhat, _, _ = rf_approx(X, y, d)\n",
    "xx = np.linspace(-1,1,100)\n",
    "plt.scatter(X, y)\n",
    "plt.plot(X, yhat)\n",
    "ax = plt.gca()\n",
    "ax.set_ylim([-1,1])\n",
    "ax.set_xlim([-1,1])"
   ]
  },
  {
   "cell_type": "markdown",
   "metadata": {},
   "source": [
    "### Full-rank case"
   ]
  },
  {
   "cell_type": "code",
   "execution_count": 22,
   "metadata": {},
   "outputs": [
    {
     "data": {
      "text/plain": [
       "<matplotlib.legend.Legend at 0x7fa57a498320>"
      ]
     },
     "execution_count": 22,
     "metadata": {},
     "output_type": "execute_result"
    },
    {
     "data": {
      "image/png": "[encoded data removed]",
      "text/plain": [
       "<Figure size 432x288 with 1 Axes>"
      ]
     },
     "metadata": {
      "needs_background": "light"
     },
     "output_type": "display_data"
    }
   ],
   "source": [
    "m = 100\n",
    "N = 500\n",
    "noise = 0.1\n",
    "reg = 0\n",
    "norm_ord = 1\n",
    "max_d = 2 * m\n",
    "\n",
    "f = make_fun(m)\n",
    "X = 2 * np.random.uniform(size=(N, m)) - 1\n",
    "y = f(X) + noise * np.random.normal(size=N)\n",
    "ls_param = ls(X, y, reg)\n",
    "yls = np.matmul(X, ls_param)\n",
    "lserr = np.linalg.norm(yls - y, ord=norm_ord)**norm_ord / N\n",
    "lsrank = np.linalg.matrix_rank(X)\n",
    "\n",
    "X_test = 2 * np.random.uniform(size=(N, m)) - 1\n",
    "y_test = f(X_test) + noise * np.random.normal(size=N)\n",
    "yls_test = np.matmul(X_test, ls_param)\n",
    "test_lserr = np.linalg.norm(yls_test - y_test, ord=norm_ord)**norm_ord / N\n",
    "\n",
    "err = []\n",
    "test_err = []\n",
    "ranks = []\n",
    "for d in range(1, max_d+1):\n",
    "    yhat, rfm, theta = rf_approx(X, y, d, reg)\n",
    "    err.append(np.linalg.norm(y - yhat, ord=norm_ord)**norm_ord / N)\n",
    "    ranks.append(np.linalg.matrix_rank(rfm(X)))\n",
    "    \n",
    "    #Test\n",
    "    yhat_test = np.matmul(rfm(X_test), theta)\n",
    "    test_err.append(np.linalg.norm(y_test - yhat_test, ord=norm_ord)**norm_ord / N)\n",
    "\n",
    "xx = range(1, max_d+1)\n",
    "plt.plot(xx, err)\n",
    "plt.plot(xx, test_err)\n",
    "plt.plot([xx[0], xx[-1]], [lserr, lserr])\n",
    "plt.plot([xx[0], xx[-1]], [test_lserr, test_lserr])\n",
    "plt.xlabel('d')\n",
    "plt.legend(('Training error', 'Test error', 'LS', 'LS test'))"
   ]
  },
  {
   "cell_type": "code",
   "execution_count": 23,
   "metadata": {},
   "outputs": [
    {
     "data": {
      "text/plain": [
       "(0.0, 0.5892907877661127)"
      ]
     },
     "execution_count": 23,
     "metadata": {},
     "output_type": "execute_result"
    },
    {
     "data": {
      "image/png": "[encoded data removed]",
      "text/plain": [
       "<Figure size 432x288 with 1 Axes>"
      ]
     },
     "metadata": {
      "needs_background": "light"
     },
     "output_type": "display_data"
    }
   ],
   "source": [
    "xx = range(1, max_d+1)\n",
    "plt.plot(xx, err)\n",
    "plt.plot(xx, test_err)\n",
    "plt.plot([xx[0], xx[-1]], [lserr, lserr])\n",
    "plt.plot([xx[0], xx[-1]], [test_lserr, test_lserr])\n",
    "plt.xlabel('d')\n",
    "plt.legend(('Training error', 'Test error', 'LS', 'LS test'))\n",
    "plt.gca().set_xlim((m-3, m+3))\n",
    "plt.gca().set_ylim((0,err[m-4]))"
   ]
  },
  {
   "cell_type": "code",
   "execution_count": 24,
   "metadata": {},
   "outputs": [
    {
     "name": "stdout",
     "output_type": "stream",
     "text": [
      "100 101\n"
     ]
    },
    {
     "data": {
      "text/plain": [
       "<matplotlib.legend.Legend at 0x7fa57958fb38>"
      ]
     },
     "execution_count": 24,
     "metadata": {},
     "output_type": "execute_result"
    },
    {
     "data": {
      "image/png": "[encoded data removed]",
      "text/plain": [
       "<Figure size 432x288 with 1 Axes>"
      ]
     },
     "metadata": {
      "needs_background": "light"
     },
     "output_type": "display_data"
    }
   ],
   "source": [
    "print(lsrank, np.max(ranks))\n",
    "plt.plot(xx, ranks)\n",
    "plt.plot((xx[0], xx[-1]),(lsrank, lsrank))\n",
    "plt.legend(('rank after rf', 'original rank'))"
   ]
  },
  {
   "cell_type": "code",
   "execution_count": 25,
   "metadata": {},
   "outputs": [
    {
     "name": "stdout",
     "output_type": "stream",
     "text": [
      "1 2.4307212807176892 2.4306905262727985 \n",
      "\n",
      "2 2.4381687134529275 2.4065006148840338 \n",
      "\n",
      "3 2.426431465711262 2.462984677088118 \n",
      "\n",
      "4 2.3778340042780437 2.4028918492712026 \n",
      "\n",
      "5 2.3858603740785504 2.4532364462336407 \n",
      "\n",
      "6 2.3160083892034047 2.3276503100737638 \n",
      "\n",
      "7 2.3340996017659834 2.404217963527575 \n",
      "\n",
      "8 2.2433454656156453 2.350657676627043 \n",
      "\n",
      "9 2.155070157040972 2.3029944714518944 \n",
      "\n",
      "10 2.393336594331811 2.3833923114324627 \n",
      "\n",
      "11 2.169603522007288 2.3178680452334084 \n",
      "\n",
      "12 2.3198569605944357 2.3761553017859494 \n",
      "\n",
      "13 2.230408037547496 2.349564791999208 \n",
      "\n",
      "14 2.2385325366910105 2.33538481347002 \n",
      "\n",
      "15 2.091783973052863 2.317677135979732 \n",
      "\n",
      "16 2.298800351737462 2.3622101790804817 \n",
      "\n",
      "17 2.2836014133301195 2.4730614436603475 \n",
      "\n",
      "18 2.2150862720682207 2.3755080819957546 \n",
      "\n",
      "19 2.1569067180471446 2.267560686655191 \n",
      "\n",
      "20 2.0964196741915067 2.2159017548250906 \n",
      "\n",
      "21 2.0799773141523255 2.1680957063779225 \n",
      "\n",
      "22 2.1465723435296193 2.3125258318787054 \n",
      "\n",
      "23 2.0517461711710197 2.1101201386755264 \n",
      "\n",
      "24 2.064926890517176 2.2894097080753024 \n",
      "\n",
      "25 2.1124518890321524 2.2516923547338994 \n",
      "\n",
      "26 1.9910336405878857 2.170330156938508 \n",
      "\n",
      "27 2.107509658119833 2.196949029957128 \n",
      "\n",
      "28 1.962226887439214 2.1097737498787095 \n",
      "\n",
      "29 1.998726902111406 2.1372882488001013 \n",
      "\n",
      "30 1.9637314212531123 2.0340191243950563 \n",
      "\n",
      "31 1.8679829188849257 2.0108676933848257 \n",
      "\n",
      "32 1.944834278183802 2.117162895534942 \n",
      "\n",
      "33 1.857914148847816 2.0378655617322385 \n",
      "\n",
      "34 1.9744729335062916 2.1259531461030554 \n",
      "\n",
      "35 1.6301949172697658 1.6979066613521696 \n",
      "\n",
      "36 1.8257231215723633 1.9982351295097036 \n",
      "\n",
      "37 1.8158865879703614 2.05963186264972 \n",
      "\n",
      "38 1.9325345606184445 2.093531544895799 \n",
      "\n",
      "39 2.032601702475357 2.0833456075315095 \n",
      "\n",
      "40 1.7520886162374358 1.9859207772034841 \n",
      "\n",
      "41 1.7653980069486357 1.9072784116212629 \n",
      "\n",
      "42 1.7889003045483067 2.1634226867455792 \n",
      "\n",
      "43 1.7416383134929547 2.029269607463984 \n",
      "\n",
      "44 1.8569891383224286 2.047640553289367 \n",
      "\n",
      "45 1.856280920967891 2.2312693168386977 \n",
      "\n",
      "46 1.768509408084096 1.8537466865097845 \n",
      "\n",
      "47 1.7094262192066298 1.7563896561058818 \n",
      "\n",
      "48 1.6749286548208238 1.772341994558857 \n",
      "\n",
      "49 1.7852924117061626 1.8936600813940305 \n",
      "\n",
      "50 1.8237884020457646 1.9901373258146673 \n",
      "\n",
      "51 1.434403237485386 1.7140986139006595 \n",
      "\n",
      "52 1.6748038740602365 1.7816960990362658 \n",
      "\n",
      "53 1.5986258143310543 1.742317021008749 \n",
      "\n",
      "54 1.628754350833975 1.8288066272115606 \n",
      "\n",
      "55 1.4508636464778124 1.7751471162561825 \n",
      "\n",
      "56 1.4633577589074247 1.6914825052562847 \n",
      "\n",
      "57 1.3618449629949527 1.6862668982160214 \n",
      "\n",
      "58 1.6175917507751745 1.7740403457560672 \n",
      "\n",
      "59 1.5636660380617056 1.8398469904121053 \n",
      "\n",
      "60 1.336501922310788 1.6498024764398251 \n",
      "\n",
      "61 1.5519546447332269 1.6869280143169212 \n",
      "\n",
      "62 1.659169795925045 1.7750817225810926 \n",
      "\n",
      "63 1.4007474365085786 1.712111757807138 \n",
      "\n",
      "64 1.6494749754330131 1.8867617431955692 \n",
      "\n",
      "65 1.5833972305250714 1.8156200224581835 \n",
      "\n",
      "66 1.2673987291029576 1.3696000268341668 \n",
      "\n",
      "67 1.1793858421968515 1.3150097510633587 \n",
      "\n",
      "68 1.2490665695299767 1.4077572263488862 \n",
      "\n",
      "69 1.3555476295102995 1.666414635645043 \n",
      "\n",
      "70 1.1399566561866668 1.4884780795930292 \n",
      "\n",
      "71 1.3367698858721668 1.5584856355338088 \n",
      "\n",
      "72 0.9506090244217066 1.0932763742527112 \n",
      "\n",
      "73 1.0014826625210822 1.1686397902802406 \n",
      "\n",
      "74 1.3761642769338487 1.5178438200474673 \n",
      "\n",
      "75 1.208571288683409 1.4167913579665787 \n",
      "\n",
      "76 1.036246524976678 1.2567315380531812 \n",
      "\n",
      "77 1.038138698068063 1.2891303274979669 \n",
      "\n",
      "78 1.1400758002037745 1.3913256194014116 \n",
      "\n",
      "79 0.8299739147960152 1.1056197109584012 \n",
      "\n",
      "80 0.9495060844405508 1.1454374378124215 \n",
      "\n",
      "81 0.9686994778629882 1.1433123106792096 \n",
      "\n",
      "82 1.171123473967354 1.3247383809083626 \n",
      "\n",
      "83 0.8629788341593215 1.0520913300367043 \n",
      "\n",
      "84 0.9967662510890654 1.1034844174708438 \n",
      "\n",
      "85 0.7444317844443501 0.8765751112893851 \n",
      "\n",
      "86 0.9497854351310685 1.1283283351471145 \n",
      "\n",
      "87 1.0639176841292615 1.286308754283738 \n",
      "\n",
      "88 0.689796156312213 0.8640321433896027 \n",
      "\n",
      "89 0.6781281245503014 0.7949749255553652 \n",
      "\n",
      "90 0.5645568529677661 0.7055948365997974 \n",
      "\n",
      "91 0.7177438755610528 0.9268989182311104 \n",
      "\n",
      "92 0.5218063031068042 0.627335308089421 \n",
      "\n",
      "93 0.7008588048723541 0.8264616127564192 \n",
      "\n",
      "94 0.593138695384157 0.7055267163694313 \n",
      "\n",
      "95 0.4896042968183908 0.5981519962452321 \n",
      "\n",
      "96 0.19821952843004256 0.25339975238679063 \n",
      "\n",
      "97 0.5892907877661127 0.7079335856087334 \n",
      "\n",
      "98 0.18925857272450095 0.2390806644218365 \n",
      "\n",
      "99 0.18020287203479918 0.22542906148618647 \n",
      "\n",
      "100 0.17245981696576182 0.20631160207238827 \n",
      "\n",
      "101 0.06565518105700531 0.09248291828679259 \n",
      "\n",
      "102 0.0656551810570192 0.09248291828673888 \n",
      "\n",
      "103 0.06565518105700248 0.09248291828674059 \n",
      "\n",
      "104 0.06565518105685599 0.0924829182896878 \n",
      "\n",
      "105 0.06565518105699832 0.09248291828679704 \n",
      "\n",
      "106 0.06565518105700885 0.09248291828678573 \n",
      "\n",
      "107 0.06565518105700881 0.09248291828676991 \n",
      "\n",
      "108 0.06565518105701 0.09248291828677911 \n",
      "\n",
      "109 0.06565518105702677 0.09248291828677747 \n",
      "\n",
      "110 0.06565518105700775 0.09248291828674564 \n",
      "\n",
      "111 0.06565518105701854 0.09248291828680145 \n",
      "\n",
      "112 0.0656551810570093 0.09248291828678305 \n",
      "\n",
      "113 0.0656551810570102 0.09248291828678142 \n",
      "\n",
      "114 0.06565518105701115 0.09248291828678132 \n",
      "\n",
      "115 0.06565518105701028 0.09248291828677756 \n",
      "\n",
      "116 0.06565518105700219 0.09248291828676862 \n",
      "\n",
      "117 0.06565518105700892 0.0924829182867833 \n",
      "\n",
      "118 0.06565518105700832 0.0924829182867987 \n",
      "\n",
      "119 0.06565518105700906 0.09248291828678365 \n",
      "\n",
      "120 0.0656551810570086 0.09248291828677375 \n",
      "\n",
      "121 0.06565518105700813 0.09248291828675903 \n",
      "\n",
      "122 0.06565518105701147 0.0924829182867789 \n",
      "\n",
      "123 0.06565518105701 0.09248291828678631 \n",
      "\n",
      "124 0.06565518105700892 0.09248291828678629 \n",
      "\n",
      "125 0.06565518105700989 0.09248291828678219 \n",
      "\n",
      "126 0.06565518105700878 0.09248291828678268 \n",
      "\n",
      "127 0.06565518105701003 0.09248291828678308 \n",
      "\n",
      "128 0.06565518105700989 0.09248291828677734 \n",
      "\n",
      "129 0.06565518105701275 0.09248291828678788 \n",
      "\n",
      "130 0.06565518105698537 0.0924829182868195 \n",
      "\n",
      "131 0.06565518105701047 0.09248291828677904 \n",
      "\n",
      "132 0.06565518105704875 0.09248291828674146 \n",
      "\n",
      "133 0.06565518105700958 0.09248291828678093 \n",
      "\n",
      "134 0.06565518105701122 0.09248291828678111 \n",
      "\n",
      "135 0.06565518105700585 0.09248291828678994 \n",
      "\n",
      "136 0.0656551810570109 0.09248291828679228 \n",
      "\n",
      "137 0.06565518105700863 0.09248291828678731 \n",
      "\n",
      "138 0.06565518105700932 0.09248291828678083 \n",
      "\n",
      "139 0.0656551810570088 0.09248291828678427 \n",
      "\n",
      "140 0.06565518105700821 0.09248291828678397 \n",
      "\n",
      "141 0.06565518105701046 0.0924829182867853 \n",
      "\n",
      "142 0.0656551810570138 0.09248291828678738 \n",
      "\n",
      "143 0.06565518105700997 0.09248291828678012 \n",
      "\n",
      "144 0.06565518105700952 0.09248291828678089 \n",
      "\n",
      "145 0.06565518105701028 0.09248291828677375 \n",
      "\n",
      "146 0.06565518105700864 0.09248291828678246 \n",
      "\n",
      "147 0.065655181057008 0.09248291828680766 \n",
      "\n",
      "148 0.06565518105701085 0.0924829182867731 \n",
      "\n",
      "149 0.06565518105700957 0.09248291828678049 \n",
      "\n",
      "150 0.065655181057008 0.09248291828678325 \n",
      "\n",
      "151 0.06565518105700711 0.09248291828678412 \n",
      "\n",
      "152 0.06565518105700789 0.09248291828678577 \n",
      "\n",
      "153 0.06565518105700989 0.09248291828678261 \n",
      "\n",
      "154 0.06565518105700792 0.09248291828677548 \n",
      "\n",
      "155 0.06565518105700892 0.09248291828678148 \n",
      "\n",
      "156 0.06565518105701004 0.09248291828678393 \n",
      "\n",
      "157 0.0656551810570152 0.09248291828676554 \n",
      "\n",
      "158 0.0656551810570095 0.0924829182867817 \n",
      "\n",
      "159 0.06565518105700721 0.09248291828679 \n",
      "\n",
      "160 0.06565518105700417 0.09248291828676719 \n",
      "\n",
      "161 0.06565518105701318 0.09248291828677083 \n",
      "\n",
      "162 0.06565518105700849 0.09248291828678216 \n",
      "\n",
      "163 0.06565518105700814 0.09248291828677688 \n",
      "\n",
      "164 0.0656551810570082 0.0924829182868123 \n",
      "\n",
      "165 0.0656551810570173 0.0924829182867426 \n",
      "\n",
      "166 0.06565518105700523 0.09248291828677038 \n",
      "\n",
      "167 0.06565518105700881 0.09248291828678022 \n",
      "\n",
      "168 0.06565518105700865 0.09248291828678203 \n",
      "\n",
      "169 0.06565518105700795 0.0924829182867827 \n",
      "\n",
      "170 0.06565518105700884 0.09248291828678168 \n",
      "\n",
      "171 0.06565518105700499 0.09248291828678275 \n",
      "\n",
      "172 0.06565518105700939 0.09248291828678026 \n",
      "\n",
      "173 0.06565518105700856 0.09248291828678462 \n",
      "\n",
      "174 0.06565518105701128 0.09248291828678666 \n",
      "\n",
      "175 0.06565518105700971 0.09248291828678189 \n",
      "\n",
      "176 0.06565518105700932 0.09248291828678189 \n",
      "\n",
      "177 0.0656551810570062 0.0924829182867768 \n",
      "\n",
      "178 0.06565518105700927 0.09248291828677963 \n",
      "\n",
      "179 0.06565518105725045 0.09248291828536502 \n",
      "\n",
      "180 0.06565518105701386 0.09248291828677603 \n",
      "\n",
      "181 0.06565518105700681 0.09248291828677735 \n",
      "\n",
      "182 0.06565518105700892 0.0924829182867881 \n",
      "\n",
      "183 0.06565518105700757 0.09248291828678065 \n",
      "\n",
      "184 0.06565518105700742 0.09248291828677704 \n",
      "\n",
      "185 0.06565518105700961 0.09248291828677964 \n",
      "\n",
      "186 0.0656551810570106 0.09248291828678576 \n",
      "\n",
      "187 0.06565518105700871 0.09248291828678566 \n",
      "\n",
      "188 0.0656551810569987 0.0924829182867916 \n",
      "\n",
      "189 0.06565518105700728 0.09248291828678298 \n",
      "\n",
      "190 0.06565518105700911 0.09248291828678376 \n",
      "\n",
      "191 0.0656551810570094 0.09248291828678046 \n",
      "\n",
      "192 0.06565518105701776 0.0924829182867704 \n",
      "\n",
      "193 0.06565518105699755 0.09248291828677384 \n",
      "\n",
      "194 0.0656551810570096 0.09248291828678393 \n",
      "\n",
      "195 0.06565518105701136 0.09248291828678104 \n",
      "\n",
      "196 0.06565518105700881 0.092482918286782 \n",
      "\n",
      "197 0.06565518105700911 0.09248291828678239 \n",
      "\n",
      "198 0.06565518105700988 0.09248291828678314 \n",
      "\n",
      "199 0.0656551810570092 0.09248291828678164 \n",
      "\n",
      "200 0.06565518105697907 0.09248291828681407 \n",
      "\n"
     ]
    }
   ],
   "source": [
    "for i in range(max_d): print(i+1, err[i], test_err[i], '\\n')"
   ]
  },
  {
   "cell_type": "code",
   "execution_count": null,
   "metadata": {},
   "outputs": [],
   "source": []
  },
  {
   "cell_type": "markdown",
   "metadata": {},
   "source": [
    "### The rank-deficient case"
   ]
  },
  {
   "cell_type": "code",
   "execution_count": 26,
   "metadata": {},
   "outputs": [
    {
     "data": {
      "text/plain": [
       "97"
      ]
     },
     "execution_count": 26,
     "metadata": {},
     "output_type": "execute_result"
    },
    {
     "data": {
      "image/png": "[encoded data removed]",
      "text/plain": [
       "<Figure size 432x288 with 1 Axes>"
      ]
     },
     "metadata": {
      "needs_background": "light"
     },
     "output_type": "display_data"
    }
   ],
   "source": [
    "m = 100\n",
    "N = 1000\n",
    "noise = 0.1\n",
    "reg = 0.1\n",
    "norm_ord = 1\n",
    "max_d = 3*m\n",
    "rank = m - 1\n",
    "\n",
    "f = make_fun(m)\n",
    "\n",
    "#Contexts do not span R^d\n",
    "X = gen_rank(N, m, rank)\n",
    "lsrank = np.linalg.matrix_rank(X)\n",
    "\n",
    "y = f(X) + noise * np.random.normal(size=N)\n",
    "ls_param = ls(X, y, reg)\n",
    "yls = np.matmul(X, ls_param)\n",
    "lserr = np.linalg.norm(yls - y, ord=norm_ord)**norm_ord / N\n",
    "\n",
    "X_test = gen_rank(N, m, rank)\n",
    "y_test = f(X_test) + noise * np.random.normal(size=N)\n",
    "yls_test = np.matmul(X_test, ls_param)\n",
    "test_lserr = np.linalg.norm(yls_test - y_test, ord=norm_ord)**norm_ord / N\n",
    "\n",
    "err = []\n",
    "test_err = []\n",
    "ranks = []\n",
    "for d in range(1, max_d+1):\n",
    "    yhat, rfm, theta = rf_approx(X, y, d, reg)\n",
    "    err.append(np.linalg.norm(y - yhat, ord=norm_ord)**norm_ord / N)\n",
    "    #print(rfm(X).shape)\n",
    "    ranks.append(np.linalg.matrix_rank(rfm(X)))\n",
    "    \n",
    "    #Test\n",
    "    yhat_test = np.matmul(rfm(X_test), theta)\n",
    "    test_err.append(np.linalg.norm(y_test - yhat_test, ord=norm_ord)**norm_ord / N)\n",
    "\n",
    "xx = range(1, max_d+1)\n",
    "plt.plot(xx, err)\n",
    "plt.plot(xx, test_err)\n",
    "plt.plot([xx[0], xx[-1]], [lserr, lserr])\n",
    "plt.plot([xx[0], xx[-1]], [test_lserr, test_lserr])\n",
    "plt.xlabel('d')\n",
    "plt.legend(('Training error', 'Test error', 'LS', 'LS test'))\n",
    "np.argmax(test_err)"
   ]
  },
  {
   "cell_type": "code",
   "execution_count": 27,
   "metadata": {},
   "outputs": [
    {
     "name": "stdout",
     "output_type": "stream",
     "text": [
      "99 100\n"
     ]
    },
    {
     "data": {
      "text/plain": [
       "Text(0.5, 0, 'd')"
      ]
     },
     "execution_count": 27,
     "metadata": {},
     "output_type": "execute_result"
    },
    {
     "data": {
      "image/png": "[encoded data removed]",
      "text/plain": [
       "<Figure size 432x288 with 1 Axes>"
      ]
     },
     "metadata": {
      "needs_background": "light"
     },
     "output_type": "display_data"
    }
   ],
   "source": [
    "print(lsrank, np.max(ranks))\n",
    "plt.plot(xx, ranks)\n",
    "plt.plot((xx[0], xx[-1]),(lsrank, lsrank))\n",
    "plt.legend(('rank after rf', 'original rank'))\n",
    "plt.xlabel('d')"
   ]
  },
  {
   "cell_type": "markdown",
   "metadata": {},
   "source": [
    "### Playing with perturbed matrices"
   ]
  },
  {
   "cell_type": "code",
   "execution_count": 28,
   "metadata": {},
   "outputs": [
    {
     "name": "stdout",
     "output_type": "stream",
     "text": [
      "5\n",
      "3\n",
      "3\n"
     ]
    }
   ],
   "source": [
    "n = 6\n",
    "m = 5\n",
    "r = 2\n",
    "A = gen_rank(n,m,r)\n",
    "\n",
    "B = A + np.random.normal(size=(n, m))\n",
    "print(np.linalg.matrix_rank(B))\n",
    "\n",
    "C = A + np.random.normal(size=m)\n",
    "print(np.linalg.matrix_rank(C))\n",
    "\n",
    "D = C + np.random.normal(size=m)\n",
    "print(np.linalg.matrix_rank(D))"
   ]
  },
  {
   "cell_type": "code",
   "execution_count": null,
   "metadata": {},
   "outputs": [],
   "source": []
  }
 ],
 "metadata": {
  "kernelspec": {
   "display_name": "Python 3",
   "language": "python",
   "name": "python3"
  },
  "language_info": {
   "codemirror_mode": {
    "name": "ipython",
    "version": 3
   },
   "file_extension": ".py",
   "mimetype": "text/x-python",
   "name": "python",
   "nbconvert_exporter": "python",
   "pygments_lexer": "ipython3",
   "version": "3.6.12"
  }
 },
 "nbformat": 4,
 "nbformat_minor": 4
}
