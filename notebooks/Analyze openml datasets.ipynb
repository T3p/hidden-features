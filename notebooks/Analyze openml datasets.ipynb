{
 "cells": [
  {
   "cell_type": "code",
   "execution_count": 67,
   "metadata": {},
   "outputs": [],
   "source": [
    "from lrcb.representations.finite_representations import LinearRepresentation, normalize_param, is_hls, rank, hls_rank, is_cmb, cmb_rank\n",
    "import numpy as np\n",
    "TOL = 1e-8"
   ]
  },
  {
   "cell_type": "code",
   "execution_count": 68,
   "metadata": {},
   "outputs": [],
   "source": [
    "ids = np.load('../problem_data/openml/ids.npy')"
   ]
  },
  {
   "cell_type": "code",
   "execution_count": 72,
   "metadata": {},
   "outputs": [],
   "source": [
    "mode = 'regression'\n",
    "neurons = (16,16)"
   ]
  },
  {
   "cell_type": "code",
   "execution_count": 73,
   "metadata": {},
   "outputs": [],
   "source": [
    "\"\"\"\n",
    "if neurons[0]==neurons[1]:\n",
    "    data = ['../problem_data/openml/openml_%s_id%d_dim%d_seed0.npz'%(mode, \n",
    "                                                                     int(i), \n",
    "                                                                     neurons[1]+1) \n",
    "            for i in ids]\n",
    "else:\n",
    "\"\"\"\n",
    "data = ['../problem_data/openml/openml_%s_id%d_dim%d_hid%d_seed0.npz'%(mode, \n",
    "                                                                     int(i), \n",
    "                                                                     neurons[1]+1,\n",
    "                                                                     neurons[0]) \n",
    "        for i in ids]"
   ]
  },
  {
   "cell_type": "code",
   "execution_count": 74,
   "metadata": {},
   "outputs": [
    {
     "ename": "FileNotFoundError",
     "evalue": "[Errno 2] No such file or directory: '../problem_data/openml/openml_regression_id11_dim17_hid16_seed0.npz'",
     "output_type": "error",
     "traceback": [
      "\u001b[0;31m---------------------------------------------------------------------------\u001b[0m",
      "\u001b[0;31mFileNotFoundError\u001b[0m                         Traceback (most recent call last)",
      "\u001b[0;32m<ipython-input-74-aacb0da700a1>\u001b[0m in \u001b[0;36m<module>\u001b[0;34m\u001b[0m\n\u001b[1;32m      7\u001b[0m \u001b[0mscores\u001b[0m \u001b[0;34m=\u001b[0m \u001b[0;34m[\u001b[0m\u001b[0;34m]\u001b[0m\u001b[0;34m\u001b[0m\u001b[0;34m\u001b[0m\u001b[0m\n\u001b[1;32m      8\u001b[0m \u001b[0;32mfor\u001b[0m \u001b[0mi\u001b[0m\u001b[0;34m,\u001b[0m \u001b[0mid\u001b[0m \u001b[0;32min\u001b[0m \u001b[0menumerate\u001b[0m\u001b[0;34m(\u001b[0m\u001b[0mids\u001b[0m\u001b[0;34m)\u001b[0m\u001b[0;34m:\u001b[0m\u001b[0;34m\u001b[0m\u001b[0;34m\u001b[0m\u001b[0m\n\u001b[0;32m----> 9\u001b[0;31m     \u001b[0mf\u001b[0m \u001b[0;34m=\u001b[0m \u001b[0mnp\u001b[0m\u001b[0;34m.\u001b[0m\u001b[0mload\u001b[0m\u001b[0;34m(\u001b[0m\u001b[0mdata\u001b[0m\u001b[0;34m[\u001b[0m\u001b[0mi\u001b[0m\u001b[0;34m]\u001b[0m\u001b[0;34m)\u001b[0m\u001b[0;34m\u001b[0m\u001b[0;34m\u001b[0m\u001b[0m\n\u001b[0m\u001b[1;32m     10\u001b[0m     \u001b[0mphi\u001b[0m \u001b[0;34m=\u001b[0m \u001b[0mf\u001b[0m\u001b[0;34m[\u001b[0m\u001b[0;34m'features'\u001b[0m\u001b[0;34m]\u001b[0m\u001b[0;34m\u001b[0m\u001b[0;34m\u001b[0m\u001b[0m\n\u001b[1;32m     11\u001b[0m     \u001b[0mtheta\u001b[0m \u001b[0;34m=\u001b[0m \u001b[0mf\u001b[0m\u001b[0;34m[\u001b[0m\u001b[0;34m'theta'\u001b[0m\u001b[0;34m]\u001b[0m\u001b[0;34m\u001b[0m\u001b[0;34m\u001b[0m\u001b[0m\n",
      "\u001b[0;32m~/miniconda2/envs/robot/lib/python3.6/site-packages/numpy/lib/npyio.py\u001b[0m in \u001b[0;36mload\u001b[0;34m(file, mmap_mode, allow_pickle, fix_imports, encoding)\u001b[0m\n\u001b[1;32m    426\u001b[0m         \u001b[0mown_fid\u001b[0m \u001b[0;34m=\u001b[0m \u001b[0;32mFalse\u001b[0m\u001b[0;34m\u001b[0m\u001b[0;34m\u001b[0m\u001b[0m\n\u001b[1;32m    427\u001b[0m     \u001b[0;32melse\u001b[0m\u001b[0;34m:\u001b[0m\u001b[0;34m\u001b[0m\u001b[0;34m\u001b[0m\u001b[0m\n\u001b[0;32m--> 428\u001b[0;31m         \u001b[0mfid\u001b[0m \u001b[0;34m=\u001b[0m \u001b[0mopen\u001b[0m\u001b[0;34m(\u001b[0m\u001b[0mos_fspath\u001b[0m\u001b[0;34m(\u001b[0m\u001b[0mfile\u001b[0m\u001b[0;34m)\u001b[0m\u001b[0;34m,\u001b[0m \u001b[0;34m\"rb\"\u001b[0m\u001b[0;34m)\u001b[0m\u001b[0;34m\u001b[0m\u001b[0;34m\u001b[0m\u001b[0m\n\u001b[0m\u001b[1;32m    429\u001b[0m         \u001b[0mown_fid\u001b[0m \u001b[0;34m=\u001b[0m \u001b[0;32mTrue\u001b[0m\u001b[0;34m\u001b[0m\u001b[0;34m\u001b[0m\u001b[0m\n\u001b[1;32m    430\u001b[0m \u001b[0;34m\u001b[0m\u001b[0m\n",
      "\u001b[0;31mFileNotFoundError\u001b[0m: [Errno 2] No such file or directory: '../problem_data/openml/openml_regression_id11_dim17_hid16_seed0.npz'"
     ]
    }
   ],
   "source": [
    "count_hls = 0\n",
    "count_weakhls = 0\n",
    "count_nr = 0\n",
    "count_cmb = 0\n",
    "count_weakcmb = 0\n",
    "count_intersection = 0\n",
    "test_scores = []\n",
    "train_scores = []\n",
    "for i, id in enumerate(ids):\n",
    "    f = np.load(data[i])\n",
    "    phi = f['features']\n",
    "    theta = f['theta']\n",
    "    test_score = f['score'].item()\n",
    "    train_score = f['train_score'].item()\n",
    "    test_scores.append(score)\n",
    "    train_scores.append(train_score)\n",
    "    rep = LinearRepresentation(phi, theta)\n",
    "    rep = normalize_param(rep)\n",
    "    count_nr += rank(rep, TOL)==rep.dim\n",
    "    count_hls += is_hls(rep,TOL)\n",
    "    count_cmb += is_cmb(rep, TOL)\n",
    "    count_weakhls += rank(rep, TOL)==hls_rank(rep, TOL)\n",
    "    count_weakcmb += cmb_rank(rep, TOL)==rank(rep, TOL)\n",
    "    count_intersection = cmb_rank(rep, TOL) == rank(rep, TOL) and hls_rank(rep, TOL) == rank(rep, TOL)\n",
    "    #print('%d: score=%f, hls=%d, weak_hls=%d' % (id, score, is_hls(rep), rank(rep)==hls_rank(rep)))\n",
    "print('Non-redundant percentage = %f' % (count_nr / len(ids) * 100))\n",
    "print('Strong HLS percentage = %f' % (count_hls / len(ids) * 100))\n",
    "print('Strong CMB percentage = %f' % (count_cmb / len(ids) * 100))\n",
    "print('(Weak) CMB AND HLS percentage = %f' % (count_intersection / len(ids) * 100))\n",
    "print('(Weak) HLS percentage = %f' % (count_weakhls / len(ids) * 100))\n",
    "print('(Weak) CMB percentage = %f' % (count_weakcmb / len(ids) * 100))\n",
    "print('avg test score = %f pm %f' % (np.mean(test_scores), np.std(test_scores)))\n",
    "print('avg train score = %f pm %f' % (np.mean(train_scores), np.std(train_scores)))"
   ]
  },
  {
   "cell_type": "code",
   "execution_count": null,
   "metadata": {},
   "outputs": [],
   "source": []
  },
  {
   "cell_type": "code",
   "execution_count": null,
   "metadata": {},
   "outputs": [],
   "source": []
  }
 ],
 "metadata": {
  "kernelspec": {
   "display_name": "Python 3",
   "language": "python",
   "name": "python3"
  },
  "language_info": {
   "codemirror_mode": {
    "name": "ipython",
    "version": 3
   },
   "file_extension": ".py",
   "mimetype": "text/x-python",
   "name": "python",
   "nbconvert_exporter": "python",
   "pygments_lexer": "ipython3",
   "version": "3.6.10"
  }
 },
 "nbformat": 4,
 "nbformat_minor": 2
}
