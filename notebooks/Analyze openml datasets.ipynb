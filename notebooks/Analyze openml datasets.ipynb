{
 "cells": [
  {
   "cell_type": "code",
   "execution_count": 8,
   "metadata": {},
   "outputs": [],
   "source": [
    "from lrcb.representations.finite_representations import LinearRepresentation, normalize_param, is_hls, rank, hls_rank, is_cmb, cmb_rank, hls_lambda\n",
    "import numpy as np\n",
    "TOL = 1e-8"
   ]
  },
  {
   "cell_type": "code",
   "execution_count": 2,
   "metadata": {},
   "outputs": [
    {
     "data": {
      "text/plain": [
       "169"
      ]
     },
     "execution_count": 2,
     "metadata": {},
     "output_type": "execute_result"
    }
   ],
   "source": [
    "ids = np.load('../problem_data/openml/ids.npy')\n",
    "len(ids)"
   ]
  },
  {
   "cell_type": "code",
   "execution_count": 5,
   "metadata": {},
   "outputs": [],
   "source": [
    "mode = 'regression'\n",
    "neurons = (32,32)"
   ]
  },
  {
   "cell_type": "code",
   "execution_count": 6,
   "metadata": {},
   "outputs": [],
   "source": [
    "data = ['../problem_data/openml/openml_%s_id%d_dim%d_hid%d_seed0.npz'%(mode, \n",
    "                                                                     int(i), \n",
    "                                                                     neurons[1]+1,\n",
    "                                                                     neurons[0]) \n",
    "        for i in ids]"
   ]
  },
  {
   "cell_type": "code",
   "execution_count": null,
   "metadata": {},
   "outputs": [
    {
     "name": "stdout",
     "output_type": "stream",
     "text": [
      "0 : 0.001498\n",
      "0 : 0.000000\n",
      "0 : 0.000000\n",
      "0 : 0.010695\n",
      "0 : 0.006894\n",
      "0 : 0.024490\n",
      "0 : 0.000059\n",
      "0 : 0.001515\n",
      "0 : 0.000000\n",
      "0 : 0.018627\n",
      "0 : 0.005954\n",
      "0 : 0.000000\n",
      "0 : 0.001605\n",
      "0 : 0.007923\n"
     ]
    }
   ],
   "source": [
    "count_hls = 0\n",
    "count_weakhls = 0\n",
    "count_nr = 0\n",
    "count_cmb = 0\n",
    "count_weakcmb = 0\n",
    "count_intersection = 0\n",
    "test_scores = []\n",
    "train_scores = []\n",
    "lambdas = []\n",
    "for i, id in enumerate(ids):\n",
    "    f = np.load(data[i])\n",
    "    phi = f['features']\n",
    "    theta = f['theta']\n",
    "    test_score = f['test_score'].item()\n",
    "    train_score = f['train_score'].item()\n",
    "    test_scores.append(test_score)\n",
    "    train_scores.append(train_score)\n",
    "    rep = LinearRepresentation(phi, theta)\n",
    "    rep = normalize_param(rep)\n",
    "    \n",
    "    _rank = rank(rep, TOL)\n",
    "    _hls_rank = hls_rank(rep, TOL)\n",
    "    _cmb_rank = cmb_rank(rep, TOL)\n",
    "    \n",
    "    count_nr += _rank==rep.dim\n",
    "    count_hls += _hls_rank==rep.dim\n",
    "    count_cmb += _cmb_rank==rep.dim\n",
    "    count_weakhls += _rank==_hls_rank\n",
    "    count_weakcmb += _cmb_rank==_rank\n",
    "    count_intersection += (_cmb_rank==_rank and _hls_rank==_rank)\n",
    "    \n",
    "    lam = hls_lambda(rep)\n",
    "    print('%d : %f' % (hls_rank==rep.dim, lam))\n",
    "    #print('%d: score=%f, hls=%d, weak_hls=%d' % (id, score, is_hls(rep), rank(rep)==hls_rank(rep)))\n",
    "print('Non-redundant percentage = %f' % (count_nr / len(ids) * 100))\n",
    "print('Strong HLS percentage = %f' % (count_hls / len(ids) * 100))\n",
    "print('Strong CMB percentage = %f' % (count_cmb / len(ids) * 100))\n",
    "print('(Weak) CMB AND HLS percentage = %f' % (count_intersection / len(ids) * 100))\n",
    "print('(Weak) HLS percentage = %f' % (count_weakhls / len(ids) * 100))\n",
    "print('(Weak) CMB percentage = %f' % (count_weakcmb / len(ids) * 100))\n",
    "print('avg test score = %f pm %f' % (np.mean(test_scores), np.std(test_scores)))\n",
    "print('avg train score = %f pm %f' % (np.mean(train_scores), np.std(train_scores)))"
   ]
  },
  {
   "cell_type": "code",
   "execution_count": null,
   "metadata": {},
   "outputs": [],
   "source": []
  }
 ],
 "metadata": {
  "kernelspec": {
   "display_name": "Python 3",
   "language": "python",
   "name": "python3"
  },
  "language_info": {
   "codemirror_mode": {
    "name": "ipython",
    "version": 3
   },
   "file_extension": ".py",
   "mimetype": "text/x-python",
   "name": "python",
   "nbconvert_exporter": "python",
   "pygments_lexer": "ipython3",
   "version": "3.6.10"
  }
 },
 "nbformat": 4,
 "nbformat_minor": 2
}
