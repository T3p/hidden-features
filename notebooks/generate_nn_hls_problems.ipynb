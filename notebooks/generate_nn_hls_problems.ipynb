{
 "cells": [
  {
   "cell_type": "code",
   "execution_count": 91,
   "id": "3f0da49f",
   "metadata": {},
   "outputs": [],
   "source": [
    "import numpy as np\n",
    "import sys\n",
    "sys.path.insert(0,'..')\n",
    "import xbrl.envs as bandits\n",
    "from xbrl.algs.nnmodel import MLLinearNetwork\n",
    "import xbrl.envs.hlsutils as hlsutils\n",
    "import torch\n",
    "import torch.nn as nn\n",
    "import math"
   ]
  },
  {
   "cell_type": "code",
   "execution_count": 92,
   "id": "5ccf0a47",
   "metadata": {},
   "outputs": [],
   "source": [
    "ncontexts = 100\n",
    "narms = 10\n",
    "dim = 10\n",
    "contextgeneration= \"gaussian\"\n",
    "feature_expansion = \"none\"\n",
    "seed_problem=99"
   ]
  },
  {
   "cell_type": "code",
   "execution_count": 93,
   "id": "a0bc74a9",
   "metadata": {},
   "outputs": [
    {
     "name": "stdout",
     "output_type": "stream",
     "text": [
      "(100, 10, 10)\n"
     ]
    }
   ],
   "source": [
    "features, theta = bandits.make_synthetic_features(\n",
    "    n_contexts=ncontexts, n_actions=narms, dim=dim,\n",
    "    context_generation=contextgeneration, feature_expansion=feature_expansion,\n",
    "    seed=seed_problem\n",
    ")\n",
    "print(features.shape)"
   ]
  },
  {
   "cell_type": "code",
   "execution_count": 94,
   "id": "24741869",
   "metadata": {},
   "outputs": [],
   "source": [
    "def initialize_weights(model):\n",
    "    for m in model.modules():\n",
    "        if isinstance(m, nn.Conv2d):\n",
    "            n = m.kernel_size[0] * m.kernel_size[1] * m.out_channels + m.in_channels\n",
    "            m.weight.data.normal_(0, math.sqrt(4. / n))\n",
    "            if m.bias is not None:\n",
    "                m.bias.data.zero_()\n",
    "        elif isinstance(m, nn.BatchNorm2d) or isinstance(m, nn.BatchNorm1d):\n",
    "            m.weight.data.fill_(1)\n",
    "            m.bias.data.zero_()\n",
    "        elif isinstance(m, nn.Linear):\n",
    "            n = m.in_features + m.out_features\n",
    "            m.weight.data.normal_(0, math.sqrt(100. / n))\n",
    "            if m.bias is not None:\n",
    "                m.bias.data.zero_()"
   ]
  },
  {
   "cell_type": "code",
   "execution_count": 95,
   "id": "d354fda5",
   "metadata": {},
   "outputs": [],
   "source": [
    "hid_dim = [60, 10]\n",
    "layers = [(el, nn.Tanh()) for el in hid_dim]\n",
    "net = MLLinearNetwork(dim, layers)\n",
    "initialize_weights(net)"
   ]
  },
  {
   "cell_type": "code",
   "execution_count": 96,
   "id": "1007ac8f",
   "metadata": {},
   "outputs": [
    {
     "name": "stdout",
     "output_type": "stream",
     "text": [
      "(100, 10, 10) (1000, 10)\n",
      "(1000, 10)\n"
     ]
    }
   ],
   "source": [
    "U = features.reshape(-1, dim)\n",
    "print(features.shape, U.shape)\n",
    "xt = torch.tensor(U, dtype=torch.float)\n",
    "H = net.embedding(xt).cpu().detach().numpy()\n",
    "print(H.shape)\n",
    "newfeatures = H.reshape(ncontexts, narms, net.embedding_dim)\n",
    "R = net(xt).detach().numpy().ravel()\n",
    "newreward = R.reshape(ncontexts, narms)\n",
    "\n",
    "theta = net.fc2.weight.detach().numpy().ravel()\n",
    "y = newfeatures @ theta\n",
    "assert np.allclose(y, newreward)"
   ]
  },
  {
   "cell_type": "code",
   "execution_count": 97,
   "id": "aeb86ae1",
   "metadata": {},
   "outputs": [
    {
     "name": "stdout",
     "output_type": "stream",
     "text": [
      "New rep -> HLS rank: 10 / 10\n",
      "New rep -> is HLS: True\n",
      "New rep -> HLS min eig: 0.23849486052095925\n",
      "New rep -> is CMB: True\n",
      "features norm: 3.162221908569336\n",
      "reward range: -22.551109313964844, 22.437606811523438\n"
     ]
    }
   ],
   "source": [
    "print(f\"New rep -> HLS rank: {hlsutils.hls_rank(newfeatures, newreward)} / {newfeatures.shape[2]}\")\n",
    "print(f\"New rep -> is HLS: {hlsutils.is_hls(newfeatures, newreward)}\")\n",
    "print(f\"New rep -> HLS min eig: {hlsutils.hls_lambda(newfeatures, newreward)}\")\n",
    "print(f\"New rep -> is CMB: {hlsutils.is_cmb(newfeatures, newreward)}\")\n",
    "print(f\"features norm: {np.linalg.norm(newfeatures, axis=-1).max()}\")\n",
    "print(f\"reward range: {R.min()}, {R.max()}\")"
   ]
  },
  {
   "cell_type": "code",
   "execution_count": 98,
   "id": "4ed7fe7e",
   "metadata": {},
   "outputs": [
    {
     "name": "stdout",
     "output_type": "stream",
     "text": [
      "MLLinearNetwork(\n",
      "  (layers): ModuleList(\n",
      "    (0): Linear(in_features=10, out_features=60, bias=True)\n",
      "    (1): Tanh()\n",
      "    (2): Linear(in_features=60, out_features=10, bias=True)\n",
      "    (3): Tanh()\n",
      "  )\n",
      "  (fc2): Linear(in_features=10, out_features=1, bias=False)\n",
      ")\n",
      "max error: 40.58506393432617\n",
      "min error: 0.009131431579589844\n",
      "avg error: 10.753617286682129\n",
      "New rep -> is HLS wrt true reward: True\n",
      "New rep -> HLS min eig wrt true reward: 0.29117509729687524\n",
      "\n",
      "\n",
      "\n",
      "MLLinearNetwork(\n",
      "  (layers): ModuleList(\n",
      "    (0): Linear(in_features=10, out_features=300, bias=True)\n",
      "    (1): Tanh()\n",
      "  )\n",
      "  (fc2): Linear(in_features=300, out_features=1, bias=False)\n",
      ")\n",
      "max error: 29.50351905822754\n",
      "min error: 0.012479782104492188\n",
      "avg error: 9.124445915222168\n",
      "New rep -> is HLS wrt true reward: False\n",
      "New rep -> HLS min eig wrt true reward: 0.015731919302286457\n",
      "\n",
      "\n",
      "\n",
      "MLLinearNetwork(\n",
      "  (layers): ModuleList(\n",
      "    (0): Linear(in_features=10, out_features=10, bias=True)\n",
      "    (1): Tanh()\n",
      "    (2): Linear(in_features=10, out_features=10, bias=True)\n",
      "    (3): Tanh()\n",
      "  )\n",
      "  (fc2): Linear(in_features=10, out_features=1, bias=False)\n",
      ")\n",
      "max error: 43.061527252197266\n",
      "min error: 0.03509235382080078\n",
      "avg error: 12.966139793395996\n",
      "New rep -> is HLS wrt true reward: True\n",
      "New rep -> HLS min eig wrt true reward: 0.17316296183504165\n",
      "\n",
      "\n",
      "\n"
     ]
    }
   ],
   "source": [
    "NEW_LAYERS = [\n",
    "    layers, #as the ground truth\n",
    "    [(300, nn.Tanh())],\n",
    "    [(10, nn.Tanh()), (10, nn.Tanh())]\n",
    "]\n",
    "\n",
    "for L in NEW_LAYERS:\n",
    "    net2 = MLLinearNetwork(dim, L)\n",
    "    initialize_weights(net2)\n",
    "    print(net2)\n",
    "\n",
    "    H = net2.embedding(xt).cpu().detach().numpy()\n",
    "    H = H.reshape(ncontexts, narms, net2.embedding_dim)\n",
    "    R = net2(xt).detach().numpy().ravel()\n",
    "    R = R.reshape(ncontexts, narms)\n",
    "    errors = np.abs(newreward - R)\n",
    "    print(f\"max error: {errors.max()}\")\n",
    "    print(f\"min error: {errors.min()}\")\n",
    "    print(f\"avg error: {errors.mean()}\")\n",
    "    print(f\"New rep -> is HLS wrt true reward: {hlsutils.is_hls(H, newreward)}\")\n",
    "    print(f\"New rep -> HLS min eig wrt true reward: {hlsutils.hls_lambda(H, newreward)}\")\n",
    "    print(\"\\n\\n\")"
   ]
  },
  {
   "cell_type": "code",
   "execution_count": null,
   "id": "28cab11f",
   "metadata": {},
   "outputs": [],
   "source": []
  }
 ],
 "metadata": {
  "kernelspec": {
   "display_name": "Python 3 (ipykernel)",
   "language": "python",
   "name": "python3"
  },
  "language_info": {
   "codemirror_mode": {
    "name": "ipython",
    "version": 3
   },
   "file_extension": ".py",
   "mimetype": "text/x-python",
   "name": "python",
   "nbconvert_exporter": "python",
   "pygments_lexer": "ipython3",
   "version": "3.8.12"
  }
 },
 "nbformat": 4,
 "nbformat_minor": 5
}
