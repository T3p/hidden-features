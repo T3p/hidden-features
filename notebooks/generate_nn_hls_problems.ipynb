{
 "cells": [
  {
   "cell_type": "code",
   "execution_count": 32,
   "id": "3f0da49f",
   "metadata": {},
   "outputs": [],
   "source": [
    "import numpy as np\n",
    "import sys\n",
    "sys.path.insert(0,'..')\n",
    "import xbrl.envs as bandits\n",
    "from xbrl.algs.nnmodel import MLLinearNetwork\n",
    "from xbrl.algs.knownrep.leaderselect import LeaderSelectElim\n",
    "import xbrl.envs.hlsutils as hlsutils\n",
    "import torch\n",
    "import torch.nn as nn\n",
    "import math"
   ]
  },
  {
   "cell_type": "code",
   "execution_count": 33,
   "id": "5ccf0a47",
   "metadata": {},
   "outputs": [],
   "source": [
    "ncontexts = 5000\n",
    "narms = 10\n",
    "dim = 20\n",
    "contextgeneration= \"gaussian\"\n",
    "feature_expansion = \"none\"\n",
    "seed_problem=99"
   ]
  },
  {
   "cell_type": "code",
   "execution_count": 34,
   "id": "a0bc74a9",
   "metadata": {},
   "outputs": [
    {
     "name": "stdout",
     "output_type": "stream",
     "text": [
      "(5000, 10, 20)\n"
     ]
    }
   ],
   "source": [
    "features, theta = bandits.make_synthetic_features(\n",
    "    n_contexts=ncontexts, n_actions=narms, dim=dim,\n",
    "    context_generation=contextgeneration, feature_expansion=feature_expansion,\n",
    "    seed=seed_problem\n",
    ")\n",
    "print(features.shape)"
   ]
  },
  {
   "cell_type": "code",
   "execution_count": 35,
   "id": "24741869",
   "metadata": {},
   "outputs": [],
   "source": [
    "def initialize_weights(model):\n",
    "    for m in model.modules():\n",
    "        if isinstance(m, nn.Conv2d):\n",
    "            n = m.kernel_size[0] * m.kernel_size[1] * m.out_channels + m.in_channels\n",
    "            m.weight.data.normal_(0, math.sqrt(4. / n))\n",
    "            if m.bias is not None:\n",
    "                m.bias.data.zero_()\n",
    "        elif isinstance(m, nn.BatchNorm2d) or isinstance(m, nn.BatchNorm1d):\n",
    "            m.weight.data.fill_(1)\n",
    "            m.bias.data.zero_()\n",
    "        elif isinstance(m, nn.Linear):\n",
    "            n = m.in_features + m.out_features\n",
    "            m.weight.data.normal_(0, math.sqrt(100. / n))\n",
    "            if m.bias is not None:\n",
    "                m.bias.data.zero_()"
   ]
  },
  {
   "cell_type": "code",
   "execution_count": 36,
   "id": "d354fda5",
   "metadata": {},
   "outputs": [],
   "source": [
    "hid_dim = [60, 10]\n",
    "layers = [(el, nn.Tanh()) for el in hid_dim]\n",
    "net = MLLinearNetwork(dim, layers)\n",
    "initialize_weights(net)"
   ]
  },
  {
   "cell_type": "code",
   "execution_count": 37,
   "id": "1007ac8f",
   "metadata": {},
   "outputs": [
    {
     "name": "stdout",
     "output_type": "stream",
     "text": [
      "(5000, 10, 20) (50000, 20)\n",
      "(50000, 10)\n"
     ]
    }
   ],
   "source": [
    "U = features.reshape(-1, dim)\n",
    "print(features.shape, U.shape)\n",
    "xt = torch.tensor(U, dtype=torch.float)\n",
    "H = net.embedding(xt).cpu().detach().numpy()\n",
    "print(H.shape)\n",
    "newfeatures = H.reshape(ncontexts, narms, net.embedding_dim)\n",
    "R = net(xt).detach().numpy().ravel()\n",
    "newreward = R.reshape(ncontexts, narms)\n",
    "\n",
    "theta = net.fc2.weight.detach().numpy().ravel()\n",
    "y = newfeatures @ theta\n",
    "assert np.allclose(y, newreward)"
   ]
  },
  {
   "cell_type": "code",
   "execution_count": 38,
   "id": "aeb86ae1",
   "metadata": {},
   "outputs": [
    {
     "name": "stdout",
     "output_type": "stream",
     "text": [
      "New rep -> HLS rank: 10 / 10\n",
      "New rep -> is HLS: True\n",
      "New rep -> HLS min eig: 0.21417641653139144\n",
      "New rep -> is CMB: True\n",
      "features norm: 3.1622774600982666\n",
      "reward range: -23.99169921875, 24.056562423706055\n"
     ]
    }
   ],
   "source": [
    "print(f\"New rep -> HLS rank: {hlsutils.hls_rank(newfeatures, newreward)} / {newfeatures.shape[2]}\")\n",
    "print(f\"New rep -> is HLS: {hlsutils.is_hls(newfeatures, newreward)}\")\n",
    "print(f\"New rep -> HLS min eig: {hlsutils.hls_lambda(newfeatures, newreward)}\")\n",
    "print(f\"New rep -> is CMB: {hlsutils.is_cmb(newfeatures, newreward)}\")\n",
    "print(f\"features norm: {np.linalg.norm(newfeatures, axis=-1).max()}\")\n",
    "print(f\"reward range: {R.min()}, {R.max()}\")"
   ]
  },
  {
   "cell_type": "code",
   "execution_count": 57,
   "id": "4ed7fe7e",
   "metadata": {},
   "outputs": [
    {
     "name": "stdout",
     "output_type": "stream",
     "text": [
      "MLLinearNetwork(\n",
      "  (layers): ModuleList(\n",
      "    (0): Linear(in_features=20, out_features=60, bias=True)\n",
      "    (1): Tanh()\n",
      "    (2): Linear(in_features=60, out_features=10, bias=True)\n",
      "    (3): Tanh()\n",
      "  )\n",
      "  (fc2): Linear(in_features=10, out_features=1, bias=False)\n",
      ")\n",
      "max error: 42.27394104003906\n",
      "min error: 0.0003643035888671875\n",
      "avg error: 8.838642120361328\n",
      "New rep -> is HLS: True\n",
      "New rep -> HLS min eig: 0.3729509800119442\n",
      "\n",
      "\n",
      "\n",
      "MLLinearNetwork(\n",
      "  (layers): ModuleList(\n",
      "    (0): Linear(in_features=20, out_features=300, bias=True)\n",
      "    (1): Tanh()\n",
      "  )\n",
      "  (fc2): Linear(in_features=300, out_features=1, bias=False)\n",
      ")\n",
      "max error: 49.63204574584961\n",
      "min error: 0.00025784969329833984\n",
      "avg error: 11.575180053710938\n",
      "New rep -> is HLS: True\n",
      "New rep -> HLS min eig: 0.039743458476127855\n",
      "\n",
      "\n",
      "\n",
      "MLLinearNetwork(\n",
      "  (layers): ModuleList(\n",
      "    (0): Linear(in_features=20, out_features=10, bias=True)\n",
      "    (1): Tanh()\n",
      "    (2): Linear(in_features=10, out_features=10, bias=True)\n",
      "    (3): Tanh()\n",
      "  )\n",
      "  (fc2): Linear(in_features=10, out_features=1, bias=False)\n",
      ")\n",
      "max error: 41.9197883605957\n",
      "min error: 0.0002989768981933594\n",
      "avg error: 8.993707656860352\n",
      "New rep -> is HLS: True\n",
      "New rep -> HLS min eig: 0.19327760868642435\n",
      "\n",
      "\n",
      "\n"
     ]
    }
   ],
   "source": [
    "NEW_LAYERS = [\n",
    "    layers, #as the ground truth\n",
    "    [(300, nn.Tanh())],\n",
    "    [(10, nn.Tanh()), (10, nn.Tanh())]\n",
    "]\n",
    "\n",
    "misspecified_nets = []\n",
    "for L in NEW_LAYERS:\n",
    "    net2 = MLLinearNetwork(dim, L)\n",
    "    initialize_weights(net2)\n",
    "    print(net2)\n",
    "\n",
    "    H = net2.embedding(xt).cpu().detach().numpy()\n",
    "    H = H.reshape(ncontexts, narms, net2.embedding_dim)\n",
    "    R = net2(xt).detach().numpy().ravel()\n",
    "    R = R.reshape(ncontexts, narms)\n",
    "    errors = np.abs(newreward - R)\n",
    "    print(f\"max error: {errors.max()}\")\n",
    "    print(f\"min error: {errors.min()}\")\n",
    "    print(f\"avg error: {errors.mean()}\")\n",
    "    print(f\"New rep -> is HLS: {hlsutils.is_hls(H, R)}\")\n",
    "    print(f\"New rep -> HLS min eig: {hlsutils.hls_lambda(H, R)}\")\n",
    "    print(\"\\n\\n\")\n",
    "    misspecified_nets.append(net2)"
   ]
  },
  {
   "cell_type": "code",
   "execution_count": 58,
   "id": "e905e5ad",
   "metadata": {},
   "outputs": [
    {
     "name": "stdout",
     "output_type": "stream",
     "text": [
      "Error: ../data/misspecified_example1 : File exists\n"
     ]
    }
   ],
   "source": [
    "# save info\n",
    "import os\n",
    "dir_path = \"../data/misspecified_example1\"\n",
    "\n",
    "try:\n",
    "    os.mkdir(dir_path)\n",
    "except OSError as e:\n",
    "    print(\"Error: %s : %s\" % (dir_path, e.strerror))\n",
    "\n",
    "txtf = open(os.path.join(dir_path, \"README.txt\"), \"w\")\n",
    "txtf.write(\"Generated using generate_nn_hls_problems.ipynb\")\n",
    "txtf.write(f\"Problem Properties\\nnum contexts: {features.shape[0]}\\nnum actions: {features.shape[1]}\\ndim: {features.shape[2]}\\n\")\n",
    "\n",
    "for i, m in enumerate([net] + misspecified_nets):\n",
    "    torch.save(m, os.path.join(dir_path, f\"net{i}.pth\"))\n",
    "    text = m.__repr__()\n",
    "    txtf.write(\"=\"*30 + \"\\n\")\n",
    "    txtf.write(f\"net{i}.pth\\n\")\n",
    "    txtf.write(\"-\"*30 + \"\\n\")\n",
    "    txtf.write(text)\n",
    "    txtf.write(\"\\n\")\n",
    "    H = m.embedding(xt).cpu().detach().numpy()\n",
    "    H = H.reshape(ncontexts, narms, m.embedding_dim)\n",
    "    R = m(xt).detach().numpy().ravel()\n",
    "    R = R.reshape(ncontexts, narms)\n",
    "    txtf.write(f\"Following properties are computed wrt the network predictions\\n\")\n",
    "    txtf.write(f\"HLS rank: {hlsutils.hls_rank(H, R)} / {H.shape[2]}\\n\")\n",
    "    txtf.write(f\"is HLS: {hlsutils.is_hls(H, R)}\\n\")\n",
    "    txtf.write(f\"HLS min eig: {hlsutils.hls_lambda(H, R)}\\n\")\n",
    "    txtf.write(f\"is CMB: {hlsutils.is_cmb(H, R)}\\n\")\n",
    "    txtf.write(\"\\n\")\n",
    "\n",
    "\n",
    "txtf.close()\n",
    "\n",
    "with open(os.path.join(dir_path, 'features.npy'), 'wb') as f:\n",
    "    np.save(f, features)"
   ]
  },
  {
   "cell_type": "code",
   "execution_count": null,
   "id": "ee2b7b6e",
   "metadata": {},
   "outputs": [],
   "source": []
  }
 ],
 "metadata": {
  "kernelspec": {
   "display_name": "Python 3 (ipykernel)",
   "language": "python",
   "name": "python3"
  },
  "language_info": {
   "codemirror_mode": {
    "name": "ipython",
    "version": 3
   },
   "file_extension": ".py",
   "mimetype": "text/x-python",
   "name": "python",
   "nbconvert_exporter": "python",
   "pygments_lexer": "ipython3",
   "version": "3.8.12"
  }
 },
 "nbformat": 4,
 "nbformat_minor": 5
}
