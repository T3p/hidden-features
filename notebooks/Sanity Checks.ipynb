{
 "cells": [
  {
   "cell_type": "code",
   "execution_count": 1,
   "metadata": {},
   "outputs": [],
   "source": [
    "from lrcb.algos.oful import oful\n",
    "from lrcb.bandits.finite_linear_bandits import make_random_flb\n",
    "from lrcb.visualization import notebook_utils as nu\n",
    "import numpy as np\n",
    "import time"
   ]
  },
  {
   "cell_type": "markdown",
   "metadata": {},
   "source": [
    "## Sherman-Morrison"
   ]
  },
  {
   "cell_type": "code",
   "execution_count": 2,
   "metadata": {},
   "outputs": [],
   "source": [
    "nc = 500\n",
    "na = 25\n",
    "dim = 100\n",
    "iters = 5000\n",
    "problem = make_random_flb(nc, na, dim)\n",
    "seed = 0"
   ]
  },
  {
   "cell_type": "code",
   "execution_count": 3,
   "metadata": {},
   "outputs": [],
   "source": [
    "reg = 0.01\n",
    "noise = 0.1\n",
    "delta = 0.2\n",
    "param_bound = np.linalg.norm(problem._param)"
   ]
  },
  {
   "cell_type": "code",
   "execution_count": 4,
   "metadata": {},
   "outputs": [
    {
     "name": "stdout",
     "output_type": "stream",
     "text": [
      "28.433809280395508\n"
     ]
    }
   ],
   "source": [
    "start = time.time()\n",
    "param = oful(problem, iters, reg, noise, delta, param_bound, \n",
    "         sherman=False, seed=seed, verbose=False, logname='oful_solve')\n",
    "print(time.time() - start)"
   ]
  },
  {
   "cell_type": "code",
   "execution_count": 5,
   "metadata": {},
   "outputs": [
    {
     "name": "stdout",
     "output_type": "stream",
     "text": [
      "15.034017086029053\n"
     ]
    }
   ],
   "source": [
    "start = time.time()\n",
    "param = oful(problem, iters, reg, noise, delta, param_bound, \n",
    "         sherman=True, seed=seed, verbose=False, logname='oful_sm')\n",
    "print(time.time() - start)"
   ]
  },
  {
   "cell_type": "code",
   "execution_count": 6,
   "metadata": {},
   "outputs": [
    {
     "name": "stdout",
     "output_type": "stream",
     "text": [
      "6.084486961364746\n"
     ]
    }
   ],
   "source": [
    "start = time.time()\n",
    "param = oful(problem, iters, reg, noise, delta, param_bound,\n",
    "             adaptive=False,\n",
    "         sherman=True, seed=seed, verbose=False, logname='oful_wc')\n",
    "print(time.time() - start)"
   ]
  },
  {
   "cell_type": "code",
   "execution_count": 7,
   "metadata": {},
   "outputs": [
    {
     "data": {
      "image/png": "[encoded data removed]",
      "text/plain": [
       "<Figure size 432x288 with 1 Axes>"
      ]
     },
     "metadata": {
      "needs_background": "light"
     },
     "output_type": "display_data"
    }
   ],
   "source": [
    "nu.compare('../logs', ['oful_solve', 'oful_sm', 'oful_wc'], 'cumregret', [seed])"
   ]
  },
  {
   "cell_type": "markdown",
   "metadata": {},
   "source": [
    "## Smallest eigenvalue"
   ]
  },
  {
   "cell_type": "code",
   "execution_count": 8,
   "metadata": {},
   "outputs": [],
   "source": [
    "d = 3000\n",
    "A = np.random.normal(size=(d, d))"
   ]
  },
  {
   "cell_type": "code",
   "execution_count": 9,
   "metadata": {},
   "outputs": [
    {
     "name": "stdout",
     "output_type": "stream",
     "text": [
      "6.829829931259155\n",
      "3.993426097130166e-05\n"
     ]
    }
   ],
   "source": [
    "start = time.time()\n",
    "_, sv, _ = np.linalg.svd(A)\n",
    "mineig = sv[-1]**2\n",
    "print(time.time() - start)\n",
    "print(mineig)"
   ]
  },
  {
   "cell_type": "code",
   "execution_count": 10,
   "metadata": {},
   "outputs": [
    {
     "name": "stdout",
     "output_type": "stream",
     "text": [
      "6.174109935760498\n",
      "3.993426027881901e-05\n"
     ]
    }
   ],
   "source": [
    "start = time.time()\n",
    "eigv = np.linalg.eigvals(np.matmul(A, A.T))\n",
    "mineig2 = np.min(eigv)\n",
    "print(time.time() - start)\n",
    "print(mineig2)\n",
    "assert np.allclose(mineig2, mineig)"
   ]
  },
  {
   "cell_type": "code",
   "execution_count": null,
   "metadata": {},
   "outputs": [],
   "source": []
  }
 ],
 "metadata": {
  "kernelspec": {
   "display_name": "Python 3",
   "language": "python",
   "name": "python3"
  },
  "language_info": {
   "codemirror_mode": {
    "name": "ipython",
    "version": 3
   },
   "file_extension": ".py",
   "mimetype": "text/x-python",
   "name": "python",
   "nbconvert_exporter": "python",
   "pygments_lexer": "ipython3",
   "version": "3.6.12"
  }
 },
 "nbformat": 4,
 "nbformat_minor": 4
}
