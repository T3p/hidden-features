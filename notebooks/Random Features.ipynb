{
 "cells": [
  {
   "cell_type": "code",
   "execution_count": 1,
   "metadata": {},
   "outputs": [],
   "source": [
    "import numpy as np\n",
    "import matplotlib.pyplot as plt\n",
    "import ipywidgets as widgets\n",
    "import math"
   ]
  },
  {
   "cell_type": "markdown",
   "metadata": {},
   "source": [
    "## Finite case\n",
    "$x\\in[M]$"
   ]
  },
  {
   "cell_type": "code",
   "execution_count": 2,
   "metadata": {},
   "outputs": [],
   "source": [
    "M = 1000"
   ]
  },
  {
   "cell_type": "markdown",
   "metadata": {},
   "source": [
    "### True function"
   ]
  },
  {
   "cell_type": "code",
   "execution_count": 3,
   "metadata": {},
   "outputs": [],
   "source": [
    "_d = 10\n",
    "param = np.random.uniform(size=_d) - 1/2\n",
    "fmap = np.array([[(x/M)**y for y in range(_d)] for x in range(M)])\n",
    "#fmap = np.random.uniform(size = (M, _d))\n",
    "_f = np.matmul(fmap, param)\n",
    "f = lambda x: _f[x]"
   ]
  },
  {
   "cell_type": "code",
   "execution_count": 4,
   "metadata": {},
   "outputs": [
    {
     "data": {
      "text/plain": [
       "[<matplotlib.lines.Line2D at 0x7fdd7832b320>]"
      ]
     },
     "execution_count": 4,
     "metadata": {},
     "output_type": "execute_result"
    },
    {
     "data": {
      "image/png": "[encoded data removed]",
      "text/plain": [
       "<Figure size 432x288 with 1 Axes>"
      ]
     },
     "metadata": {
      "needs_background": "light"
     },
     "output_type": "display_data"
    }
   ],
   "source": [
    "plt.plot(range(M), _f)"
   ]
  },
  {
   "cell_type": "code",
   "execution_count": 5,
   "metadata": {},
   "outputs": [],
   "source": [
    "ylim = [min(_f)-0.1, max(_f)+0.1]"
   ]
  },
  {
   "cell_type": "markdown",
   "metadata": {},
   "source": [
    "### Approximation with d random features (no noise)"
   ]
  },
  {
   "cell_type": "code",
   "execution_count": 6,
   "metadata": {},
   "outputs": [],
   "source": [
    "def rfmap(d):\n",
    "    return np.random.normal(size=(M,d))"
   ]
  },
  {
   "cell_type": "code",
   "execution_count": 7,
   "metadata": {},
   "outputs": [],
   "source": [
    "def ols(X, y, reg=0):\n",
    "    A = np.matmul(X.T,X) + reg * np.eye(d)\n",
    "    b = np.matmul(X.T, y)\n",
    "    theta = np.linalg.solve(A,b)\n",
    "    return np.matmul(X, theta), theta"
   ]
  },
  {
   "cell_type": "code",
   "execution_count": 8,
   "metadata": {},
   "outputs": [],
   "source": [
    "RF = rfmap(M)\n",
    "err = np.zeros(M)\n",
    "perr = np.zeros(M)\n",
    "fhats = np.zeros((M,M))\n",
    "for d in range(1, M+1):\n",
    "    X = RF[:, :d] \n",
    "    y = _f\n",
    "    fhat, theta = ols(X, y)\n",
    "    fhats[d-1] = fhat\n",
    "    err[d-1] = np.linalg.norm(fhat - _f, ord=1) / M\n",
    "    "
   ]
  },
  {
   "cell_type": "code",
   "execution_count": 9,
   "metadata": {
    "scrolled": true
   },
   "outputs": [
    {
     "data": {
      "text/plain": [
       "[<matplotlib.lines.Line2D at 0x7fdd601eb7b8>]"
      ]
     },
     "execution_count": 9,
     "metadata": {},
     "output_type": "execute_result"
    },
    {
     "data": {
      "image/png": "[encoded data removed]",
      "text/plain": [
       "<Figure size 432x288 with 1 Axes>"
      ]
     },
     "metadata": {
      "needs_background": "light"
     },
     "output_type": "display_data"
    }
   ],
   "source": [
    "plt.plot(range(M), err)\n",
    "plt.plot(range(M), 0.2/np.sqrt(range(1,M+1)))"
   ]
  },
  {
   "cell_type": "code",
   "execution_count": 10,
   "metadata": {},
   "outputs": [
    {
     "data": {
      "application/vnd.jupyter.widget-view+json": {
       "model_id": "e889fb04485c4dc3ac99173a72d1ecd1",
       "version_major": 2,
       "version_minor": 0
      },
      "text/plain": [
       "interactive(children=(IntSlider(value=1, description='d', max=1000, min=1), Output()), _dom_classes=('widget-i…"
      ]
     },
     "metadata": {},
     "output_type": "display_data"
    }
   ],
   "source": [
    "xx = range(M)\n",
    "\n",
    "def update(d = 1):\n",
    "    plt.plot(xx, _f, xx, fhats[d-1])\n",
    "    axes = plt.gca()\n",
    "    axes.set_ylim(ylim)\n",
    "    \n",
    "slider = widgets.interact(update, d=widgets.IntSlider(min=1, max=M, step=1, value=1))"
   ]
  },
  {
   "cell_type": "code",
   "execution_count": null,
   "metadata": {},
   "outputs": [],
   "source": []
  },
  {
   "cell_type": "markdown",
   "metadata": {},
   "source": [
    "### With noise"
   ]
  },
  {
   "cell_type": "code",
   "execution_count": 11,
   "metadata": {},
   "outputs": [],
   "source": [
    "N = 900\n",
    "noise = 0.001\n",
    "reg = 1\n",
    "S = np.random.choice(M, size=N, replace=True)\n",
    "y = _f[S] + noise * np.random.normal(size=N)"
   ]
  },
  {
   "cell_type": "code",
   "execution_count": 12,
   "metadata": {},
   "outputs": [],
   "source": [
    "RF = rfmap(M)\n",
    "err = np.zeros(M)\n",
    "fhats = np.zeros((M,M))\n",
    "for d in range(1, M+1):\n",
    "    X = RF[S, :d] \n",
    "    fhat, theta = ols(X, y, reg)\n",
    "    err[d-1] = np.linalg.norm(np.matmul(RF[:, :d], theta) - _f, ord=1) / N\n",
    "    fhats[d-1] = np.matmul(RF[:, :d], theta)"
   ]
  },
  {
   "cell_type": "code",
   "execution_count": 13,
   "metadata": {
    "scrolled": true
   },
   "outputs": [
    {
     "data": {
      "text/plain": [
       "[<matplotlib.lines.Line2D at 0x7fdd783cfe48>]"
      ]
     },
     "execution_count": 13,
     "metadata": {},
     "output_type": "execute_result"
    },
    {
     "data": {
      "image/png": "[encoded data removed]",
      "text/plain": [
       "<Figure size 432x288 with 1 Axes>"
      ]
     },
     "metadata": {
      "needs_background": "light"
     },
     "output_type": "display_data"
    }
   ],
   "source": [
    "plt.plot(range(M), err)"
   ]
  },
  {
   "cell_type": "code",
   "execution_count": 14,
   "metadata": {},
   "outputs": [
    {
     "data": {
      "application/vnd.jupyter.widget-view+json": {
       "model_id": "677bc454643343d893cbcef833f282ac",
       "version_major": 2,
       "version_minor": 0
      },
      "text/plain": [
       "interactive(children=(IntSlider(value=1000, description='d', max=1000, min=1), Output()), _dom_classes=('widge…"
      ]
     },
     "metadata": {},
     "output_type": "display_data"
    }
   ],
   "source": [
    "xx = range(M)\n",
    "\n",
    "def update(d = 1):\n",
    "    plt.scatter(S,y)\n",
    "    plt.plot(xx, fhats[d-1])\n",
    "    axes = plt.gca()\n",
    "    axes.set_ylim(ylim)\n",
    "    \n",
    "slider = widgets.interact(update, d=widgets.IntSlider(min=1, max=M, step=1, value=M))"
   ]
  },
  {
   "cell_type": "code",
   "execution_count": null,
   "metadata": {},
   "outputs": [],
   "source": []
  },
  {
   "cell_type": "markdown",
   "metadata": {},
   "source": [
    "## Linear case\n",
    "\n",
    "$x\\in\\mathbb{R}^m$"
   ]
  },
  {
   "cell_type": "code",
   "execution_count": 15,
   "metadata": {},
   "outputs": [],
   "source": [
    "def make_fun(m):\n",
    "    param = 2 * np.random.uniform(size=m) - 1\n",
    "    return lambda x : np.matmul(x, param)"
   ]
  },
  {
   "cell_type": "code",
   "execution_count": 16,
   "metadata": {},
   "outputs": [],
   "source": [
    "#This represents functions of the form <x,c> + d\n",
    "def make_rfm(d, m):\n",
    "    A = np.random.normal(size=(d, m))\n",
    "    b = np.random.normal(size=d)\n",
    "    return lambda X: np.matmul(A, X.T).T + b"
   ]
  },
  {
   "cell_type": "code",
   "execution_count": 17,
   "metadata": {},
   "outputs": [],
   "source": [
    "def ls(A, b, reg=0):\n",
    "    return np.linalg.solve(np.matmul(A.T, A) + reg * np.eye(A.shape[-1]), np.matmul(A.T, b))"
   ]
  },
  {
   "cell_type": "code",
   "execution_count": 18,
   "metadata": {},
   "outputs": [],
   "source": [
    "def rf_approx(X, y, d, reg=0):\n",
    "    rfm = make_rfm(d, X.shape[-1])\n",
    "    Phi = rfm(X) #Nxd\n",
    "    theta = ls(Phi, y, reg)\n",
    "    yhat = np.matmul(Phi, theta)\n",
    "    return yhat, rfm, theta"
   ]
  },
  {
   "cell_type": "code",
   "execution_count": 19,
   "metadata": {},
   "outputs": [],
   "source": [
    "def gen_rank(n, m, r):\n",
    "    A = 2 * np.random.uniform(size=(n, r)) - 1\n",
    "    B = 2 * np.random.uniform(size=(r, r)) - 1\n",
    "    C = 2 * np.random.uniform(size=(r, m)) - 1\n",
    "    M = np.matmul(np.matmul(A, B), C)\n",
    "    assert np.linalg.matrix_rank(M) == r\n",
    "    return M"
   ]
  },
  {
   "cell_type": "markdown",
   "metadata": {},
   "source": [
    "### Scalar example"
   ]
  },
  {
   "cell_type": "code",
   "execution_count": 20,
   "metadata": {},
   "outputs": [
    {
     "data": {
      "text/plain": [
       "(-1.0, 1.0)"
      ]
     },
     "execution_count": 20,
     "metadata": {},
     "output_type": "execute_result"
    },
    {
     "data": {
      "image/png": "[encoded data removed]",
      "text/plain": [
       "<Figure size 432x288 with 1 Axes>"
      ]
     },
     "metadata": {
      "needs_background": "light"
     },
     "output_type": "display_data"
    }
   ],
   "source": [
    "m = 1\n",
    "N = 100\n",
    "noise = 0\n",
    "d = 2\n",
    "\n",
    "f = make_fun(m)\n",
    "X = 2 * np.random.uniform(size=(N, m)) - 1\n",
    "y = f(X) + noise * np.random.normal(size=N)\n",
    "yhat, _, _ = rf_approx(X, y, d)\n",
    "xx = np.linspace(-1,1,100)\n",
    "plt.scatter(X, y)\n",
    "plt.plot(X, yhat)\n",
    "ax = plt.gca()\n",
    "ax.set_ylim([-1,1])\n",
    "ax.set_xlim([-1,1])"
   ]
  },
  {
   "cell_type": "markdown",
   "metadata": {},
   "source": [
    "### Full-rank case"
   ]
  },
  {
   "cell_type": "code",
   "execution_count": 21,
   "metadata": {},
   "outputs": [
    {
     "data": {
      "text/plain": [
       "<matplotlib.legend.Legend at 0x7fdd7849d4a8>"
      ]
     },
     "execution_count": 21,
     "metadata": {},
     "output_type": "execute_result"
    },
    {
     "data": {
      "image/png": "[encoded data removed]",
      "text/plain": [
       "<Figure size 432x288 with 1 Axes>"
      ]
     },
     "metadata": {
      "needs_background": "light"
     },
     "output_type": "display_data"
    }
   ],
   "source": [
    "m = 100\n",
    "N = 500\n",
    "noise = 0.1\n",
    "reg = 0\n",
    "norm_ord = 1\n",
    "max_d = 2 * m\n",
    "\n",
    "f = make_fun(m)\n",
    "X = 2 * np.random.uniform(size=(N, m)) - 1\n",
    "y = f(X) + noise * np.random.normal(size=N)\n",
    "ls_param = ls(X, y, reg)\n",
    "yls = np.matmul(X, ls_param)\n",
    "lserr = np.linalg.norm(yls - y, ord=norm_ord)**norm_ord / N\n",
    "lsrank = np.linalg.matrix_rank(X)\n",
    "\n",
    "X_test = 2 * np.random.uniform(size=(N, m)) - 1\n",
    "y_test = f(X_test) + noise * np.random.normal(size=N)\n",
    "yls_test = np.matmul(X_test, ls_param)\n",
    "test_lserr = np.linalg.norm(yls_test - y_test, ord=norm_ord)**norm_ord / N\n",
    "\n",
    "err = []\n",
    "test_err = []\n",
    "ranks = []\n",
    "for d in range(1, max_d+1):\n",
    "    yhat, rfm, theta = rf_approx(X, y, d, reg)\n",
    "    err.append(np.linalg.norm(y - yhat, ord=norm_ord)**norm_ord / N)\n",
    "    ranks.append(np.linalg.matrix_rank(rfm(X)))\n",
    "    \n",
    "    #Test\n",
    "    yhat_test = np.matmul(rfm(X_test), theta)\n",
    "    test_err.append(np.linalg.norm(y_test - yhat_test, ord=norm_ord)**norm_ord / N)\n",
    "\n",
    "xx = range(1, max_d+1)\n",
    "plt.plot(xx, err)\n",
    "plt.plot(xx, test_err)\n",
    "plt.plot([xx[0], xx[-1]], [lserr, lserr])\n",
    "plt.plot([xx[0], xx[-1]], [test_lserr, test_lserr])\n",
    "plt.xlabel('d')\n",
    "plt.legend(('Training error', 'Test error', 'LS', 'LS test'))"
   ]
  },
  {
   "cell_type": "code",
   "execution_count": 22,
   "metadata": {},
   "outputs": [
    {
     "data": {
      "text/plain": [
       "(0.0, 0.3845087868599882)"
      ]
     },
     "execution_count": 22,
     "metadata": {},
     "output_type": "execute_result"
    },
    {
     "data": {
      "image/png": "[encoded data removed]",
      "text/plain": [
       "<Figure size 432x288 with 1 Axes>"
      ]
     },
     "metadata": {
      "needs_background": "light"
     },
     "output_type": "display_data"
    }
   ],
   "source": [
    "xx = range(1, max_d+1)\n",
    "plt.plot(xx, err)\n",
    "plt.plot(xx, test_err)\n",
    "plt.plot([xx[0], xx[-1]], [lserr, lserr])\n",
    "plt.plot([xx[0], xx[-1]], [test_lserr, test_lserr])\n",
    "plt.xlabel('d')\n",
    "plt.legend(('Training error', 'Test error', 'LS', 'LS test'))\n",
    "plt.gca().set_xlim((m-3, m+3))\n",
    "plt.gca().set_ylim((0,err[m-4]))"
   ]
  },
  {
   "cell_type": "code",
   "execution_count": 23,
   "metadata": {},
   "outputs": [
    {
     "name": "stdout",
     "output_type": "stream",
     "text": [
      "100 101\n"
     ]
    },
    {
     "data": {
      "text/plain": [
       "<matplotlib.legend.Legend at 0x7fdd719be048>"
      ]
     },
     "execution_count": 23,
     "metadata": {},
     "output_type": "execute_result"
    },
    {
     "data": {
      "image/png": "[encoded data removed]",
      "text/plain": [
       "<Figure size 432x288 with 1 Axes>"
      ]
     },
     "metadata": {
      "needs_background": "light"
     },
     "output_type": "display_data"
    }
   ],
   "source": [
    "print(lsrank, np.max(ranks))\n",
    "plt.plot(xx, ranks)\n",
    "plt.plot((xx[0], xx[-1]),(lsrank, lsrank))\n",
    "plt.legend(('rank after rf', 'original rank'))"
   ]
  },
  {
   "cell_type": "code",
   "execution_count": 24,
   "metadata": {},
   "outputs": [
    {
     "name": "stdout",
     "output_type": "stream",
     "text": [
      "1 2.5713694339015385 2.6716662398233337 \n",
      "\n",
      "2 2.585934231975892 2.6709995306927117 \n",
      "\n",
      "3 2.517146234953698 2.6385910924143574 \n",
      "\n",
      "4 2.564916634997139 2.649160287148482 \n",
      "\n",
      "5 2.545162365324113 2.6328810280859307 \n",
      "\n",
      "6 2.5169807584378834 2.5550037762658513 \n",
      "\n",
      "7 2.534707369715893 2.5949501261891896 \n",
      "\n",
      "8 2.5219295963776527 2.6875425461058704 \n",
      "\n",
      "9 2.37333614601658 2.453415693404485 \n",
      "\n",
      "10 2.4044094246679864 2.566022562910037 \n",
      "\n",
      "11 2.433428728077675 2.5218445512963834 \n",
      "\n",
      "12 2.4794555644059644 2.650764162705584 \n",
      "\n",
      "13 2.3131599949460635 2.455860439759753 \n",
      "\n",
      "14 2.31683023379455 2.406157213415048 \n",
      "\n",
      "15 2.327164471222378 2.634567524906655 \n",
      "\n",
      "16 2.3876341718542506 2.4843077262271662 \n",
      "\n",
      "17 2.206793603115665 2.3883296590355605 \n",
      "\n",
      "18 2.1633082339240604 2.329769682803829 \n",
      "\n",
      "19 2.1859482651609166 2.235529587681784 \n",
      "\n",
      "20 2.4040062324872387 2.484424952402687 \n",
      "\n",
      "21 2.2090606100229033 2.2947839416482316 \n",
      "\n",
      "22 2.3019056154429034 2.3694589272632114 \n",
      "\n",
      "23 2.0359120177587555 2.188394374187855 \n",
      "\n",
      "24 2.2457399381577385 2.383476303328076 \n",
      "\n",
      "25 2.321819933672818 2.4283562825057285 \n",
      "\n",
      "26 2.1235056494229894 2.2803072246430527 \n",
      "\n",
      "27 2.2499119693053324 2.4784170319118863 \n",
      "\n",
      "28 2.2206640425780875 2.2490067523744446 \n",
      "\n",
      "29 2.0483294143104493 2.353152138065735 \n",
      "\n",
      "30 1.8082905619741882 1.8311509846171634 \n",
      "\n",
      "31 2.0965475872257993 2.255478832749721 \n",
      "\n",
      "32 2.117262557650615 2.358571506809813 \n",
      "\n",
      "33 2.0750749015919863 2.1368207128578995 \n",
      "\n",
      "34 1.8883048681058894 2.170953180727046 \n",
      "\n",
      "35 2.1535942209785044 2.3150697157607154 \n",
      "\n",
      "36 2.0157553490672493 2.0386370103515747 \n",
      "\n",
      "37 1.9456943855617592 2.064480562720995 \n",
      "\n",
      "38 1.944233229111076 2.033746035321916 \n",
      "\n",
      "39 1.9569485019686284 2.0724137457330145 \n",
      "\n",
      "40 1.601554789082739 1.815277041221779 \n",
      "\n",
      "41 1.813111928764862 1.8685651013731062 \n",
      "\n",
      "42 1.7891197623024904 2.1520725583906577 \n",
      "\n",
      "43 1.9763857750809075 2.092895960729542 \n",
      "\n",
      "44 1.8851312336650154 2.135961410028621 \n",
      "\n",
      "45 1.9988979349257456 2.1338103816611484 \n",
      "\n",
      "46 1.7205942846815987 2.061400154069377 \n",
      "\n",
      "47 1.8890574444884605 2.045183400996024 \n",
      "\n",
      "48 1.977966797880304 2.120813021872129 \n",
      "\n",
      "49 1.914471966345043 2.077745950220852 \n",
      "\n",
      "50 1.605316743227576 1.844795893393215 \n",
      "\n",
      "51 1.889648761497661 2.1176236597787352 \n",
      "\n",
      "52 1.8472487741370909 2.080141229372434 \n",
      "\n",
      "53 1.5646281302518161 1.9914836156265219 \n",
      "\n",
      "54 1.4786404599868488 1.6930140369974707 \n",
      "\n",
      "55 1.6770351307674318 1.8779435309057642 \n",
      "\n",
      "56 1.352472783336773 1.5664073271347316 \n",
      "\n",
      "57 1.6105684304888777 1.7536223189632991 \n",
      "\n",
      "58 1.54411473129745 1.8132856744822485 \n",
      "\n",
      "59 1.5702366286711131 1.8628096166115413 \n",
      "\n",
      "60 1.6860792761348447 1.9336354818713613 \n",
      "\n",
      "61 1.3990245650511963 1.6259772998061417 \n",
      "\n",
      "62 1.1800170322962833 1.4291503770397462 \n",
      "\n",
      "63 1.6024042213861898 1.6801981900643415 \n",
      "\n",
      "64 1.341425295673949 1.6053493719839913 \n",
      "\n",
      "65 1.4728735763984824 1.7446009459376746 \n",
      "\n",
      "66 1.5029942121994642 1.6897189090960114 \n",
      "\n",
      "67 1.6595378774870506 1.895915164501846 \n",
      "\n",
      "68 1.1853536596053944 1.3797434847045875 \n",
      "\n",
      "69 1.388361707555328 1.4588329378582694 \n",
      "\n",
      "70 1.17941662231896 1.316899347389337 \n",
      "\n",
      "71 1.2826362227979593 1.6339396883068238 \n",
      "\n",
      "72 1.118395019392417 1.4259859756091156 \n",
      "\n",
      "73 1.2640922510881574 1.4762557881066194 \n",
      "\n",
      "74 1.3756964361626478 1.680413727784909 \n",
      "\n",
      "75 1.172557699879483 1.4279689024727262 \n",
      "\n",
      "76 1.1625867770933933 1.4536646848750323 \n",
      "\n",
      "77 1.2430119911828652 1.3063592067950904 \n",
      "\n",
      "78 0.9833295651121496 1.0590807161623774 \n",
      "\n",
      "79 1.1167978035637225 1.3008876150790256 \n",
      "\n",
      "80 0.8663332864092304 1.0124511747625218 \n",
      "\n",
      "81 0.753894102327676 0.9325035135026628 \n",
      "\n",
      "82 1.2812148389321842 1.5011522578860979 \n",
      "\n",
      "83 0.9279058900414164 1.301299495538144 \n",
      "\n",
      "84 0.8093000565378685 0.9443375040049063 \n",
      "\n",
      "85 0.7373161821437725 0.8203646152989621 \n",
      "\n",
      "86 0.8417279589320833 0.9807942195771964 \n",
      "\n",
      "87 0.8999297289327554 1.0916137253875202 \n",
      "\n",
      "88 0.783919965004249 1.0159679341119516 \n",
      "\n",
      "89 0.8040186642337664 1.0430494586513435 \n",
      "\n",
      "90 0.7113536770555406 0.9167287858266714 \n",
      "\n",
      "91 0.9976802639088259 1.2707017505055391 \n",
      "\n",
      "92 0.8599904513624901 1.0742066580352017 \n",
      "\n",
      "93 0.41818877464415627 0.5607641396428051 \n",
      "\n",
      "94 0.6125717989577236 0.8285441971156914 \n",
      "\n",
      "95 0.6768714099680684 0.8203892536758943 \n",
      "\n",
      "96 0.2877293720487917 0.33644209397263813 \n",
      "\n",
      "97 0.3845087868599882 0.5320364077606631 \n",
      "\n",
      "98 0.30904662163263413 0.3571435057728527 \n",
      "\n",
      "99 0.27212951497415794 0.35696276409491984 \n",
      "\n",
      "100 0.17277137087716618 0.2051118260531769 \n",
      "\n",
      "101 0.06722207799085242 0.08914654066007083 \n",
      "\n",
      "102 0.06722207799085345 0.08914654066006636 \n",
      "\n",
      "103 0.06722207799087496 0.0891465406600328 \n",
      "\n",
      "104 0.06722207799085018 0.08914654066005928 \n",
      "\n",
      "105 0.06722207799084953 0.08914654066006865 \n",
      "\n",
      "106 0.06722207799085222 0.08914654066006779 \n",
      "\n",
      "107 0.06722207799085304 0.08914654066006752 \n",
      "\n",
      "108 0.06722207799082565 0.08914654066008336 \n",
      "\n",
      "109 0.06722207799085284 0.08914654066006412 \n",
      "\n",
      "110 0.06722207799076986 0.08914654066013838 \n",
      "\n",
      "111 0.06722207799085278 0.08914654066006483 \n",
      "\n",
      "112 0.06722207799087167 0.08914654066011192 \n",
      "\n",
      "113 0.06722207799084941 0.0891465406600725 \n",
      "\n",
      "114 0.06722207799085549 0.08914654066006557 \n",
      "\n",
      "115 0.06722207799085211 0.08914654066006616 \n",
      "\n",
      "116 0.06722207799085299 0.08914654066006535 \n",
      "\n",
      "117 0.06722207799085084 0.08914654066006326 \n",
      "\n",
      "118 0.06722207799085479 0.08914654066005857 \n",
      "\n",
      "119 0.06722207799085309 0.08914654066006344 \n",
      "\n",
      "120 0.06722207799085289 0.08914654066006301 \n",
      "\n",
      "121 0.06722207799085285 0.08914654066006113 \n",
      "\n",
      "122 0.06722207799085278 0.08914654066006472 \n",
      "\n",
      "123 0.06722207799085209 0.08914654066006537 \n",
      "\n",
      "124 0.06722207799085107 0.08914654066006515 \n",
      "\n",
      "125 0.06722207799085164 0.08914654066006988 \n",
      "\n",
      "126 0.06722207799085252 0.08914654066006601 \n",
      "\n",
      "127 0.06722207799085293 0.08914654066005602 \n",
      "\n",
      "128 0.06722207799085222 0.08914654066006451 \n",
      "\n",
      "129 0.06722207799085178 0.0891465406600629 \n",
      "\n",
      "130 0.067222077990849 0.08914654066006676 \n",
      "\n",
      "131 0.06722207799085154 0.08914654066006505 \n",
      "\n",
      "132 0.06722207799085245 0.08914654066006394 \n",
      "\n",
      "133 0.06722207799085612 0.08914654066006976 \n",
      "\n",
      "134 0.06722207799085203 0.08914654066006578 \n",
      "\n",
      "135 0.06722207799085277 0.0891465406600516 \n",
      "\n",
      "136 0.06722207799085152 0.08914654066006625 \n",
      "\n",
      "137 0.06722207799085674 0.08914654066006338 \n",
      "\n",
      "138 0.06722207799085343 0.08914654066007169 \n",
      "\n",
      "139 0.06722207799085132 0.08914654066006202 \n",
      "\n",
      "140 0.06722207799085628 0.08914654066005008 \n",
      "\n",
      "141 0.06722207799085407 0.08914654066006299 \n",
      "\n",
      "142 0.06722207799085156 0.0891465406600656 \n",
      "\n",
      "143 0.06722207799084919 0.08914654066006496 \n",
      "\n",
      "144 0.06722207799084609 0.08914654066005949 \n",
      "\n",
      "145 0.06722207799085166 0.0891465406600651 \n",
      "\n",
      "146 0.06722207799085309 0.0891465406600659 \n",
      "\n",
      "147 0.06722207799084995 0.08914654066006464 \n",
      "\n",
      "148 0.06722207799084762 0.0891465406600609 \n",
      "\n",
      "149 0.06722207799085014 0.08914654066006719 \n",
      "\n",
      "150 0.06722207799085542 0.08914654066004771 \n",
      "\n",
      "151 0.06722207799085349 0.08914654066006784 \n",
      "\n",
      "152 0.06722207799085633 0.08914654066006403 \n",
      "\n",
      "153 0.06722207799085186 0.08914654066006202 \n",
      "\n",
      "154 0.06722207799085321 0.08914654066006493 \n",
      "\n",
      "155 0.0672220779908526 0.08914654066006406 \n",
      "\n",
      "156 0.06722207799085382 0.08914654066007273 \n",
      "\n",
      "157 0.0672220779908522 0.08914654066006622 \n",
      "\n",
      "158 0.06722207799084577 0.08914654066012431 \n",
      "\n",
      "159 0.06722207799085259 0.08914654066006392 \n",
      "\n",
      "160 0.06722207799085174 0.08914654066006901 \n",
      "\n",
      "161 0.06722207799085358 0.08914654066006385 \n",
      "\n",
      "162 0.06722207799085296 0.08914654066006546 \n",
      "\n",
      "163 0.06722207799085157 0.08914654066006245 \n",
      "\n",
      "164 0.06722207799085009 0.08914654066004851 \n",
      "\n",
      "165 0.06722207799085098 0.08914654066006236 \n",
      "\n",
      "166 0.06722207799085336 0.08914654066006525 \n",
      "\n",
      "167 0.06722207799084891 0.08914654066006335 \n",
      "\n",
      "168 0.06722207799085092 0.0891465406600638 \n",
      "\n",
      "169 0.06722207799085086 0.08914654066006568 \n",
      "\n",
      "170 0.0672220779908432 0.0891465406601052 \n",
      "\n",
      "171 0.06722207799085256 0.0891465406600609 \n",
      "\n",
      "172 0.06722207799085225 0.08914654066006397 \n",
      "\n",
      "173 0.06722207799084969 0.08914654066007169 \n",
      "\n",
      "174 0.06722207799085152 0.0891465406600633 \n",
      "\n",
      "175 0.06722207799085193 0.08914654066006496 \n",
      "\n",
      "176 0.0672220779908503 0.08914654066006486 \n",
      "\n",
      "177 0.067222077990852 0.08914654066006406 \n",
      "\n",
      "178 0.06722207799085218 0.0891465406600647 \n",
      "\n",
      "179 0.06722207799084448 0.08914654066006293 \n",
      "\n",
      "180 0.0672220779908527 0.08914654066006564 \n",
      "\n",
      "181 0.06722207799085164 0.08914654066006232 \n",
      "\n",
      "182 0.06722207799085382 0.08914654066005916 \n",
      "\n",
      "183 0.06722207799084912 0.08914654066006357 \n",
      "\n",
      "184 0.06722207799085203 0.08914654066006818 \n",
      "\n",
      "185 0.06722207799085199 0.0891465406600621 \n",
      "\n",
      "186 0.06722207799085858 0.08914654066006591 \n",
      "\n",
      "187 0.06722207799085171 0.08914654066006072 \n",
      "\n",
      "188 0.0672220779908574 0.08914654066007778 \n",
      "\n",
      "189 0.0672220779908519 0.08914654066006412 \n",
      "\n",
      "190 0.0672220779908551 0.08914654066006991 \n",
      "\n",
      "191 0.06722207799084931 0.08914654066006869 \n",
      "\n",
      "192 0.06722207799086535 0.08914654065998363 \n",
      "\n",
      "193 0.06722207799085184 0.08914654066006177 \n",
      "\n",
      "194 0.06722207799085532 0.08914654066007495 \n",
      "\n",
      "195 0.06722207799085246 0.08914654066006779 \n",
      "\n",
      "196 0.06722207799088295 0.08914654066006027 \n",
      "\n",
      "197 0.06722207799085272 0.08914654066006471 \n",
      "\n",
      "198 0.06722207799085006 0.0891465406600609 \n",
      "\n",
      "199 0.06722207799085221 0.08914654066006454 \n",
      "\n",
      "200 0.06722207799088727 0.08914654066009907 \n",
      "\n"
     ]
    }
   ],
   "source": [
    "for i in range(max_d): print(i+1, err[i], test_err[i], '\\n')"
   ]
  },
  {
   "cell_type": "code",
   "execution_count": null,
   "metadata": {},
   "outputs": [],
   "source": []
  },
  {
   "cell_type": "markdown",
   "metadata": {},
   "source": [
    "### The rank-deficient case"
   ]
  },
  {
   "cell_type": "code",
   "execution_count": 25,
   "metadata": {},
   "outputs": [
    {
     "data": {
      "text/plain": [
       "98"
      ]
     },
     "execution_count": 25,
     "metadata": {},
     "output_type": "execute_result"
    },
    {
     "data": {
      "image/png": "[encoded data removed]",
      "text/plain": [
       "<Figure size 432x288 with 1 Axes>"
      ]
     },
     "metadata": {
      "needs_background": "light"
     },
     "output_type": "display_data"
    }
   ],
   "source": [
    "m = 100\n",
    "N = 1000\n",
    "noise = 0.1\n",
    "reg = 0.1\n",
    "norm_ord = 1\n",
    "max_d = 3*m\n",
    "rank = m - 1\n",
    "\n",
    "f = make_fun(m)\n",
    "\n",
    "#Contexts do not span R^d\n",
    "X = gen_rank(N, m, rank)\n",
    "lsrank = np.linalg.matrix_rank(X)\n",
    "\n",
    "y = f(X) + noise * np.random.normal(size=N)\n",
    "ls_param = ls(X, y, reg)\n",
    "yls = np.matmul(X, ls_param)\n",
    "lserr = np.linalg.norm(yls - y, ord=norm_ord)**norm_ord / N\n",
    "\n",
    "X_test = gen_rank(N, m, rank)\n",
    "y_test = f(X_test) + noise * np.random.normal(size=N)\n",
    "yls_test = np.matmul(X_test, ls_param)\n",
    "test_lserr = np.linalg.norm(yls_test - y_test, ord=norm_ord)**norm_ord / N\n",
    "\n",
    "err = []\n",
    "test_err = []\n",
    "ranks = []\n",
    "for d in range(1, max_d+1):\n",
    "    yhat, rfm, theta = rf_approx(X, y, d, reg)\n",
    "    err.append(np.linalg.norm(y - yhat, ord=norm_ord)**norm_ord / N)\n",
    "    #print(rfm(X).shape)\n",
    "    ranks.append(np.linalg.matrix_rank(rfm(X)))\n",
    "    \n",
    "    #Test\n",
    "    yhat_test = np.matmul(rfm(X_test), theta)\n",
    "    test_err.append(np.linalg.norm(y_test - yhat_test, ord=norm_ord)**norm_ord / N)\n",
    "\n",
    "xx = range(1, max_d+1)\n",
    "plt.plot(xx, err)\n",
    "plt.plot(xx, test_err)\n",
    "plt.plot([xx[0], xx[-1]], [lserr, lserr])\n",
    "plt.plot([xx[0], xx[-1]], [test_lserr, test_lserr])\n",
    "plt.xlabel('d')\n",
    "plt.legend(('Training error', 'Test error', 'LS', 'LS test'))\n",
    "np.argmax(test_err)"
   ]
  },
  {
   "cell_type": "code",
   "execution_count": 26,
   "metadata": {},
   "outputs": [
    {
     "name": "stdout",
     "output_type": "stream",
     "text": [
      "99 100\n"
     ]
    },
    {
     "data": {
      "text/plain": [
       "Text(0.5, 0, 'd')"
      ]
     },
     "execution_count": 26,
     "metadata": {},
     "output_type": "execute_result"
    },
    {
     "data": {
      "image/png": "[encoded data removed]",
      "text/plain": [
       "<Figure size 432x288 with 1 Axes>"
      ]
     },
     "metadata": {
      "needs_background": "light"
     },
     "output_type": "display_data"
    }
   ],
   "source": [
    "print(lsrank, np.max(ranks))\n",
    "plt.plot(xx, ranks)\n",
    "plt.plot((xx[0], xx[-1]),(lsrank, lsrank))\n",
    "plt.legend(('rank after rf', 'original rank'))\n",
    "plt.xlabel('d')"
   ]
  },
  {
   "cell_type": "markdown",
   "metadata": {},
   "source": [
    "## Playing with perturbed matrices"
   ]
  },
  {
   "cell_type": "code",
   "execution_count": 27,
   "metadata": {},
   "outputs": [
    {
     "name": "stdout",
     "output_type": "stream",
     "text": [
      "1000\n",
      "2\n",
      "RFN:\n",
      "1/1000\n",
      "52/1000\n",
      "1000/1000\n"
     ]
    },
    {
     "data": {
      "text/plain": [
       "[<matplotlib.lines.Line2D at 0x7fdd40858dd8>]"
      ]
     },
     "execution_count": 27,
     "metadata": {},
     "output_type": "execute_result"
    },
    {
     "data": {
      "image/png": "[encoded data removed]",
      "text/plain": [
       "<Figure size 432x288 with 1 Axes>"
      ]
     },
     "metadata": {
      "needs_background": "light"
     },
     "output_type": "display_data"
    }
   ],
   "source": [
    "n = 2000\n",
    "m = 1000\n",
    "r = 1\n",
    "A = gen_rank(n,m,r)\n",
    "std = 1\n",
    "\n",
    "B = A + np.random.normal(size=(n, m), scale=std)\n",
    "print(np.linalg.matrix_rank(B))\n",
    "\n",
    "C = A + np.random.normal(size=m, scale=std)\n",
    "print(np.linalg.matrix_rank(C))\n",
    "\n",
    "\n",
    "print('RFN:')\n",
    "D = A\n",
    "rank = np.linalg.matrix_rank(D)\n",
    "ranks = [rank]\n",
    "print('%d/%d' % (rank, min(m, n)))\n",
    "max_layers = 100\n",
    "activation = np.cos\n",
    "#activation = lambda X: np.maximum(X, 0)\n",
    "#activation = lambda X: X**2 / np.linalg.norm(X**2, 2)\n",
    "#activation = lambda X: 0.01 * X**2\n",
    "while(np.linalg.matrix_rank(D) < min(n, m) and len(ranks) < max_layers):\n",
    "    W = np.random.normal(size=(n,n), scale=std)\n",
    "    b = np.random.normal(size=m, scale=std)\n",
    "    D = np.matmul(W, D) + b\n",
    "    D = activation(D)\n",
    "    rank = np.linalg.matrix_rank(D)\n",
    "    ranks.append(rank)\n",
    "    print('%d/%d' % (rank, min(m, n)))\n",
    "plt.plot(range(len(ranks)), ranks)"
   ]
  },
  {
   "cell_type": "markdown",
   "metadata": {},
   "source": [
    "## Fourier random features"
   ]
  },
  {
   "cell_type": "markdown",
   "metadata": {},
   "source": [
    "### Gaussian kernel"
   ]
  },
  {
   "cell_type": "code",
   "execution_count": 28,
   "metadata": {},
   "outputs": [],
   "source": [
    "#This represents functions in the RKHS of the Gaussian kernel k(x,x') = exp(-gamma||x-x'||^2) \n",
    "def make_fourier_rfm(d, m):\n",
    "    W = np.random.normal(size=(m, d))\n",
    "    b = np.random.uniform(low=0, high=2*math.pi, size=d)\n",
    "    return lambda X: np.cos(np.matmul(X, W) + b)"
   ]
  },
  {
   "cell_type": "code",
   "execution_count": 29,
   "metadata": {},
   "outputs": [],
   "source": [
    "def ls(A, b, reg=0):\n",
    "    return np.linalg.solve(np.matmul(A.T, A) + reg * np.eye(A.shape[-1]), np.matmul(A.T, b))\n",
    "\n",
    "def rf_fit(X, y, rfm, reg=0):\n",
    "    Phi = rfm(X) #Nxd\n",
    "    theta = ls(Phi, y, reg)\n",
    "    yhat = np.matmul(Phi, theta)\n",
    "    return yhat, theta, lambda Z: np.matmul(rfm(np.expand_dims(Z, 1)), theta)"
   ]
  },
  {
   "cell_type": "markdown",
   "metadata": {},
   "source": [
    "The Gaussian kernel is universal, which basically means we can represent all continuous functions (on compact sets)\n",
    "\n",
    "Let's try with polynomials (of scalar input)"
   ]
  },
  {
   "cell_type": "code",
   "execution_count": 30,
   "metadata": {},
   "outputs": [],
   "source": [
    "from numpy.polynomial.polynomial import Polynomial as Poly\n",
    "\n",
    "domain = [-1, 1]\n",
    "\n",
    "def make_poly(order=5):\n",
    "    coeff = 2 * np.random.uniform(size=order+1) - 1\n",
    "    poly = Poly(coeff, domain)\n",
    "    return lambda x: poly(x).squeeze()"
   ]
  },
  {
   "cell_type": "code",
   "execution_count": 31,
   "metadata": {},
   "outputs": [
    {
     "data": {
      "text/plain": [
       "[<matplotlib.lines.Line2D at 0x7fdd500b3b00>]"
      ]
     },
     "execution_count": 31,
     "metadata": {},
     "output_type": "execute_result"
    },
    {
     "data": {
      "image/png": "[encoded data removed]",
      "text/plain": [
       "<Figure size 432x288 with 1 Axes>"
      ]
     },
     "metadata": {
      "needs_background": "light"
     },
     "output_type": "display_data"
    }
   ],
   "source": [
    "f = make_poly()\n",
    "xx = np.linspace(domain[0], domain[1], num=1000)\n",
    "plt.plot(xx, f(xx))"
   ]
  },
  {
   "cell_type": "code",
   "execution_count": 43,
   "metadata": {},
   "outputs": [],
   "source": [
    "N = 100\n",
    "noise = 0.1\n",
    "\n",
    "X = 2 * np.random.uniform(size=(N, 1)) - 1\n",
    "y = f(X) + noise * np.random.normal(size=N)"
   ]
  },
  {
   "cell_type": "code",
   "execution_count": 49,
   "metadata": {},
   "outputs": [],
   "source": [
    "dmax = 20\n",
    "reg = 0.1\n",
    "results = []\n",
    "ranks = []\n",
    "for d in range(1, dmax+1):\n",
    "    rfm = make_fourier_rfm(d, 1)\n",
    "    results.append(rf_fit(X, y, rfm, reg))\n",
    "    ranks.append(np.linalg.matrix_rank(rfm(X)))"
   ]
  },
  {
   "cell_type": "code",
   "execution_count": 50,
   "metadata": {},
   "outputs": [
    {
     "data": {
      "application/vnd.jupyter.widget-view+json": {
       "model_id": "d232ef698ed1401bbe254ffa06c85f73",
       "version_major": 2,
       "version_minor": 0
      },
      "text/plain": [
       "interactive(children=(IntSlider(value=1, description='d', max=20, min=1), Output()), _dom_classes=('widget-int…"
      ]
     },
     "metadata": {},
     "output_type": "display_data"
    }
   ],
   "source": [
    "xx = np.linspace(domain[0], domain[1], num=1000)\n",
    "\n",
    "def update(d):\n",
    "    plt.scatter(X.squeeze(), y)\n",
    "    plt.plot(xx, results[d-1][2](xx), 'orange')\n",
    "    axes = plt.gca()\n",
    "    axes.set_xlim(domain)\n",
    "    axes.set_ylim(min(y) - 0.1, max(y) + 0.1)\n",
    "    \n",
    "slider = widgets.interact(update, d=widgets.IntSlider(min=1, max=dmax, step=1, value=1))"
   ]
  },
  {
   "cell_type": "markdown",
   "metadata": {},
   "source": [
    "Rank of design matrix as a function of dimension"
   ]
  },
  {
   "cell_type": "code",
   "execution_count": 51,
   "metadata": {},
   "outputs": [
    {
     "data": {
      "text/plain": [
       "[<matplotlib.lines.Line2D at 0x7fdd7862bc18>]"
      ]
     },
     "execution_count": 51,
     "metadata": {},
     "output_type": "execute_result"
    },
    {
     "data": {
      "image/png": "[encoded data removed]",
      "text/plain": [
       "<Figure size 432x288 with 1 Axes>"
      ]
     },
     "metadata": {
      "needs_background": "light"
     },
     "output_type": "display_data"
    }
   ],
   "source": [
    "plt.plot(range(1, dmax+1), ranks)"
   ]
  },
  {
   "cell_type": "markdown",
   "metadata": {},
   "source": [
    "### Extreme machines"
   ]
  },
  {
   "cell_type": "code",
   "execution_count": 52,
   "metadata": {},
   "outputs": [],
   "source": [
    "def make_fourier_network(widths, input_dim):\n",
    "    layers = []\n",
    "    d_prev = input_dim\n",
    "    for d in widths:\n",
    "        W = np.random.normal(size=(d_prev, d))\n",
    "        b = np.random.uniform(low=0, high=2*math.pi, size=d)\n",
    "        layers.append({'W': W, 'b': b})\n",
    "        d_prev = d\n",
    "    def fourier_network(X):\n",
    "        P = X\n",
    "        for lay in layers:\n",
    "            P = np.cos(np.matmul(P, lay['W']) + lay['b'])\n",
    "        return P\n",
    "    return fourier_network"
   ]
  },
  {
   "cell_type": "code",
   "execution_count": 53,
   "metadata": {},
   "outputs": [],
   "source": [
    "layers = 2\n",
    "dmax = 20\n",
    "reg = 0.1\n",
    "results = []\n",
    "ranks = []\n",
    "for d in range(1, dmax+1):\n",
    "    rfm = make_fourier_network([d]*layers, 1)\n",
    "    results.append(rf_fit(X, y, rfm, reg))\n",
    "    ranks.append(np.linalg.matrix_rank(rfm(X)))"
   ]
  },
  {
   "cell_type": "code",
   "execution_count": 54,
   "metadata": {},
   "outputs": [
    {
     "data": {
      "application/vnd.jupyter.widget-view+json": {
       "model_id": "c083a0a9ea88452e846716ca8a015412",
       "version_major": 2,
       "version_minor": 0
      },
      "text/plain": [
       "interactive(children=(IntSlider(value=1, description='d', max=20, min=1), Output()), _dom_classes=('widget-int…"
      ]
     },
     "metadata": {},
     "output_type": "display_data"
    }
   ],
   "source": [
    "xx = np.linspace(domain[0], domain[1], num=1000)\n",
    "\n",
    "def update(d):\n",
    "    plt.scatter(X.squeeze(), y)\n",
    "    plt.plot(xx, results[d-1][2](xx), 'orange')\n",
    "    axes = plt.gca()\n",
    "    axes.set_xlim(domain)\n",
    "    axes.set_ylim(min(y) - 0.1, max(y) + 0.1)\n",
    "    \n",
    "slider = widgets.interact(update, d=widgets.IntSlider(min=1, max=dmax, step=1, value=1))"
   ]
  },
  {
   "cell_type": "markdown",
   "metadata": {},
   "source": [
    "Rank of design matrix as a function of width"
   ]
  },
  {
   "cell_type": "code",
   "execution_count": 55,
   "metadata": {},
   "outputs": [
    {
     "data": {
      "text/plain": [
       "[<matplotlib.lines.Line2D at 0x7fdd08127a20>]"
      ]
     },
     "execution_count": 55,
     "metadata": {},
     "output_type": "execute_result"
    },
    {
     "data": {
      "image/png": "[encoded data removed]",
      "text/plain": [
       "<Figure size 432x288 with 1 Axes>"
      ]
     },
     "metadata": {
      "needs_background": "light"
     },
     "output_type": "display_data"
    }
   ],
   "source": [
    "plt.plot(range(1, dmax+1), ranks)"
   ]
  },
  {
   "cell_type": "code",
   "execution_count": null,
   "metadata": {},
   "outputs": [],
   "source": []
  }
 ],
 "metadata": {
  "kernelspec": {
   "display_name": "Python 3",
   "language": "python",
   "name": "python3"
  },
  "language_info": {
   "codemirror_mode": {
    "name": "ipython",
    "version": 3
   },
   "file_extension": ".py",
   "mimetype": "text/x-python",
   "name": "python",
   "nbconvert_exporter": "python",
   "pygments_lexer": "ipython3",
   "version": "3.6.12"
  }
 },
 "nbformat": 4,
 "nbformat_minor": 4
}
