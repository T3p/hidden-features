{
 "cells": [
  {
   "cell_type": "code",
   "execution_count": 1,
   "metadata": {},
   "outputs": [],
   "source": [
    "import numpy as np\n",
    "import matplotlib.pyplot as plt\n",
    "import ipywidgets as widgets\n",
    "import math"
   ]
  },
  {
   "cell_type": "markdown",
   "metadata": {},
   "source": [
    "## Finite case\n",
    "$x\\in[M]$"
   ]
  },
  {
   "cell_type": "code",
   "execution_count": 2,
   "metadata": {},
   "outputs": [],
   "source": [
    "M = 1000"
   ]
  },
  {
   "cell_type": "markdown",
   "metadata": {},
   "source": [
    "### True function"
   ]
  },
  {
   "cell_type": "code",
   "execution_count": 3,
   "metadata": {},
   "outputs": [],
   "source": [
    "_d = 10\n",
    "param = np.random.uniform(size=_d) - 1/2\n",
    "fmap = np.array([[(x/M)**y for y in range(_d)] for x in range(M)])\n",
    "#fmap = np.random.uniform(size = (M, _d))\n",
    "_f = np.matmul(fmap, param)\n",
    "f = lambda x: _f[x]"
   ]
  },
  {
   "cell_type": "code",
   "execution_count": 4,
   "metadata": {},
   "outputs": [
    {
     "data": {
      "text/plain": [
       "[<matplotlib.lines.Line2D at 0x7fd5b072b2b0>]"
      ]
     },
     "execution_count": 4,
     "metadata": {},
     "output_type": "execute_result"
    },
    {
     "data": {
      "image/png": "[encoded data removed]",
      "text/plain": [
       "<Figure size 432x288 with 1 Axes>"
      ]
     },
     "metadata": {
      "needs_background": "light"
     },
     "output_type": "display_data"
    }
   ],
   "source": [
    "plt.plot(range(M), _f)"
   ]
  },
  {
   "cell_type": "code",
   "execution_count": 5,
   "metadata": {},
   "outputs": [],
   "source": [
    "ylim = [min(_f)-0.1, max(_f)+0.1]"
   ]
  },
  {
   "cell_type": "markdown",
   "metadata": {},
   "source": [
    "### Approximation with d random features (no noise)"
   ]
  },
  {
   "cell_type": "code",
   "execution_count": 6,
   "metadata": {},
   "outputs": [],
   "source": [
    "def rfmap(d):\n",
    "    return np.random.normal(size=(M,d))"
   ]
  },
  {
   "cell_type": "code",
   "execution_count": 7,
   "metadata": {},
   "outputs": [],
   "source": [
    "def ols(X, y, reg=0):\n",
    "    A = np.matmul(X.T,X) + reg * np.eye(d)\n",
    "    b = np.matmul(X.T, y)\n",
    "    theta = np.linalg.solve(A,b)\n",
    "    return np.matmul(X, theta), theta"
   ]
  },
  {
   "cell_type": "code",
   "execution_count": 8,
   "metadata": {},
   "outputs": [],
   "source": [
    "RF = rfmap(M)\n",
    "err = np.zeros(M)\n",
    "perr = np.zeros(M)\n",
    "fhats = np.zeros((M,M))\n",
    "for d in range(1, M+1):\n",
    "    X = RF[:, :d] \n",
    "    y = _f\n",
    "    fhat, theta = ols(X, y)\n",
    "    fhats[d-1] = fhat\n",
    "    err[d-1] = np.linalg.norm(fhat - _f, ord=1) / M\n",
    "    "
   ]
  },
  {
   "cell_type": "code",
   "execution_count": 9,
   "metadata": {
    "scrolled": true
   },
   "outputs": [
    {
     "data": {
      "text/plain": [
       "[<matplotlib.lines.Line2D at 0x7fd5e03d4e80>]"
      ]
     },
     "execution_count": 9,
     "metadata": {},
     "output_type": "execute_result"
    },
    {
     "data": {
      "image/png": "[encoded data removed]",
      "text/plain": [
       "<Figure size 432x288 with 1 Axes>"
      ]
     },
     "metadata": {
      "needs_background": "light"
     },
     "output_type": "display_data"
    }
   ],
   "source": [
    "plt.plot(range(M), err)\n",
    "plt.plot(range(M), 0.2/np.sqrt(range(1,M+1)))"
   ]
  },
  {
   "cell_type": "code",
   "execution_count": 10,
   "metadata": {},
   "outputs": [
    {
     "data": {
      "application/vnd.jupyter.widget-view+json": {
       "model_id": "561e0e2dad5d4f44abe455770820fdb0",
       "version_major": 2,
       "version_minor": 0
      },
      "text/plain": [
       "interactive(children=(IntSlider(value=1, description='d', max=1000, min=1), Output()), _dom_classes=('widget-i…"
      ]
     },
     "metadata": {},
     "output_type": "display_data"
    }
   ],
   "source": [
    "xx = range(M)\n",
    "\n",
    "def update(d = 1):\n",
    "    plt.plot(xx, _f, xx, fhats[d-1])\n",
    "    axes = plt.gca()\n",
    "    axes.set_ylim(ylim)\n",
    "    \n",
    "slider = widgets.interact(update, d=widgets.IntSlider(min=1, max=M, step=1, value=1))"
   ]
  },
  {
   "cell_type": "code",
   "execution_count": null,
   "metadata": {},
   "outputs": [],
   "source": []
  },
  {
   "cell_type": "markdown",
   "metadata": {},
   "source": [
    "### With noise"
   ]
  },
  {
   "cell_type": "code",
   "execution_count": 11,
   "metadata": {},
   "outputs": [],
   "source": [
    "N = 900\n",
    "noise = 0.001\n",
    "reg = 1\n",
    "S = np.random.choice(M, size=N, replace=True)\n",
    "y = _f[S] + noise * np.random.normal(size=N)"
   ]
  },
  {
   "cell_type": "code",
   "execution_count": 12,
   "metadata": {},
   "outputs": [],
   "source": [
    "RF = rfmap(M)\n",
    "err = np.zeros(M)\n",
    "fhats = np.zeros((M,M))\n",
    "for d in range(1, M+1):\n",
    "    X = RF[S, :d] \n",
    "    fhat, theta = ols(X, y, reg)\n",
    "    err[d-1] = np.linalg.norm(np.matmul(RF[:, :d], theta) - _f, ord=1) / N\n",
    "    fhats[d-1] = np.matmul(RF[:, :d], theta)"
   ]
  },
  {
   "cell_type": "code",
   "execution_count": 13,
   "metadata": {
    "scrolled": true
   },
   "outputs": [
    {
     "data": {
      "text/plain": [
       "[<matplotlib.lines.Line2D at 0x7fd568810d68>]"
      ]
     },
     "execution_count": 13,
     "metadata": {},
     "output_type": "execute_result"
    },
    {
     "data": {
      "image/png": "[encoded data removed]",
      "text/plain": [
       "<Figure size 432x288 with 1 Axes>"
      ]
     },
     "metadata": {
      "needs_background": "light"
     },
     "output_type": "display_data"
    }
   ],
   "source": [
    "plt.plot(range(M), err)"
   ]
  },
  {
   "cell_type": "code",
   "execution_count": 14,
   "metadata": {},
   "outputs": [
    {
     "data": {
      "application/vnd.jupyter.widget-view+json": {
       "model_id": "dbd419685ebe472aa23efbf2e33cf4e2",
       "version_major": 2,
       "version_minor": 0
      },
      "text/plain": [
       "interactive(children=(IntSlider(value=1000, description='d', max=1000, min=1), Output()), _dom_classes=('widge…"
      ]
     },
     "metadata": {},
     "output_type": "display_data"
    }
   ],
   "source": [
    "xx = range(M)\n",
    "\n",
    "def update(d = 1):\n",
    "    plt.scatter(S,y)\n",
    "    plt.plot(xx, fhats[d-1])\n",
    "    axes = plt.gca()\n",
    "    axes.set_ylim(ylim)\n",
    "    \n",
    "slider = widgets.interact(update, d=widgets.IntSlider(min=1, max=M, step=1, value=M))"
   ]
  },
  {
   "cell_type": "code",
   "execution_count": null,
   "metadata": {},
   "outputs": [],
   "source": []
  },
  {
   "cell_type": "markdown",
   "metadata": {},
   "source": [
    "## Linear case\n",
    "\n",
    "$x\\in\\mathbb{R}^m$"
   ]
  },
  {
   "cell_type": "code",
   "execution_count": 15,
   "metadata": {},
   "outputs": [],
   "source": [
    "def make_fun(m):\n",
    "    param = 2 * np.random.uniform(size=m) - 1\n",
    "    return lambda x : np.matmul(x, param)"
   ]
  },
  {
   "cell_type": "code",
   "execution_count": 16,
   "metadata": {},
   "outputs": [],
   "source": [
    "#This represents functions of the form <x,c> + d\n",
    "def make_rfm(d, m):\n",
    "    A = np.random.normal(size=(d, m))\n",
    "    b = np.random.normal(size=d)\n",
    "    return lambda X: np.matmul(A, X.T).T + b"
   ]
  },
  {
   "cell_type": "code",
   "execution_count": 17,
   "metadata": {},
   "outputs": [],
   "source": [
    "def ls(A, b, reg=0):\n",
    "    return np.linalg.solve(np.matmul(A.T, A) + reg * np.eye(A.shape[-1]), np.matmul(A.T, b))"
   ]
  },
  {
   "cell_type": "code",
   "execution_count": 18,
   "metadata": {},
   "outputs": [],
   "source": [
    "def rf_approx(X, y, d, reg=0):\n",
    "    rfm = make_rfm(d, X.shape[-1])\n",
    "    Phi = rfm(X) #Nxd\n",
    "    theta = ls(Phi, y, reg)\n",
    "    yhat = np.matmul(Phi, theta)\n",
    "    return yhat, rfm, theta"
   ]
  },
  {
   "cell_type": "code",
   "execution_count": 19,
   "metadata": {},
   "outputs": [],
   "source": [
    "def gen_rank(n, m, r):\n",
    "    A = 2 * np.random.uniform(size=(n, r)) - 1\n",
    "    B = 2 * np.random.uniform(size=(r, r)) - 1\n",
    "    C = 2 * np.random.uniform(size=(r, m)) - 1\n",
    "    M = np.matmul(np.matmul(A, B), C)\n",
    "    assert np.linalg.matrix_rank(M) == r\n",
    "    return M"
   ]
  },
  {
   "cell_type": "markdown",
   "metadata": {},
   "source": [
    "### Scalar example"
   ]
  },
  {
   "cell_type": "code",
   "execution_count": 20,
   "metadata": {},
   "outputs": [
    {
     "data": {
      "text/plain": [
       "(-1.0, 1.0)"
      ]
     },
     "execution_count": 20,
     "metadata": {},
     "output_type": "execute_result"
    },
    {
     "data": {
      "image/png": "[encoded data removed]",
      "text/plain": [
       "<Figure size 432x288 with 1 Axes>"
      ]
     },
     "metadata": {
      "needs_background": "light"
     },
     "output_type": "display_data"
    }
   ],
   "source": [
    "m = 1\n",
    "N = 100\n",
    "noise = 0\n",
    "d = 2\n",
    "\n",
    "f = make_fun(m)\n",
    "X = 2 * np.random.uniform(size=(N, m)) - 1\n",
    "y = f(X) + noise * np.random.normal(size=N)\n",
    "yhat, _, _ = rf_approx(X, y, d)\n",
    "xx = np.linspace(-1,1,100)\n",
    "plt.scatter(X, y)\n",
    "plt.plot(X, yhat)\n",
    "ax = plt.gca()\n",
    "ax.set_ylim([-1,1])\n",
    "ax.set_xlim([-1,1])"
   ]
  },
  {
   "cell_type": "markdown",
   "metadata": {},
   "source": [
    "### Full-rank case"
   ]
  },
  {
   "cell_type": "code",
   "execution_count": 21,
   "metadata": {},
   "outputs": [
    {
     "data": {
      "text/plain": [
       "<matplotlib.legend.Legend at 0x7fd5a4c30fd0>"
      ]
     },
     "execution_count": 21,
     "metadata": {},
     "output_type": "execute_result"
    },
    {
     "data": {
      "image/png": "[encoded data removed]",
      "text/plain": [
       "<Figure size 432x288 with 1 Axes>"
      ]
     },
     "metadata": {
      "needs_background": "light"
     },
     "output_type": "display_data"
    }
   ],
   "source": [
    "m = 100\n",
    "N = 500\n",
    "noise = 0.1\n",
    "reg = 0\n",
    "norm_ord = 1\n",
    "max_d = 2 * m\n",
    "\n",
    "f = make_fun(m)\n",
    "X = 2 * np.random.uniform(size=(N, m)) - 1\n",
    "y = f(X) + noise * np.random.normal(size=N)\n",
    "ls_param = ls(X, y, reg)\n",
    "yls = np.matmul(X, ls_param)\n",
    "lserr = np.linalg.norm(yls - y, ord=norm_ord)**norm_ord / N\n",
    "lsrank = np.linalg.matrix_rank(X)\n",
    "\n",
    "X_test = 2 * np.random.uniform(size=(N, m)) - 1\n",
    "y_test = f(X_test) + noise * np.random.normal(size=N)\n",
    "yls_test = np.matmul(X_test, ls_param)\n",
    "test_lserr = np.linalg.norm(yls_test - y_test, ord=norm_ord)**norm_ord / N\n",
    "\n",
    "err = []\n",
    "test_err = []\n",
    "ranks = []\n",
    "for d in range(1, max_d+1):\n",
    "    yhat, rfm, theta = rf_approx(X, y, d, reg)\n",
    "    err.append(np.linalg.norm(y - yhat, ord=norm_ord)**norm_ord / N)\n",
    "    ranks.append(np.linalg.matrix_rank(rfm(X)))\n",
    "    \n",
    "    #Test\n",
    "    yhat_test = np.matmul(rfm(X_test), theta)\n",
    "    test_err.append(np.linalg.norm(y_test - yhat_test, ord=norm_ord)**norm_ord / N)\n",
    "\n",
    "xx = range(1, max_d+1)\n",
    "plt.plot(xx, err)\n",
    "plt.plot(xx, test_err)\n",
    "plt.plot([xx[0], xx[-1]], [lserr, lserr])\n",
    "plt.plot([xx[0], xx[-1]], [test_lserr, test_lserr])\n",
    "plt.xlabel('d')\n",
    "plt.legend(('Training error', 'Test error', 'LS', 'LS test'))"
   ]
  },
  {
   "cell_type": "code",
   "execution_count": 22,
   "metadata": {},
   "outputs": [
    {
     "data": {
      "text/plain": [
       "(0.0, 0.3294859079689279)"
      ]
     },
     "execution_count": 22,
     "metadata": {},
     "output_type": "execute_result"
    },
    {
     "data": {
      "image/png": "[encoded data removed]",
      "text/plain": [
       "<Figure size 432x288 with 1 Axes>"
      ]
     },
     "metadata": {
      "needs_background": "light"
     },
     "output_type": "display_data"
    }
   ],
   "source": [
    "xx = range(1, max_d+1)\n",
    "plt.plot(xx, err)\n",
    "plt.plot(xx, test_err)\n",
    "plt.plot([xx[0], xx[-1]], [lserr, lserr])\n",
    "plt.plot([xx[0], xx[-1]], [test_lserr, test_lserr])\n",
    "plt.xlabel('d')\n",
    "plt.legend(('Training error', 'Test error', 'LS', 'LS test'))\n",
    "plt.gca().set_xlim((m-3, m+3))\n",
    "plt.gca().set_ylim((0,err[m-4]))"
   ]
  },
  {
   "cell_type": "code",
   "execution_count": 23,
   "metadata": {},
   "outputs": [
    {
     "name": "stdout",
     "output_type": "stream",
     "text": [
      "100 101\n"
     ]
    },
    {
     "data": {
      "text/plain": [
       "<matplotlib.legend.Legend at 0x7fd5f10c0f28>"
      ]
     },
     "execution_count": 23,
     "metadata": {},
     "output_type": "execute_result"
    },
    {
     "data": {
      "image/png": "[encoded data removed]",
      "text/plain": [
       "<Figure size 432x288 with 1 Axes>"
      ]
     },
     "metadata": {
      "needs_background": "light"
     },
     "output_type": "display_data"
    }
   ],
   "source": [
    "print(lsrank, np.max(ranks))\n",
    "plt.plot(xx, ranks)\n",
    "plt.plot((xx[0], xx[-1]),(lsrank, lsrank))\n",
    "plt.legend(('rank after rf', 'original rank'))"
   ]
  },
  {
   "cell_type": "code",
   "execution_count": 24,
   "metadata": {},
   "outputs": [
    {
     "name": "stdout",
     "output_type": "stream",
     "text": [
      "1 2.4287931313928137 2.670432034301388 \n",
      "\n",
      "2 2.3875542306255837 2.621943290807546 \n",
      "\n",
      "3 2.398635932844958 2.670208740332797 \n",
      "\n",
      "4 2.419738055542555 2.628805007806552 \n",
      "\n",
      "5 2.3723824111380303 2.6178042522329026 \n",
      "\n",
      "6 2.3184154362174065 2.575971164878995 \n",
      "\n",
      "7 2.4002303024907374 2.630539581860801 \n",
      "\n",
      "8 2.3565137867610337 2.624708653000657 \n",
      "\n",
      "9 2.371511629410585 2.7181956139150385 \n",
      "\n",
      "10 2.3249728538765817 2.5151306081679117 \n",
      "\n",
      "11 2.2867390632703346 2.5843895509090826 \n",
      "\n",
      "12 2.3642238136893874 2.5642324399171486 \n",
      "\n",
      "13 2.2120282995864615 2.440983959399788 \n",
      "\n",
      "14 2.3011602956455155 2.4707773568388016 \n",
      "\n",
      "15 2.2382250023768573 2.4177980313529797 \n",
      "\n",
      "16 2.2756997714209337 2.478139891365376 \n",
      "\n",
      "17 2.1930459624747765 2.5015791555775198 \n",
      "\n",
      "18 2.1297708040301075 2.3092580148285187 \n",
      "\n",
      "19 2.2621068964155886 2.434534534418991 \n",
      "\n",
      "20 2.221598105331715 2.5415983302278766 \n",
      "\n",
      "21 2.201959764097156 2.4174300791334233 \n",
      "\n",
      "22 2.0813138088515415 2.3086210257412985 \n",
      "\n",
      "23 2.068024288496863 2.392980106286772 \n",
      "\n",
      "24 2.1811016171341953 2.493440442943005 \n",
      "\n",
      "25 2.010395331040055 2.2995557059919665 \n",
      "\n",
      "26 2.162073687779686 2.404336233060424 \n",
      "\n",
      "27 2.155469597734992 2.3783713702682694 \n",
      "\n",
      "28 2.11861189582154 2.452416000197426 \n",
      "\n",
      "29 1.9590980181876134 2.1814664848644734 \n",
      "\n",
      "30 1.9681744664995249 2.186371616815308 \n",
      "\n",
      "31 2.1946113022033784 2.4603802959561456 \n",
      "\n",
      "32 2.000357450393808 2.340589838463538 \n",
      "\n",
      "33 1.9990291242846896 2.0911459657202167 \n",
      "\n",
      "34 1.9895778577383898 2.274782268984959 \n",
      "\n",
      "35 2.0395610370293564 2.2728493029849277 \n",
      "\n",
      "36 2.077276101998822 2.3861844920912514 \n",
      "\n",
      "37 1.9448471959124927 2.268004086838443 \n",
      "\n",
      "38 2.0734047849742447 2.3584909686234385 \n",
      "\n",
      "39 1.909153773551108 2.223645519291784 \n",
      "\n",
      "40 1.9671018990449192 2.2372751088529084 \n",
      "\n",
      "41 1.807712074220691 2.256298249401685 \n",
      "\n",
      "42 1.7883244128130158 2.0836591991347215 \n",
      "\n",
      "43 1.6845280548412451 1.9890714713820348 \n",
      "\n",
      "44 1.8005126781859413 2.062805362334 \n",
      "\n",
      "45 1.8290078653945379 2.2341565503316985 \n",
      "\n",
      "46 1.7828118704206168 2.0629363734096913 \n",
      "\n",
      "47 1.6782778132083618 1.9176133556359691 \n",
      "\n",
      "48 1.7095245736704678 1.992678586286102 \n",
      "\n",
      "49 1.7949226397185152 2.100224871990023 \n",
      "\n",
      "50 1.7352588743080677 1.9619396452288937 \n",
      "\n",
      "51 1.725695910825375 1.9237664073441543 \n",
      "\n",
      "52 1.5832902041911712 1.917912415634697 \n",
      "\n",
      "53 1.7584971061082915 2.03778229597251 \n",
      "\n",
      "54 1.5874643877382437 1.8114075602689539 \n",
      "\n",
      "55 1.6204179050803487 1.919376653171565 \n",
      "\n",
      "56 1.7469197494164295 1.9616731421835172 \n",
      "\n",
      "57 1.5328454310510247 1.7851500227747723 \n",
      "\n",
      "58 1.5917272462327445 1.8380838399239432 \n",
      "\n",
      "59 1.6609382052204638 1.9195409165067054 \n",
      "\n",
      "60 1.5741531647363596 1.7788758039871455 \n",
      "\n",
      "61 1.4854397945324262 1.7219027663506847 \n",
      "\n",
      "62 1.4529349606128508 1.7176358581852307 \n",
      "\n",
      "63 1.7199832086087554 2.0453803692546817 \n",
      "\n",
      "64 1.5512044782055685 1.8252311981852212 \n",
      "\n",
      "65 1.4971396890268225 1.6530186892760161 \n",
      "\n",
      "66 1.503359421757906 1.751040404789011 \n",
      "\n",
      "67 1.3907327765023574 1.6179620341286527 \n",
      "\n",
      "68 1.4259902349227078 1.7186328453225965 \n",
      "\n",
      "69 1.1706604166064407 1.4590967180672851 \n",
      "\n",
      "70 1.2850417649766797 1.5367360616841443 \n",
      "\n",
      "71 1.2281908617626236 1.4500721866042967 \n",
      "\n",
      "72 1.134352021379311 1.39415473515655 \n",
      "\n",
      "73 1.2340417351866477 1.4467794818822122 \n",
      "\n",
      "74 1.090505910540264 1.2521143195558184 \n",
      "\n",
      "75 1.2774590981681218 1.6507817447806632 \n",
      "\n",
      "76 1.1796297873991535 1.4191330975637577 \n",
      "\n",
      "77 1.3504327841225372 1.5307977732133276 \n",
      "\n",
      "78 1.2556509007275771 1.5193399014229911 \n",
      "\n",
      "79 1.1778835784711887 1.214228028670313 \n",
      "\n",
      "80 0.8370911219500264 1.0286506472332073 \n",
      "\n",
      "81 0.9834537816027914 1.1434723763440102 \n",
      "\n",
      "82 0.790856163775552 0.93618381970826 \n",
      "\n",
      "83 0.9371601791628233 1.179024666438395 \n",
      "\n",
      "84 1.0529135944225745 1.3323758565568073 \n",
      "\n",
      "85 0.7775531202168813 0.9464750297321453 \n",
      "\n",
      "86 1.2148660644261604 1.4847813051964331 \n",
      "\n",
      "87 0.8592840199338141 1.1228762946484394 \n",
      "\n",
      "88 0.8997190982678238 1.1550175755247771 \n",
      "\n",
      "89 0.6910164859323626 0.848834753674904 \n",
      "\n",
      "90 0.8134858300803998 0.9283234181351245 \n",
      "\n",
      "91 0.8526655184436704 1.0003718352263093 \n",
      "\n",
      "92 0.7699799903501294 0.965508693679938 \n",
      "\n",
      "93 0.7813378880173304 0.9829119618337846 \n",
      "\n",
      "94 0.4105231801454879 0.5012361088804623 \n",
      "\n",
      "95 0.35615397766447265 0.42716533408502105 \n",
      "\n",
      "96 0.7822741252231099 0.9599052834472533 \n",
      "\n",
      "97 0.3294859079689279 0.4341877100956575 \n",
      "\n",
      "98 0.3507727491887646 0.4088827319832061 \n",
      "\n",
      "99 0.25260219045083354 0.33532675579519905 \n",
      "\n",
      "100 0.16901765379927286 0.18886224464835244 \n",
      "\n",
      "101 0.07727572159267664 0.09065364970231735 \n",
      "\n",
      "102 0.07727572159267192 0.0906536497022967 \n",
      "\n",
      "103 0.07727572159267633 0.09065364970230158 \n",
      "\n",
      "104 0.07727572159268058 0.09065364970231334 \n",
      "\n",
      "105 0.07727572159267851 0.09065364970231311 \n",
      "\n",
      "106 0.07727572159267566 0.090653649702308 \n",
      "\n",
      "107 0.07727572159267695 0.09065364970230595 \n",
      "\n",
      "108 0.07727572159267558 0.0906536497022977 \n",
      "\n",
      "109 0.0772757215926756 0.09065364970230848 \n",
      "\n",
      "110 0.07727572159267652 0.09065364970230264 \n",
      "\n",
      "111 0.07727572159267958 0.09065364970230329 \n",
      "\n",
      "112 0.07727572159267433 0.09065364970229976 \n",
      "\n",
      "113 0.07727572159267562 0.09065364970230122 \n",
      "\n",
      "114 0.07727572159267605 0.09065364970230169 \n",
      "\n",
      "115 0.07727572159267265 0.09065364970230481 \n",
      "\n",
      "116 0.07727572159267732 0.09065364970230225 \n",
      "\n",
      "117 0.07727572159262394 0.09065364970220209 \n",
      "\n",
      "118 0.07727572159267695 0.09065364970230014 \n",
      "\n",
      "119 0.07727572159267306 0.09065364970233272 \n",
      "\n",
      "120 0.07727572159267512 0.0906536497023009 \n",
      "\n",
      "121 0.07727572159267822 0.09065364970230687 \n",
      "\n",
      "122 0.07727572159267797 0.09065364970230214 \n",
      "\n",
      "123 0.07727572159267511 0.09065364970231077 \n",
      "\n",
      "124 0.07727572159267744 0.09065364970230473 \n",
      "\n",
      "125 0.07727572159267652 0.09065364970229732 \n",
      "\n",
      "126 0.07727572159267747 0.0906536497022924 \n",
      "\n",
      "127 0.07727572159267848 0.09065364970229953 \n",
      "\n",
      "128 0.0772757215926751 0.09065364970231744 \n",
      "\n",
      "129 0.07727572159267752 0.09065364970230232 \n",
      "\n",
      "130 0.07727572159267623 0.09065364970230233 \n",
      "\n",
      "131 0.07727572159267837 0.09065364970230291 \n",
      "\n",
      "132 0.07727572159268078 0.09065364970230588 \n",
      "\n",
      "133 0.07727572159267479 0.09065364970229098 \n",
      "\n",
      "134 0.07727572159267837 0.09065364970230215 \n",
      "\n",
      "135 0.07727572159266236 0.09065364970234434 \n",
      "\n",
      "136 0.07727572159267786 0.09065364970230223 \n",
      "\n",
      "137 0.07727572159268016 0.09065364970230447 \n",
      "\n",
      "138 0.07727572159267712 0.09065364970230108 \n",
      "\n",
      "139 0.07727572159274547 0.09065364970241563 \n",
      "\n",
      "140 0.07727572159267765 0.09065364970230698 \n",
      "\n",
      "141 0.07727572159267798 0.09065364970229858 \n",
      "\n",
      "142 0.07727572159267466 0.09065364970229788 \n",
      "\n",
      "143 0.07727572159267794 0.09065364970230465 \n",
      "\n",
      "144 0.077275721592687 0.09065364970226741 \n",
      "\n",
      "145 0.07727572159267632 0.0906536497022993 \n",
      "\n",
      "146 0.07727572159267675 0.09065364970230304 \n",
      "\n",
      "147 0.0772757215926768 0.0906536497023016 \n",
      "\n",
      "148 0.07727572159267447 0.09065364970229682 \n",
      "\n",
      "149 0.0772757215926733 0.090653649702294 \n",
      "\n",
      "150 0.07727572159267897 0.0906536497023117 \n",
      "\n",
      "151 0.07727572159267732 0.09065364970229793 \n",
      "\n",
      "152 0.07727572159267769 0.09065364970230028 \n",
      "\n",
      "153 0.07727572159267515 0.09065364970229672 \n",
      "\n",
      "154 0.0772757215926764 0.09065364970229786 \n",
      "\n",
      "155 0.07727572159267661 0.09065364970230107 \n",
      "\n",
      "156 0.07727572159267687 0.0906536497023009 \n",
      "\n",
      "157 0.0772757215926774 0.09065364970230202 \n",
      "\n",
      "158 0.07727572159267854 0.09065364970229418 \n",
      "\n",
      "159 0.07727572159267461 0.09065364970229978 \n",
      "\n",
      "160 0.07727572159267876 0.09065364970230275 \n",
      "\n",
      "161 0.07727572159266867 0.09065364970223444 \n",
      "\n",
      "162 0.0772757215926693 0.09065364970230842 \n",
      "\n",
      "163 0.07727572159267664 0.09065364970230241 \n",
      "\n",
      "164 0.07727572159267769 0.09065364970230286 \n",
      "\n",
      "165 0.07727572159266852 0.09065364970229615 \n",
      "\n",
      "166 0.0772757215926776 0.09065364970230276 \n",
      "\n",
      "167 0.07727572159267487 0.0906536497023005 \n",
      "\n",
      "168 0.07727572159267518 0.0906536497023059 \n",
      "\n",
      "169 0.07727572159267951 0.09065364970230962 \n",
      "\n",
      "170 0.0772757215926744 0.09065364970230531 \n",
      "\n",
      "171 0.07727572159267732 0.09065364970230178 \n",
      "\n",
      "172 0.0772757215926767 0.0906536497023021 \n",
      "\n",
      "173 0.07727572159267619 0.0906536497022941 \n",
      "\n",
      "174 0.07727572159267755 0.09065364970230022 \n",
      "\n",
      "175 0.07727572159267716 0.09065364970230072 \n",
      "\n",
      "176 0.07727572159267795 0.09065364970229688 \n",
      "\n",
      "177 0.07727572159264137 0.0906536497022763 \n",
      "\n",
      "178 0.07727572159267818 0.09065364970230096 \n",
      "\n",
      "179 0.07727572159268037 0.09065364970229854 \n",
      "\n",
      "180 0.07727572159267672 0.09065364970231053 \n",
      "\n",
      "181 0.07727572159267479 0.09065364970229553 \n",
      "\n",
      "182 0.07727572159267436 0.09065364970230237 \n",
      "\n",
      "183 0.07727572159267576 0.09065364970230251 \n",
      "\n",
      "184 0.07727572159266906 0.09065364970230427 \n",
      "\n",
      "185 0.07727572159267763 0.09065364970230425 \n",
      "\n",
      "186 0.07727572159267906 0.09065364970230033 \n",
      "\n",
      "187 0.07727572159267825 0.09065364970233597 \n",
      "\n",
      "188 0.07727572159267697 0.09065364970230619 \n",
      "\n",
      "189 0.07727572159267439 0.09065364970229983 \n",
      "\n",
      "190 0.07727572159270454 0.09065364970230518 \n",
      "\n",
      "191 0.0772757215926778 0.09065364970230191 \n",
      "\n",
      "192 0.0772757215926765 0.09065364970230166 \n",
      "\n",
      "193 0.07727572159268087 0.09065364970230082 \n",
      "\n",
      "194 0.07727572159267512 0.09065364970229962 \n",
      "\n",
      "195 0.07727572159267769 0.0906536497023055 \n",
      "\n",
      "196 0.07727572159267791 0.09065364970229968 \n",
      "\n",
      "197 0.0772757215926777 0.09065364970230183 \n",
      "\n",
      "198 0.07727572159267702 0.09065364970230277 \n",
      "\n",
      "199 0.077275721592679 0.0906536497022954 \n",
      "\n",
      "200 0.07727572159267637 0.09065364970230602 \n",
      "\n"
     ]
    }
   ],
   "source": [
    "for i in range(max_d): print(i+1, err[i], test_err[i], '\\n')"
   ]
  },
  {
   "cell_type": "code",
   "execution_count": null,
   "metadata": {},
   "outputs": [],
   "source": []
  },
  {
   "cell_type": "markdown",
   "metadata": {},
   "source": [
    "### The rank-deficient case"
   ]
  },
  {
   "cell_type": "code",
   "execution_count": 25,
   "metadata": {},
   "outputs": [
    {
     "data": {
      "text/plain": [
       "95"
      ]
     },
     "execution_count": 25,
     "metadata": {},
     "output_type": "execute_result"
    },
    {
     "data": {
      "image/png": "[encoded data removed]",
      "text/plain": [
       "<Figure size 432x288 with 1 Axes>"
      ]
     },
     "metadata": {
      "needs_background": "light"
     },
     "output_type": "display_data"
    }
   ],
   "source": [
    "m = 100\n",
    "N = 1000\n",
    "noise = 0.1\n",
    "reg = 0.1\n",
    "norm_ord = 1\n",
    "max_d = 3*m\n",
    "rank = m - 1\n",
    "\n",
    "f = make_fun(m)\n",
    "\n",
    "#Contexts do not span R^d\n",
    "X = gen_rank(N, m, rank)\n",
    "lsrank = np.linalg.matrix_rank(X)\n",
    "\n",
    "y = f(X) + noise * np.random.normal(size=N)\n",
    "ls_param = ls(X, y, reg)\n",
    "yls = np.matmul(X, ls_param)\n",
    "lserr = np.linalg.norm(yls - y, ord=norm_ord)**norm_ord / N\n",
    "\n",
    "X_test = gen_rank(N, m, rank)\n",
    "y_test = f(X_test) + noise * np.random.normal(size=N)\n",
    "yls_test = np.matmul(X_test, ls_param)\n",
    "test_lserr = np.linalg.norm(yls_test - y_test, ord=norm_ord)**norm_ord / N\n",
    "\n",
    "err = []\n",
    "test_err = []\n",
    "ranks = []\n",
    "for d in range(1, max_d+1):\n",
    "    yhat, rfm, theta = rf_approx(X, y, d, reg)\n",
    "    err.append(np.linalg.norm(y - yhat, ord=norm_ord)**norm_ord / N)\n",
    "    #print(rfm(X).shape)\n",
    "    ranks.append(np.linalg.matrix_rank(rfm(X)))\n",
    "    \n",
    "    #Test\n",
    "    yhat_test = np.matmul(rfm(X_test), theta)\n",
    "    test_err.append(np.linalg.norm(y_test - yhat_test, ord=norm_ord)**norm_ord / N)\n",
    "\n",
    "xx = range(1, max_d+1)\n",
    "plt.plot(xx, err)\n",
    "plt.plot(xx, test_err)\n",
    "plt.plot([xx[0], xx[-1]], [lserr, lserr])\n",
    "plt.plot([xx[0], xx[-1]], [test_lserr, test_lserr])\n",
    "plt.xlabel('d')\n",
    "plt.legend(('Training error', 'Test error', 'LS', 'LS test'))\n",
    "np.argmax(test_err)"
   ]
  },
  {
   "cell_type": "code",
   "execution_count": 26,
   "metadata": {},
   "outputs": [
    {
     "name": "stdout",
     "output_type": "stream",
     "text": [
      "99 100\n"
     ]
    },
    {
     "data": {
      "text/plain": [
       "Text(0.5, 0, 'd')"
      ]
     },
     "execution_count": 26,
     "metadata": {},
     "output_type": "execute_result"
    },
    {
     "data": {
      "image/png": "[encoded data removed]",
      "text/plain": [
       "<Figure size 432x288 with 1 Axes>"
      ]
     },
     "metadata": {
      "needs_background": "light"
     },
     "output_type": "display_data"
    }
   ],
   "source": [
    "print(lsrank, np.max(ranks))\n",
    "plt.plot(xx, ranks)\n",
    "plt.plot((xx[0], xx[-1]),(lsrank, lsrank))\n",
    "plt.legend(('rank after rf', 'original rank'))\n",
    "plt.xlabel('d')"
   ]
  },
  {
   "cell_type": "markdown",
   "metadata": {},
   "source": [
    "## Playing with perturbed matrices"
   ]
  },
  {
   "cell_type": "code",
   "execution_count": 27,
   "metadata": {},
   "outputs": [
    {
     "name": "stdout",
     "output_type": "stream",
     "text": [
      "1000\n",
      "2\n",
      "RFN:\n",
      "1/1000\n",
      "64/1000\n",
      "1000/1000\n"
     ]
    },
    {
     "data": {
      "text/plain": [
       "[<matplotlib.lines.Line2D at 0x7fd5c0931c88>]"
      ]
     },
     "execution_count": 27,
     "metadata": {},
     "output_type": "execute_result"
    },
    {
     "data": {
      "image/png": "[encoded data removed]",
      "text/plain": [
       "<Figure size 432x288 with 1 Axes>"
      ]
     },
     "metadata": {
      "needs_background": "light"
     },
     "output_type": "display_data"
    }
   ],
   "source": [
    "n = 2000\n",
    "m = 1000\n",
    "r = 1\n",
    "A = gen_rank(n,m,r)\n",
    "std = 1\n",
    "\n",
    "B = A + np.random.normal(size=(n, m), scale=std)\n",
    "print(np.linalg.matrix_rank(B))\n",
    "\n",
    "C = A + np.random.normal(size=m, scale=std)\n",
    "print(np.linalg.matrix_rank(C))\n",
    "\n",
    "\n",
    "print('RFN:')\n",
    "D = A\n",
    "rank = np.linalg.matrix_rank(D)\n",
    "ranks = [rank]\n",
    "print('%d/%d' % (rank, min(m, n)))\n",
    "max_layers = 100\n",
    "activation = np.cos\n",
    "#activation = lambda X: np.maximum(X, 0)\n",
    "#activation = lambda X: X**2 / np.linalg.norm(X**2, 2)\n",
    "#activation = lambda X: 0.01 * X**2\n",
    "while(np.linalg.matrix_rank(D) < min(n, m) and len(ranks) < max_layers):\n",
    "    W = np.random.normal(size=(n,n), scale=std)\n",
    "    b = np.random.normal(size=m, scale=std)\n",
    "    D = np.matmul(W, D) + b\n",
    "    D = activation(D)\n",
    "    rank = np.linalg.matrix_rank(D)\n",
    "    ranks.append(rank)\n",
    "    print('%d/%d' % (rank, min(m, n)))\n",
    "plt.plot(range(len(ranks)), ranks)"
   ]
  },
  {
   "cell_type": "markdown",
   "metadata": {},
   "source": [
    "## Fourier random features"
   ]
  },
  {
   "cell_type": "markdown",
   "metadata": {},
   "source": [
    "### Gaussian kernel"
   ]
  },
  {
   "cell_type": "code",
   "execution_count": 28,
   "metadata": {},
   "outputs": [],
   "source": [
    "#This represents functions in the RKHS of the Gaussian kernel k(x,x') = exp(-gamma||x-x'||^2) \n",
    "def make_fourier_rfm(d, m):\n",
    "    W = np.random.normal(size=(m, d))\n",
    "    b = np.random.uniform(low=0, high=2*math.pi, size=d)\n",
    "    return lambda X: np.cos(np.matmul(X, W) + b)"
   ]
  },
  {
   "cell_type": "code",
   "execution_count": 29,
   "metadata": {},
   "outputs": [],
   "source": [
    "def ls(A, b, reg=0):\n",
    "    return np.linalg.solve(np.matmul(A.T, A) + reg * np.eye(A.shape[-1]), np.matmul(A.T, b))\n",
    "\n",
    "def rf_fit(X, y, rfm, reg=0):\n",
    "    Phi = rfm(X) #Nxd\n",
    "    theta = ls(Phi, y, reg)\n",
    "    yhat = np.matmul(Phi, theta)\n",
    "    return yhat, theta, lambda Z: np.matmul(rfm(np.expand_dims(Z, 1)), theta)"
   ]
  },
  {
   "cell_type": "markdown",
   "metadata": {},
   "source": [
    "The Gaussian kernel is universal, which basically means we can represent all continuous functions (on compact sets)\n",
    "\n",
    "Let's try with polynomials (of scalar input)"
   ]
  },
  {
   "cell_type": "code",
   "execution_count": 30,
   "metadata": {},
   "outputs": [],
   "source": [
    "from numpy.polynomial.polynomial import Polynomial as Poly\n",
    "\n",
    "domain = [-1, 1]\n",
    "\n",
    "def make_poly(order=5):\n",
    "    coeff = 2 * np.random.uniform(size=order+1) - 1\n",
    "    poly = Poly(coeff, domain)\n",
    "    return lambda x: poly(x).squeeze()"
   ]
  },
  {
   "cell_type": "code",
   "execution_count": 31,
   "metadata": {},
   "outputs": [
    {
     "data": {
      "text/plain": [
       "[<matplotlib.lines.Line2D at 0x7fd5c3c7e9b0>]"
      ]
     },
     "execution_count": 31,
     "metadata": {},
     "output_type": "execute_result"
    },
    {
     "data": {
      "image/png": "[encoded data removed]",
      "text/plain": [
       "<Figure size 432x288 with 1 Axes>"
      ]
     },
     "metadata": {
      "needs_background": "light"
     },
     "output_type": "display_data"
    }
   ],
   "source": [
    "f = make_poly()\n",
    "xx = np.linspace(domain[0], domain[1], num=1000)\n",
    "plt.plot(xx, f(xx))"
   ]
  },
  {
   "cell_type": "code",
   "execution_count": 32,
   "metadata": {},
   "outputs": [],
   "source": [
    "N = 100\n",
    "noise = 0.1\n",
    "\n",
    "X = 2 * np.random.uniform(size=(N, 1)) - 1\n",
    "y = f(X) + noise * np.random.normal(size=N)"
   ]
  },
  {
   "cell_type": "code",
   "execution_count": 33,
   "metadata": {},
   "outputs": [],
   "source": [
    "dmax = 20\n",
    "reg = 0.1\n",
    "results = []\n",
    "ranks = []\n",
    "for d in range(1, dmax+1):\n",
    "    rfm = make_fourier_rfm(d, 1)\n",
    "    results.append(rf_fit(X, y, rfm, reg))\n",
    "    ranks.append(np.linalg.matrix_rank(rfm(X)))"
   ]
  },
  {
   "cell_type": "code",
   "execution_count": 34,
   "metadata": {},
   "outputs": [
    {
     "data": {
      "application/vnd.jupyter.widget-view+json": {
       "model_id": "991797185ebf4c9ebc4effa6378e2ca6",
       "version_major": 2,
       "version_minor": 0
      },
      "text/plain": [
       "interactive(children=(IntSlider(value=1, description='d', max=20, min=1), Output()), _dom_classes=('widget-int…"
      ]
     },
     "metadata": {},
     "output_type": "display_data"
    }
   ],
   "source": [
    "xx = np.linspace(domain[0], domain[1], num=1000)\n",
    "\n",
    "def update(d):\n",
    "    plt.scatter(X.squeeze(), y)\n",
    "    plt.plot(xx, results[d-1][2](xx), 'orange')\n",
    "    axes = plt.gca()\n",
    "    axes.set_xlim(domain)\n",
    "    axes.set_ylim(min(y) - 0.1, max(y) + 0.1)\n",
    "    \n",
    "slider = widgets.interact(update, d=widgets.IntSlider(min=1, max=dmax, step=1, value=1))"
   ]
  },
  {
   "cell_type": "markdown",
   "metadata": {},
   "source": [
    "Rank of design matrix as a function of dimension"
   ]
  },
  {
   "cell_type": "code",
   "execution_count": 35,
   "metadata": {},
   "outputs": [
    {
     "data": {
      "text/plain": [
       "[<matplotlib.lines.Line2D at 0x7fd5b0617828>]"
      ]
     },
     "execution_count": 35,
     "metadata": {},
     "output_type": "execute_result"
    },
    {
     "data": {
      "image/png": "[encoded data removed]",
      "text/plain": [
       "<Figure size 432x288 with 1 Axes>"
      ]
     },
     "metadata": {
      "needs_background": "light"
     },
     "output_type": "display_data"
    }
   ],
   "source": [
    "plt.plot(range(1, dmax+1), ranks)"
   ]
  },
  {
   "cell_type": "markdown",
   "metadata": {},
   "source": [
    "### Extreme machines"
   ]
  },
  {
   "cell_type": "code",
   "execution_count": 36,
   "metadata": {},
   "outputs": [],
   "source": [
    "def make_fourier_network(widths, input_dim):\n",
    "    layers = []\n",
    "    d_prev = input_dim\n",
    "    for d in widths:\n",
    "        W = np.random.normal(size=(d_prev, d))\n",
    "        b = np.random.uniform(low=0, high=2*math.pi, size=d)\n",
    "        layers.append({'W': W, 'b': b})\n",
    "        d_prev = d\n",
    "    def fourier_network(X):\n",
    "        P = X\n",
    "        for lay in layers:\n",
    "            P = np.cos(np.matmul(P, lay['W']) + lay['b'])\n",
    "        return P\n",
    "    return fourier_network"
   ]
  },
  {
   "cell_type": "code",
   "execution_count": 37,
   "metadata": {},
   "outputs": [],
   "source": [
    "layers = 2\n",
    "dmax = 20\n",
    "reg = 0.1\n",
    "results = []\n",
    "ranks = []\n",
    "for d in range(1, dmax+1):\n",
    "    rfm = make_fourier_network([d]*layers, 1)\n",
    "    results.append(rf_fit(X, y, rfm, reg))\n",
    "    ranks.append(np.linalg.matrix_rank(rfm(X)))"
   ]
  },
  {
   "cell_type": "code",
   "execution_count": 38,
   "metadata": {},
   "outputs": [
    {
     "data": {
      "application/vnd.jupyter.widget-view+json": {
       "model_id": "37b52ee90ad8481b88784593de0f57e3",
       "version_major": 2,
       "version_minor": 0
      },
      "text/plain": [
       "interactive(children=(IntSlider(value=1, description='d', max=20, min=1), Output()), _dom_classes=('widget-int…"
      ]
     },
     "metadata": {},
     "output_type": "display_data"
    }
   ],
   "source": [
    "xx = np.linspace(domain[0], domain[1], num=1000)\n",
    "\n",
    "def update(d):\n",
    "    plt.scatter(X.squeeze(), y)\n",
    "    plt.plot(xx, results[d-1][2](xx), 'orange')\n",
    "    axes = plt.gca()\n",
    "    axes.set_xlim(domain)\n",
    "    axes.set_ylim(min(y) - 0.1, max(y) + 0.1)\n",
    "    \n",
    "slider = widgets.interact(update, d=widgets.IntSlider(min=1, max=dmax, step=1, value=1))"
   ]
  },
  {
   "cell_type": "markdown",
   "metadata": {},
   "source": [
    "Rank of design matrix as a function of width"
   ]
  },
  {
   "cell_type": "code",
   "execution_count": 39,
   "metadata": {},
   "outputs": [
    {
     "data": {
      "text/plain": [
       "[<matplotlib.lines.Line2D at 0x7fd57011a240>]"
      ]
     },
     "execution_count": 39,
     "metadata": {},
     "output_type": "execute_result"
    },
    {
     "data": {
      "image/png": "[encoded data removed]",
      "text/plain": [
       "<Figure size 432x288 with 1 Axes>"
      ]
     },
     "metadata": {
      "needs_background": "light"
     },
     "output_type": "display_data"
    }
   ],
   "source": [
    "plt.plot(range(1, dmax+1), ranks)"
   ]
  },
  {
   "cell_type": "markdown",
   "metadata": {},
   "source": [
    "### Gaussian RF for the Linear Rank-Deficient Scenario"
   ]
  },
  {
   "cell_type": "code",
   "execution_count": 40,
   "metadata": {},
   "outputs": [],
   "source": [
    "n = 2000\n",
    "d = 100\n",
    "r = 1\n",
    "noise = 0.1\n",
    "reg = 0.1"
   ]
  },
  {
   "cell_type": "code",
   "execution_count": 41,
   "metadata": {},
   "outputs": [],
   "source": [
    "def gen_data(n, d, r):\n",
    "    assert r <= d\n",
    "    feats = np.random.normal(size=(n, d))\n",
    "    proj = np.matmul(np.random.normal(size=(d,r)), np.random.normal(size=(r,d)))\n",
    "    feats = np.matmul(feats, proj)\n",
    "    feats = feats / np.max(feats)\n",
    "    return feats"
   ]
  },
  {
   "cell_type": "code",
   "execution_count": 42,
   "metadata": {},
   "outputs": [],
   "source": [
    "param = 2 * np.random.uniform(size=d) - 1"
   ]
  },
  {
   "cell_type": "code",
   "execution_count": 43,
   "metadata": {},
   "outputs": [],
   "source": [
    "X = gen_data(n, d, r)\n",
    "rank = np.linalg.matrix_rank(X)\n",
    "y = np.matmul(X, param) + noise * np.random.normal(size=n)"
   ]
  },
  {
   "cell_type": "code",
   "execution_count": 44,
   "metadata": {},
   "outputs": [
    {
     "data": {
      "text/plain": [
       "(1, 0.009714123546270425, 0.04838165763746708, 5.807483565789833)"
      ]
     },
     "execution_count": 44,
     "metadata": {},
     "output_type": "execute_result"
    }
   ],
   "source": [
    "param_ls = ls(X, y, reg)\n",
    "paramerr = np.linalg.norm(param_ls - param)\n",
    "yhat = np.matmul(X, param_ls)\n",
    "mse_train = np.linalg.norm(yhat - y, ord=2)**2 / n\n",
    "X_test = gen_data(n, d, r)\n",
    "y_test = np.matmul(X_test, param) + noise * np.random.normal(size=n)\n",
    "yhat_test = np.matmul(X_test, param_ls)\n",
    "mse_test = np.linalg.norm(yhat_test - y_test, ord=2)**2 / n\n",
    "rank, mse_train, mse_test, paramerr"
   ]
  },
  {
   "cell_type": "code",
   "execution_count": 45,
   "metadata": {},
   "outputs": [
    {
     "data": {
      "text/plain": [
       "(20, 0.0096745131559264, 0.04777074752862062, None)"
      ]
     },
     "execution_count": 45,
     "metadata": {},
     "output_type": "execute_result"
    }
   ],
   "source": [
    "rfn = make_fourier_network([100], 100)\n",
    "\n",
    "yhat, param_rf, _ = rf_fit(X, y, rfn, reg)\n",
    "mse_train = np.linalg.norm(yhat - y, ord=2)**2 / n\n",
    "X_test = gen_data(n, d, r)\n",
    "y_test = np.matmul(X_test, param) + noise * np.random.normal(size=n)\n",
    "yhat_test = np.matmul(rfn(X_test), param_rf)\n",
    "mse_test = np.linalg.norm(yhat_test - y_test, ord=2)**2 / n\n",
    "rank = np.linalg.matrix_rank(rfn(X))\n",
    "paramerr = None\n",
    "rank, mse_train, mse_test, paramerr"
   ]
  },
  {
   "cell_type": "code",
   "execution_count": null,
   "metadata": {},
   "outputs": [],
   "source": []
  }
 ],
 "metadata": {
  "kernelspec": {
   "display_name": "Python 3",
   "language": "python",
   "name": "python3"
  },
  "language_info": {
   "codemirror_mode": {
    "name": "ipython",
    "version": 3
   },
   "file_extension": ".py",
   "mimetype": "text/x-python",
   "name": "python",
   "nbconvert_exporter": "python",
   "pygments_lexer": "ipython3",
   "version": "3.6.12"
  }
 },
 "nbformat": 4,
 "nbformat_minor": 4
}
