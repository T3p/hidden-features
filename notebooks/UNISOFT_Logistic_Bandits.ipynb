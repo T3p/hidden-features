{
 "cells": [
  {
   "cell_type": "code",
   "execution_count": 1,
   "id": "64942905",
   "metadata": {},
   "outputs": [],
   "source": [
    "import numpy as np\n",
    "import xbrl.envs as bandits\n",
    "from xbrl.algs.generalized_linear import UCBGLM\n",
    "from xbrl.envs.hlsutils import is_hls, derank_hls, hls_rank, random_transform\n",
    "import matplotlib.pyplot as plt"
   ]
  },
  {
   "cell_type": "code",
   "execution_count": 2,
   "id": "4ad32ceb",
   "metadata": {},
   "outputs": [],
   "source": [
    "rng = np.random.RandomState(seed=0)\n",
    "n_runs = 5\n",
    "tol = 1e-6\n",
    "seed = 0\n",
    "horizon = 30000"
   ]
  },
  {
   "cell_type": "code",
   "execution_count": 3,
   "id": "7067746f",
   "metadata": {},
   "outputs": [],
   "source": [
    "features = np.load(\"../problem_data/new_features.npy\")\n",
    "dim = features.shape[-1]\n",
    "param = np.load(\"../problem_data/new_param.npy\")\n",
    "rewards = features @ param"
   ]
  },
  {
   "cell_type": "code",
   "execution_count": 4,
   "id": "2de141c2",
   "metadata": {},
   "outputs": [],
   "source": [
    "env = bandits.CBFinite(feature_matrix=features,\n",
    "                       rewards=rewards,\n",
    "                       noise=\"bernoulli\",\n",
    "                       seed=seed)"
   ]
  },
  {
   "cell_type": "code",
   "execution_count": 5,
   "id": "b6517941",
   "metadata": {},
   "outputs": [
    {
     "name": "stdout",
     "output_type": "stream",
     "text": [
      "277.60717426079356\n"
     ]
    }
   ],
   "source": [
    "algo = UCBGLM(\n",
    "        env=env,\n",
    "        seed=seed,\n",
    "        update_every_n_steps=1,\n",
    "        delta=0.01,\n",
    "        bonus_scale=1.,\n",
    "        opt_tolerance=1e-8,\n",
    "        true_param=None,\n",
    "        param_bound = np.linalg.norm(param))"
   ]
  },
  {
   "cell_type": "code",
   "execution_count": 6,
   "id": "363e6964",
   "metadata": {},
   "outputs": [
    {
     "name": "stdout",
     "output_type": "stream",
     "text": [
      "277.60717426079356\n"
     ]
    },
    {
     "name": "stderr",
     "output_type": "stream",
     "text": [
      "100%|█████████████████████████████████████████████████████████████████████████████████████| 30000/30000 [11:19<00:00, 44.12it/s, % optimal arm (last 100 steps)=100.00%, train loss=0, expected regret=432]\n"
     ]
    },
    {
     "name": "stdout",
     "output_type": "stream",
     "text": [
      "277.60717426079356\n"
     ]
    },
    {
     "name": "stderr",
     "output_type": "stream",
     "text": [
      "100%|█████████████████████████████████████████████████████████████████████████████████████| 30000/30000 [12:42<00:00, 39.33it/s, % optimal arm (last 100 steps)=100.00%, train loss=0, expected regret=388]\n"
     ]
    },
    {
     "name": "stdout",
     "output_type": "stream",
     "text": [
      "277.60717426079356\n"
     ]
    },
    {
     "name": "stderr",
     "output_type": "stream",
     "text": [
      "100%|██████████████████████████████████████████████████████████████████████████████████████| 30000/30000 [13:05<00:00, 38.22it/s, % optimal arm (last 100 steps)=94.06%, train loss=0, expected regret=395]\n"
     ]
    },
    {
     "name": "stdout",
     "output_type": "stream",
     "text": [
      "277.60717426079356\n"
     ]
    },
    {
     "name": "stderr",
     "output_type": "stream",
     "text": [
      "100%|█████████████████████████████████████████████████████████████████████████████████████| 30000/30000 [13:05<00:00, 38.17it/s, % optimal arm (last 100 steps)=100.00%, train loss=0, expected regret=357]\n"
     ]
    },
    {
     "name": "stdout",
     "output_type": "stream",
     "text": [
      "277.60717426079356\n"
     ]
    },
    {
     "name": "stderr",
     "output_type": "stream",
     "text": [
      "100%|██████████████████████████████████████████████████████████████████████████████████████| 30000/30000 [13:17<00:00, 37.64it/s, % optimal arm (last 100 steps)=98.02%, train loss=0, expected regret=374]\n"
     ]
    },
    {
     "name": "stdout",
     "output_type": "stream",
     "text": [
      "100.31920138669011\n"
     ]
    },
    {
     "name": "stderr",
     "output_type": "stream",
     "text": [
      "100%|██████████████████████████████████████████████████████████████████████████████████| 30000/30000 [13:21<00:00, 37.42it/s, % optimal arm (last 100 steps)=80.20%, train loss=0, expected regret=1.01e+3]\n"
     ]
    },
    {
     "name": "stdout",
     "output_type": "stream",
     "text": [
      "100.31920138669011\n"
     ]
    },
    {
     "name": "stderr",
     "output_type": "stream",
     "text": [
      "100%|██████████████████████████████████████████████████████████████████████████████████████| 30000/30000 [13:39<00:00, 36.62it/s, % optimal arm (last 100 steps)=70.30%, train loss=0, expected regret=971]\n"
     ]
    },
    {
     "name": "stdout",
     "output_type": "stream",
     "text": [
      "100.31920138669011\n"
     ]
    },
    {
     "name": "stderr",
     "output_type": "stream",
     "text": [
      "100%|██████████████████████████████████████████████████████████████████████████████████| 30000/30000 [13:38<00:00, 36.67it/s, % optimal arm (last 100 steps)=80.20%, train loss=0, expected regret=1.01e+3]\n"
     ]
    },
    {
     "name": "stdout",
     "output_type": "stream",
     "text": [
      "100.31920138669011\n"
     ]
    },
    {
     "name": "stderr",
     "output_type": "stream",
     "text": [
      "100%|██████████████████████████████████████████████████████████████████████████████████████| 30000/30000 [13:33<00:00, 36.86it/s, % optimal arm (last 100 steps)=80.20%, train loss=0, expected regret=918]\n"
     ]
    },
    {
     "name": "stdout",
     "output_type": "stream",
     "text": [
      "100.31920138669011\n"
     ]
    },
    {
     "name": "stderr",
     "output_type": "stream",
     "text": [
      "100%|██████████████████████████████████████████████████████████████████████████████████████| 30000/30000 [13:41<00:00, 36.51it/s, % optimal arm (last 100 steps)=80.20%, train loss=0, expected regret=926]\n"
     ]
    },
    {
     "name": "stdout",
     "output_type": "stream",
     "text": [
      "100.31920138669011\n"
     ]
    },
    {
     "name": "stderr",
     "output_type": "stream",
     "text": [
      "100%|██████████████████████████████████████████████████████████████████████████████████████| 30000/30000 [13:32<00:00, 36.93it/s, % optimal arm (last 100 steps)=78.22%, train loss=0, expected regret=973]\n"
     ]
    },
    {
     "name": "stdout",
     "output_type": "stream",
     "text": [
      "100.31920138669011\n"
     ]
    },
    {
     "name": "stderr",
     "output_type": "stream",
     "text": [
      "100%|██████████████████████████████████████████████████████████████████████████████████████| 30000/30000 [13:35<00:00, 36.78it/s, % optimal arm (last 100 steps)=70.30%, train loss=0, expected regret=992]\n"
     ]
    },
    {
     "name": "stdout",
     "output_type": "stream",
     "text": [
      "100.31920138669011\n"
     ]
    },
    {
     "name": "stderr",
     "output_type": "stream",
     "text": [
      "100%|██████████████████████████████████████████████████████████████████████████████████| 30000/30000 [13:36<00:00, 36.73it/s, % optimal arm (last 100 steps)=79.21%, train loss=0, expected regret=1.04e+3]\n"
     ]
    },
    {
     "name": "stdout",
     "output_type": "stream",
     "text": [
      "100.31920138669011\n"
     ]
    },
    {
     "name": "stderr",
     "output_type": "stream",
     "text": [
      "100%|██████████████████████████████████████████████████████████████████████████████████████| 30000/30000 [13:32<00:00, 36.93it/s, % optimal arm (last 100 steps)=80.20%, train loss=0, expected regret=923]\n"
     ]
    },
    {
     "name": "stdout",
     "output_type": "stream",
     "text": [
      "100.31920138669011\n"
     ]
    },
    {
     "name": "stderr",
     "output_type": "stream",
     "text": [
      "100%|██████████████████████████████████████████████████████████████████████████████████████| 30000/30000 [13:39<00:00, 36.62it/s, % optimal arm (last 100 steps)=80.20%, train loss=0, expected regret=903]\n"
     ]
    },
    {
     "name": "stdout",
     "output_type": "stream",
     "text": [
      "100.31920138669011\n"
     ]
    },
    {
     "name": "stderr",
     "output_type": "stream",
     "text": [
      "100%|██████████████████████████████████████████████████████████████████████████████████████| 30000/30000 [13:20<00:00, 37.49it/s, % optimal arm (last 100 steps)=80.20%, train loss=0, expected regret=923]\n"
     ]
    },
    {
     "name": "stdout",
     "output_type": "stream",
     "text": [
      "100.31920138669011\n"
     ]
    },
    {
     "name": "stderr",
     "output_type": "stream",
     "text": [
      "100%|██████████████████████████████████████████████████████████████████████████████████████| 30000/30000 [13:34<00:00, 36.85it/s, % optimal arm (last 100 steps)=70.30%, train loss=0, expected regret=969]\n"
     ]
    },
    {
     "name": "stdout",
     "output_type": "stream",
     "text": [
      "100.31920138669011\n"
     ]
    },
    {
     "name": "stderr",
     "output_type": "stream",
     "text": [
      "100%|██████████████████████████████████████████████████████████████████████████████████| 30000/30000 [13:42<00:00, 36.47it/s, % optimal arm (last 100 steps)=80.20%, train loss=0, expected regret=1.01e+3]\n"
     ]
    },
    {
     "name": "stdout",
     "output_type": "stream",
     "text": [
      "100.31920138669011\n"
     ]
    },
    {
     "name": "stderr",
     "output_type": "stream",
     "text": [
      "100%|██████████████████████████████████████████████████████████████████████████████████████| 30000/30000 [13:23<00:00, 37.33it/s, % optimal arm (last 100 steps)=80.20%, train loss=0, expected regret=939]\n"
     ]
    },
    {
     "name": "stdout",
     "output_type": "stream",
     "text": [
      "100.31920138669011\n"
     ]
    },
    {
     "name": "stderr",
     "output_type": "stream",
     "text": [
      "100%|██████████████████████████████████████████████████████████████████████████████████████| 30000/30000 [13:40<00:00, 36.58it/s, % optimal arm (last 100 steps)=80.20%, train loss=0, expected regret=946]\n"
     ]
    },
    {
     "name": "stdout",
     "output_type": "stream",
     "text": [
      "100.31920138669011\n"
     ]
    },
    {
     "name": "stderr",
     "output_type": "stream",
     "text": [
      "100%|██████████████████████████████████████████████████████████████████████████████████| 30000/30000 [13:21<00:00, 37.44it/s, % optimal arm (last 100 steps)=70.30%, train loss=0, expected regret=1.24e+3]\n"
     ]
    },
    {
     "name": "stdout",
     "output_type": "stream",
     "text": [
      "100.31920138669011\n"
     ]
    },
    {
     "name": "stderr",
     "output_type": "stream",
     "text": [
      "100%|███████████████████████████████████████████████████████████████████████████████████| 30000/30000 [13:33<00:00, 36.87it/s, % optimal arm (last 100 steps)=79.21%, train loss=0, expected regret=1.3e+3]\n"
     ]
    },
    {
     "name": "stdout",
     "output_type": "stream",
     "text": [
      "100.31920138669011\n"
     ]
    },
    {
     "name": "stderr",
     "output_type": "stream",
     "text": [
      "100%|███████████████████████████████████████████████████████████████████████████████████| 30000/30000 [13:35<00:00, 36.80it/s, % optimal arm (last 100 steps)=79.21%, train loss=0, expected regret=1.3e+3]\n"
     ]
    },
    {
     "name": "stdout",
     "output_type": "stream",
     "text": [
      "100.31920138669011\n"
     ]
    },
    {
     "name": "stderr",
     "output_type": "stream",
     "text": [
      "100%|██████████████████████████████████████████████████████████████████████████████████| 30000/30000 [13:22<00:00, 37.37it/s, % optimal arm (last 100 steps)=78.22%, train loss=0, expected regret=1.16e+3]\n"
     ]
    },
    {
     "name": "stdout",
     "output_type": "stream",
     "text": [
      "100.31920138669011\n"
     ]
    },
    {
     "name": "stderr",
     "output_type": "stream",
     "text": [
      "100%|██████████████████████████████████████████████████████████████████████████████████| 30000/30000 [13:30<00:00, 36.99it/s, % optimal arm (last 100 steps)=75.25%, train loss=0, expected regret=1.12e+3]\n"
     ]
    },
    {
     "data": {
      "image/png": "[encoded data removed]",
      "text/plain": [
       "<Figure size 432x288 with 1 Axes>"
      ]
     },
     "metadata": {
      "needs_background": "light"
     },
     "output_type": "display_data"
    }
   ],
   "source": [
    "results = []\n",
    "lines = []\n",
    "ranks = [5, 4, 3, 2, 1]\n",
    "for k in range(len(ranks)):\n",
    "    regrets = []\n",
    "    results.append([])\n",
    "    if ranks[k] < dim:\n",
    "        _features, _param = derank_hls(features,\n",
    "                                    param,\n",
    "                                    newrank = ranks[k],\n",
    "                                    transform=False,\n",
    "                                    normalize=True)\n",
    "    else:\n",
    "        _features, _param = features.copy(), param.copy()\n",
    "    _rewards = _features @ _param\n",
    "    for i in range(n_runs):\n",
    "        env = bandits.CBFinite(feature_matrix=_features,\n",
    "                       rewards=_rewards,\n",
    "                       noise=\"bernoulli\",\n",
    "                       seed=i)\n",
    "        agent = UCBGLM(\n",
    "                    env=env,\n",
    "                    seed=i,\n",
    "                    update_every_n_steps=1,\n",
    "                    delta=0.01,\n",
    "                    bonus_scale=1.,\n",
    "                    opt_tolerance=1e-8,\n",
    "                    true_param=None,\n",
    "                    param_bound = np.linalg.norm(_param))\n",
    "        agent.reset()\n",
    "        result = agent.run(horizon=horizon)\n",
    "        results[k].append(result)\n",
    "        regrets.append(result['expected_regret'])\n",
    "    regrets = np.array(regrets)\n",
    "    avg_regret = np.mean(regrets, axis=0)\n",
    "    std_regret = np.std(regrets, axis = 0)\n",
    "    \n",
    "    line, = plt.plot(avg_regret, label=\"hls_rank=%d\"%ranks[k])\n",
    "    plt.fill_between(range(len(avg_regret)), avg_regret-std_regret, avg_regret+std_regret, alpha=0.3)\n",
    "    lines.append(line)\n",
    "plt.legend(handles=lines)\n",
    "plt.show()"
   ]
  },
  {
   "cell_type": "code",
   "execution_count": null,
   "id": "970a17c4",
   "metadata": {},
   "outputs": [],
   "source": []
  },
  {
   "cell_type": "code",
   "execution_count": null,
   "id": "bd14c0fc",
   "metadata": {},
   "outputs": [],
   "source": []
  }
 ],
 "metadata": {
  "kernelspec": {
   "display_name": "Python 3 (ipykernel)",
   "language": "python",
   "name": "python3"
  },
  "language_info": {
   "codemirror_mode": {
    "name": "ipython",
    "version": 3
   },
   "file_extension": ".py",
   "mimetype": "text/x-python",
   "name": "python",
   "nbconvert_exporter": "python",
   "pygments_lexer": "ipython3",
   "version": "3.8.12"
  }
 },
 "nbformat": 4,
 "nbformat_minor": 5
}
