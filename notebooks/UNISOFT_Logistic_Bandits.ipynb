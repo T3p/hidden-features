{
 "cells": [
  {
   "cell_type": "code",
   "execution_count": 1,
   "id": "64942905",
   "metadata": {},
   "outputs": [],
   "source": [
    "import numpy as np\n",
    "import xbrl.envs as bandits\n",
    "from xbrl.algs.generalized_linear import UCBGLM\n",
    "from xbrl.envs.hlsutils import is_hls, derank_hls, hls_rank, random_transform\n",
    "import matplotlib.pyplot as plt"
   ]
  },
  {
   "cell_type": "code",
   "execution_count": 2,
   "id": "4ad32ceb",
   "metadata": {},
   "outputs": [],
   "source": [
    "rng = np.random.RandomState(seed=0)\n",
    "n_runs = 3\n",
    "tol = 1e-6\n",
    "seed = 0\n",
    "horizon = 20000"
   ]
  },
  {
   "cell_type": "code",
   "execution_count": 3,
   "id": "7067746f",
   "metadata": {},
   "outputs": [],
   "source": [
    "features = np.load(\"../problem_data/new_features.npy\")\n",
    "dim = features.shape[-1]\n",
    "param = np.load(\"../problem_data/new_param.npy\")\n",
    "rewards = features @ param"
   ]
  },
  {
   "cell_type": "code",
   "execution_count": 4,
   "id": "fa3ba360",
   "metadata": {},
   "outputs": [],
   "source": [
    "env = bandits.CBFinite(feature_matrix=features,\n",
    "                       rewards=rewards,\n",
    "                       noise=\"bernoulli\",\n",
    "                       seed=seed)"
   ]
  },
  {
   "cell_type": "code",
   "execution_count": 5,
   "id": "10afb90f",
   "metadata": {},
   "outputs": [
    {
     "name": "stdout",
     "output_type": "stream",
     "text": [
      "277.60717426079356\n"
     ]
    }
   ],
   "source": [
    "algo = UCBGLM(\n",
    "        env=env,\n",
    "        seed=seed,\n",
    "        update_every_n_steps=1,\n",
    "        delta=0.01,\n",
    "        bonus_scale=1.,\n",
    "        opt_tolerance=1e-8,\n",
    "        true_param=None,\n",
    "        param_bound = np.linalg.norm(param))"
   ]
  },
  {
   "cell_type": "code",
   "execution_count": 6,
   "id": "a98b3ee2",
   "metadata": {},
   "outputs": [
    {
     "name": "stdout",
     "output_type": "stream",
     "text": [
      "277.60717426079356\n"
     ]
    },
    {
     "name": "stderr",
     "output_type": "stream",
     "text": [
      "100%|██████████████████████████████████████████████████████████████████████████████████████| 20000/20000 [07:00<00:00, 47.55it/s, % optimal arm (last 100 steps)=97.03%, train loss=0, expected regret=431]\n"
     ]
    },
    {
     "name": "stdout",
     "output_type": "stream",
     "text": [
      "277.60717426079356\n"
     ]
    },
    {
     "name": "stderr",
     "output_type": "stream",
     "text": [
      "100%|██████████████████████████████████████████████████████████████████████████████████████| 20000/20000 [06:22<00:00, 52.28it/s, % optimal arm (last 100 steps)=95.05%, train loss=0, expected regret=386]\n"
     ]
    },
    {
     "name": "stdout",
     "output_type": "stream",
     "text": [
      "277.60717426079356\n"
     ]
    },
    {
     "name": "stderr",
     "output_type": "stream",
     "text": [
      "100%|██████████████████████████████████████████████████████████████████████████████████████| 20000/20000 [06:22<00:00, 52.34it/s, % optimal arm (last 100 steps)=97.03%, train loss=0, expected regret=392]\n"
     ]
    },
    {
     "name": "stdout",
     "output_type": "stream",
     "text": [
      "100.31920138669011\n"
     ]
    },
    {
     "name": "stderr",
     "output_type": "stream",
     "text": [
      "100%|██████████████████████████████████████████████████████████████████████████████████████| 20000/20000 [06:27<00:00, 51.62it/s, % optimal arm (last 100 steps)=70.30%, train loss=0, expected regret=857]\n"
     ]
    },
    {
     "name": "stdout",
     "output_type": "stream",
     "text": [
      "100.31920138669011\n"
     ]
    },
    {
     "name": "stderr",
     "output_type": "stream",
     "text": [
      "100%|██████████████████████████████████████████████████████████████████████████████████████| 20000/20000 [06:26<00:00, 51.80it/s, % optimal arm (last 100 steps)=70.30%, train loss=0, expected regret=830]\n"
     ]
    },
    {
     "name": "stdout",
     "output_type": "stream",
     "text": [
      "100.31920138669011\n"
     ]
    },
    {
     "name": "stderr",
     "output_type": "stream",
     "text": [
      "100%|██████████████████████████████████████████████████████████████████████████████████████| 20000/20000 [06:29<00:00, 51.37it/s, % optimal arm (last 100 steps)=70.30%, train loss=0, expected regret=812]\n"
     ]
    },
    {
     "name": "stdout",
     "output_type": "stream",
     "text": [
      "100.31920138669011\n"
     ]
    },
    {
     "name": "stderr",
     "output_type": "stream",
     "text": [
      "100%|██████████████████████████████████████████████████████████████████████████████████████| 20000/20000 [06:30<00:00, 51.25it/s, % optimal arm (last 100 steps)=72.28%, train loss=0, expected regret=844]\n"
     ]
    },
    {
     "name": "stdout",
     "output_type": "stream",
     "text": [
      "100.31920138669011\n"
     ]
    },
    {
     "name": "stderr",
     "output_type": "stream",
     "text": [
      "100%|██████████████████████████████████████████████████████████████████████████████████████| 20000/20000 [06:26<00:00, 51.74it/s, % optimal arm (last 100 steps)=80.20%, train loss=0, expected regret=870]\n"
     ]
    },
    {
     "name": "stdout",
     "output_type": "stream",
     "text": [
      "100.31920138669011\n"
     ]
    },
    {
     "name": "stderr",
     "output_type": "stream",
     "text": [
      "100%|██████████████████████████████████████████████████████████████████████████████████████| 20000/20000 [06:25<00:00, 51.84it/s, % optimal arm (last 100 steps)=78.22%, train loss=0, expected regret=911]\n"
     ]
    },
    {
     "name": "stdout",
     "output_type": "stream",
     "text": [
      "100.31920138669011\n"
     ]
    },
    {
     "name": "stderr",
     "output_type": "stream",
     "text": [
      "100%|██████████████████████████████████████████████████████████████████████████████████████| 20000/20000 [06:29<00:00, 51.39it/s, % optimal arm (last 100 steps)=74.26%, train loss=0, expected regret=826]\n"
     ]
    },
    {
     "name": "stdout",
     "output_type": "stream",
     "text": [
      "100.31920138669011\n"
     ]
    },
    {
     "name": "stderr",
     "output_type": "stream",
     "text": [
      "100%|██████████████████████████████████████████████████████████████████████████████████████| 20000/20000 [06:30<00:00, 51.21it/s, % optimal arm (last 100 steps)=80.20%, train loss=0, expected regret=848]\n"
     ]
    },
    {
     "name": "stdout",
     "output_type": "stream",
     "text": [
      "100.31920138669011\n"
     ]
    },
    {
     "name": "stderr",
     "output_type": "stream",
     "text": [
      "100%|██████████████████████████████████████████████████████████████████████████████████████| 20000/20000 [06:28<00:00, 51.48it/s, % optimal arm (last 100 steps)=80.20%, train loss=0, expected regret=885]\n"
     ]
    },
    {
     "name": "stdout",
     "output_type": "stream",
     "text": [
      "100.31920138669011\n"
     ]
    },
    {
     "name": "stderr",
     "output_type": "stream",
     "text": [
      "100%|██████████████████████████████████████████████████████████████████████████████████| 20000/20000 [06:28<00:00, 51.53it/s, % optimal arm (last 100 steps)=73.27%, train loss=0, expected regret=1.09e+3]\n"
     ]
    },
    {
     "name": "stdout",
     "output_type": "stream",
     "text": [
      "100.31920138669011\n"
     ]
    },
    {
     "name": "stderr",
     "output_type": "stream",
     "text": [
      "100%|██████████████████████████████████████████████████████████████████████████████████| 20000/20000 [06:31<00:00, 51.14it/s, % optimal arm (last 100 steps)=78.22%, train loss=0, expected regret=1.15e+3]\n"
     ]
    },
    {
     "name": "stdout",
     "output_type": "stream",
     "text": [
      "100.31920138669011\n"
     ]
    },
    {
     "name": "stderr",
     "output_type": "stream",
     "text": [
      "100%|██████████████████████████████████████████████████████████████████████████████████| 20000/20000 [07:10<00:00, 46.42it/s, % optimal arm (last 100 steps)=70.30%, train loss=0, expected regret=1.13e+3]\n"
     ]
    },
    {
     "data": {
      "image/png": "[encoded data removed]",
      "text/plain": [
       "<Figure size 432x288 with 1 Axes>"
      ]
     },
     "metadata": {
      "needs_background": "light"
     },
     "output_type": "display_data"
    }
   ],
   "source": [
    "results = []\n",
    "lines = []\n",
    "ranks = [5, 4, 3, 2, 1]\n",
    "for k in range(len(ranks)):\n",
    "    regrets = []\n",
    "    results.append([])\n",
    "    if ranks[k] < dim:\n",
    "        _features, _param = derank_hls(features,\n",
    "                                    param,\n",
    "                                    newrank = ranks[k],\n",
    "                                    transform=False,\n",
    "                                    normalize=True)\n",
    "    else:\n",
    "        _features, _param = features.copy(), param.copy()\n",
    "    _rewards = _features @ _param\n",
    "    for i in range(n_runs):\n",
    "        env = bandits.CBFinite(feature_matrix=_features,\n",
    "                       rewards=_rewards,\n",
    "                       noise=\"bernoulli\",\n",
    "                       seed=i)\n",
    "        agent = UCBGLM(\n",
    "                    env=env,\n",
    "                    seed=i,\n",
    "                    update_every_n_steps=1,\n",
    "                    delta=0.01,\n",
    "                    bonus_scale=1.,\n",
    "                    opt_tolerance=1e-8,\n",
    "                    true_param=None,\n",
    "                    param_bound = np.linalg.norm(_param))\n",
    "        agent.reset()\n",
    "        result = agent.run(horizon=horizon)\n",
    "        results[k].append(result)\n",
    "        regrets.append(result['expected_regret'])\n",
    "    regrets = np.array(regrets)\n",
    "    avg_regret = np.mean(regrets, axis=0)\n",
    "    std_regret = np.std(regrets, axis = 0)\n",
    "    \n",
    "    line, = plt.plot(avg_regret, label=\"hls_rank=%d\"%ranks[k])\n",
    "    plt.fill_between(range(len(avg_regret)), avg_regret-std_regret, avg_regret+std_regret, alpha=0.3)\n",
    "    lines.append(line)\n",
    "plt.legend(handles=lines)\n",
    "plt.show()"
   ]
  },
  {
   "cell_type": "code",
   "execution_count": null,
   "id": "32786aea",
   "metadata": {},
   "outputs": [],
   "source": []
  },
  {
   "cell_type": "code",
   "execution_count": null,
   "id": "87be120d",
   "metadata": {},
   "outputs": [],
   "source": []
  }
 ],
 "metadata": {
  "kernelspec": {
   "display_name": "Python 3 (ipykernel)",
   "language": "python",
   "name": "python3"
  },
  "language_info": {
   "codemirror_mode": {
    "name": "ipython",
    "version": 3
   },
   "file_extension": ".py",
   "mimetype": "text/x-python",
   "name": "python",
   "nbconvert_exporter": "python",
   "pygments_lexer": "ipython3",
   "version": "3.8.12"
  }
 },
 "nbformat": 4,
 "nbformat_minor": 5
}
