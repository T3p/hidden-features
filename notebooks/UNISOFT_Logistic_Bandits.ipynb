{
 "cells": [
  {
   "cell_type": "code",
   "execution_count": 1,
   "id": "64942905",
   "metadata": {},
   "outputs": [],
   "source": [
    "import numpy as np\n",
    "import xbrl.envs as bandits\n",
    "from xbrl.algs.generalized_linear import UCBGLM, UCBGLM_general\n",
    "from xbrl.envs.hlsutils import is_hls, derank_hls, hls_rank, random_transform\n",
    "import matplotlib.pyplot as plt"
   ]
  },
  {
   "cell_type": "code",
   "execution_count": 2,
   "id": "4ad32ceb",
   "metadata": {},
   "outputs": [],
   "source": [
    "rng = np.random.RandomState(seed=1)\n",
    "n_runs = 3\n",
    "tol = 1e-6"
   ]
  },
  {
   "cell_type": "code",
   "execution_count": 3,
   "id": "7aa0eaf3",
   "metadata": {},
   "outputs": [
    {
     "data": {
      "text/plain": [
       "[235, 5192, 905]"
      ]
     },
     "execution_count": 3,
     "metadata": {},
     "output_type": "execute_result"
    }
   ],
   "source": [
    "env_seeds = [rng.randint(9999) for _ in range(n_runs)]\n",
    "env_seeds"
   ]
  },
  {
   "cell_type": "code",
   "execution_count": 4,
   "id": "ffe35f76",
   "metadata": {},
   "outputs": [
    {
     "data": {
      "text/plain": [
       "[7813, 2895, 5056]"
      ]
     },
     "execution_count": 4,
     "metadata": {},
     "output_type": "execute_result"
    }
   ],
   "source": [
    "agent_seeds = [rng.randint(9999) for _ in range(n_runs)]\n",
    "agent_seeds"
   ]
  },
  {
   "cell_type": "code",
   "execution_count": 5,
   "id": "0e9b8911",
   "metadata": {},
   "outputs": [],
   "source": [
    "def make_agent(seed, env, algo=UCBGLM):\n",
    "    return algo(\n",
    "            env=env,\n",
    "            seed=seed,\n",
    "            update_every_n_steps=1,\n",
    "            delta=0.01,\n",
    "            ucb_regularizer=1.,\n",
    "            bonus_scale=1.,\n",
    "            opt_tolerance=1e-8\n",
    "        )"
   ]
  },
  {
   "cell_type": "markdown",
   "id": "8895fd08",
   "metadata": {},
   "source": [
    "## Motivating Example"
   ]
  },
  {
   "cell_type": "code",
   "execution_count": 6,
   "id": "19ff6a30",
   "metadata": {},
   "outputs": [
    {
     "data": {
      "text/plain": [
       "(20, 4, 5)"
      ]
     },
     "execution_count": 6,
     "metadata": {},
     "output_type": "execute_result"
    }
   ],
   "source": [
    "hls_features = rng.uniform(low=-1., high=1., size=(20, 4, 5))#np.load(\"../problem_data/basic_features.npy\")\n",
    "dim = hls_features.shape[-1]\n",
    "hls_param = param = rng.uniform(low=-1., high=1., size=dim)#np.load(\"../problem_data/basic_param.npy\")\n",
    "assert is_hls(hls_features, hls_features @ hls_param)\n",
    "horizon = 10000\n",
    "hls_features.shape"
   ]
  },
  {
   "cell_type": "code",
   "execution_count": 7,
   "id": "730efd1b",
   "metadata": {},
   "outputs": [
    {
     "data": {
      "text/plain": [
       "[7725, 6515, 3519, 1133, 1639]"
      ]
     },
     "execution_count": 7,
     "metadata": {},
     "output_type": "execute_result"
    }
   ],
   "source": [
    "instance_seeds = [rng.randint(9999) for _ in range(dim)]\n",
    "instance_seeds"
   ]
  },
  {
   "cell_type": "code",
   "execution_count": 8,
   "id": "56c888a2",
   "metadata": {},
   "outputs": [],
   "source": [
    "hls_features = np.load(\"../problem_data/basic_features.npy\")\n",
    "dim = hls_features.shape[-1]\n",
    "hls_param = np.load(\"../problem_data/basic_param.npy\")\n",
    "assert is_hls(hls_features, hls_features@hls_param)\n",
    "\n",
    "def make_env(rank, seed):\n",
    "    features, param = derank_hls(hls_features, hls_param, newrank=rank, \n",
    "                                 transform=True, \n",
    "                                 normalize=True, \n",
    "                                 seed=instance_seeds[rank-1]) \n",
    "    assert hls_rank(features, features @ param, tol=tol) == rank\n",
    "    return bandits.CBFinite(feature_matrix=features,\n",
    "                           rewards=features@param,\n",
    "                           noise=\"bernoulli\",\n",
    "                           seed=seed)"
   ]
  },
  {
   "cell_type": "code",
   "execution_count": 9,
   "id": "8709a888",
   "metadata": {},
   "outputs": [
    {
     "name": "stderr",
     "output_type": "stream",
     "text": [
      "100%|█| 10000/10000 [01:47<00:00, 93.04it/s, % optimal arm (last 100 steps)=100.\n",
      "100%|█| 10000/10000 [01:49<00:00, 90.95it/s, % optimal arm (last 100 steps)=100.\n",
      "100%|█| 10000/10000 [01:51<00:00, 89.33it/s, % optimal arm (last 100 steps)=100.\n",
      "100%|█| 10000/10000 [01:52<00:00, 88.94it/s, % optimal arm (last 100 steps)=100.\n",
      "100%|█| 10000/10000 [01:53<00:00, 88.47it/s, % optimal arm (last 100 steps)=100.\n",
      "100%|█| 10000/10000 [01:55<00:00, 86.48it/s, % optimal arm (last 100 steps)=100.\n"
     ]
    },
    {
     "data": {
      "image/png": "[encoded data removed]",
      "text/plain": [
       "<Figure size 432x288 with 1 Axes>"
      ]
     },
     "metadata": {
      "needs_background": "light"
     },
     "output_type": "display_data"
    }
   ],
   "source": [
    "results = []\n",
    "lines = []\n",
    "ranks = [5, 1]\n",
    "for k in range(len(ranks)):\n",
    "    regrets = []\n",
    "    results.append([])\n",
    "    for i in range(n_runs):\n",
    "        env = make_env(ranks[k], env_seeds[i])\n",
    "        agent = make_agent(agent_seeds[i], env)\n",
    "        agent.reset()\n",
    "        result = agent.run(horizon=horizon)\n",
    "        results[k].append(result)\n",
    "        regrets.append(result['expected_regret'])\n",
    "    regrets = np.array(regrets)\n",
    "    avg_regret = np.mean(regrets, axis=0)\n",
    "    line, = plt.plot(avg_regret, label=\"hls_rank=%d\"%ranks[k])\n",
    "    lines.append(line)\n",
    "plt.legend(handles=lines)\n",
    "plt.show()"
   ]
  },
  {
   "cell_type": "code",
   "execution_count": null,
   "id": "324d603a",
   "metadata": {},
   "outputs": [],
   "source": []
  }
 ],
 "metadata": {
  "kernelspec": {
   "display_name": "Python 3 (ipykernel)",
   "language": "python",
   "name": "python3"
  },
  "language_info": {
   "codemirror_mode": {
    "name": "ipython",
    "version": 3
   },
   "file_extension": ".py",
   "mimetype": "text/x-python",
   "name": "python",
   "nbconvert_exporter": "python",
   "pygments_lexer": "ipython3",
   "version": "3.8.12"
  }
 },
 "nbformat": 4,
 "nbformat_minor": 5
}
