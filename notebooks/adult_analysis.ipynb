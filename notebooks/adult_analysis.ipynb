{
 "cells": [
  {
   "cell_type": "code",
   "execution_count": 37,
   "id": "3f0da49f",
   "metadata": {},
   "outputs": [],
   "source": [
    "from sklearn.datasets import fetch_openml\n",
    "import pandas as pd\n",
    "import numpy as np\n",
    "from sklearn.preprocessing import LabelEncoder, StandardScaler\n",
    "from sklearn.preprocessing import OneHotEncoder"
   ]
  },
  {
   "cell_type": "code",
   "execution_count": 38,
   "id": "a0bc74a9",
   "metadata": {},
   "outputs": [],
   "source": [
    "X, y = fetch_openml('adult', version=1, return_X_y=True)"
   ]
  },
  {
   "cell_type": "code",
   "execution_count": 39,
   "id": "d354fda5",
   "metadata": {},
   "outputs": [
    {
     "data": {
      "text/html": [
       "<div>\n",
       "<style scoped>\n",
       "    .dataframe tbody tr th:only-of-type {\n",
       "        vertical-align: middle;\n",
       "    }\n",
       "\n",
       "    .dataframe tbody tr th {\n",
       "        vertical-align: top;\n",
       "    }\n",
       "\n",
       "    .dataframe thead th {\n",
       "        text-align: right;\n",
       "    }\n",
       "</style>\n",
       "<table border=\"1\" class=\"dataframe\">\n",
       "  <thead>\n",
       "    <tr style=\"text-align: right;\">\n",
       "      <th></th>\n",
       "      <th>fnlwgt</th>\n",
       "      <th>education-num</th>\n",
       "    </tr>\n",
       "  </thead>\n",
       "  <tbody>\n",
       "    <tr>\n",
       "      <th>count</th>\n",
       "      <td>4.884200e+04</td>\n",
       "      <td>48842.000000</td>\n",
       "    </tr>\n",
       "    <tr>\n",
       "      <th>mean</th>\n",
       "      <td>1.896641e+05</td>\n",
       "      <td>10.078089</td>\n",
       "    </tr>\n",
       "    <tr>\n",
       "      <th>std</th>\n",
       "      <td>1.056040e+05</td>\n",
       "      <td>2.570973</td>\n",
       "    </tr>\n",
       "    <tr>\n",
       "      <th>min</th>\n",
       "      <td>1.228500e+04</td>\n",
       "      <td>1.000000</td>\n",
       "    </tr>\n",
       "    <tr>\n",
       "      <th>25%</th>\n",
       "      <td>1.175505e+05</td>\n",
       "      <td>9.000000</td>\n",
       "    </tr>\n",
       "    <tr>\n",
       "      <th>50%</th>\n",
       "      <td>1.781445e+05</td>\n",
       "      <td>10.000000</td>\n",
       "    </tr>\n",
       "    <tr>\n",
       "      <th>75%</th>\n",
       "      <td>2.376420e+05</td>\n",
       "      <td>12.000000</td>\n",
       "    </tr>\n",
       "    <tr>\n",
       "      <th>max</th>\n",
       "      <td>1.490400e+06</td>\n",
       "      <td>16.000000</td>\n",
       "    </tr>\n",
       "  </tbody>\n",
       "</table>\n",
       "</div>"
      ],
      "text/plain": [
       "             fnlwgt  education-num\n",
       "count  4.884200e+04   48842.000000\n",
       "mean   1.896641e+05      10.078089\n",
       "std    1.056040e+05       2.570973\n",
       "min    1.228500e+04       1.000000\n",
       "25%    1.175505e+05       9.000000\n",
       "50%    1.781445e+05      10.000000\n",
       "75%    2.376420e+05      12.000000\n",
       "max    1.490400e+06      16.000000"
      ]
     },
     "execution_count": 39,
     "metadata": {},
     "output_type": "execute_result"
    }
   ],
   "source": [
    "X.describe()"
   ]
  },
  {
   "cell_type": "code",
   "execution_count": 40,
   "id": "9e4477dd",
   "metadata": {},
   "outputs": [
    {
     "data": {
      "text/plain": [
       "count     48842\n",
       "unique        2\n",
       "top       <=50K\n",
       "freq      37155\n",
       "Name: class, dtype: object"
      ]
     },
     "execution_count": 40,
     "metadata": {},
     "output_type": "execute_result"
    }
   ],
   "source": [
    "y.describe()"
   ]
  },
  {
   "cell_type": "code",
   "execution_count": 41,
   "id": "c8113c0b",
   "metadata": {},
   "outputs": [
    {
     "name": "stdout",
     "output_type": "stream",
     "text": [
      "<class 'pandas.core.frame.DataFrame'>\n",
      "RangeIndex: 48842 entries, 0 to 48841\n",
      "Data columns (total 14 columns):\n",
      " #   Column          Non-Null Count  Dtype   \n",
      "---  ------          --------------  -----   \n",
      " 0   age             48842 non-null  category\n",
      " 1   workclass       46043 non-null  category\n",
      " 2   fnlwgt          48842 non-null  float64 \n",
      " 3   education       48842 non-null  category\n",
      " 4   education-num   48842 non-null  float64 \n",
      " 5   marital-status  48842 non-null  category\n",
      " 6   occupation      46033 non-null  category\n",
      " 7   relationship    48842 non-null  category\n",
      " 8   race            48842 non-null  category\n",
      " 9   sex             48842 non-null  category\n",
      " 10  capitalgain     48842 non-null  category\n",
      " 11  capitalloss     48842 non-null  category\n",
      " 12  hoursperweek    48842 non-null  category\n",
      " 13  native-country  47985 non-null  category\n",
      "dtypes: category(12), float64(2)\n",
      "memory usage: 1.3 MB\n"
     ]
    }
   ],
   "source": [
    "X.info()"
   ]
  },
  {
   "cell_type": "code",
   "execution_count": 42,
   "id": "449193a3",
   "metadata": {},
   "outputs": [
    {
     "name": "stdout",
     "output_type": "stream",
     "text": [
      "<class 'pandas.core.series.Series'>\n",
      "RangeIndex: 48842 entries, 0 to 48841\n",
      "Series name: class\n",
      "Non-Null Count  Dtype   \n",
      "--------------  -----   \n",
      "48842 non-null  category\n",
      "dtypes: category(1)\n",
      "memory usage: 47.9 KB\n"
     ]
    }
   ],
   "source": [
    "y.info()"
   ]
  },
  {
   "cell_type": "code",
   "execution_count": 43,
   "id": "058e6959",
   "metadata": {},
   "outputs": [
    {
     "data": {
      "text/plain": [
       "age                  0\n",
       "workclass         2799\n",
       "fnlwgt               0\n",
       "education            0\n",
       "education-num        0\n",
       "marital-status       0\n",
       "occupation        2809\n",
       "relationship         0\n",
       "race                 0\n",
       "sex                  0\n",
       "capitalgain          0\n",
       "capitalloss          0\n",
       "hoursperweek         0\n",
       "native-country     857\n",
       "dtype: int64"
      ]
     },
     "execution_count": 43,
     "metadata": {},
     "output_type": "execute_result"
    }
   ],
   "source": [
    "# check for null values\n",
    "X.isnull().sum()"
   ]
  },
  {
   "cell_type": "code",
   "execution_count": 44,
   "id": "97caf256",
   "metadata": {},
   "outputs": [
    {
     "data": {
      "text/plain": [
       "0"
      ]
     },
     "execution_count": 44,
     "metadata": {},
     "output_type": "execute_result"
    }
   ],
   "source": [
    "y.isnull().sum()"
   ]
  },
  {
   "cell_type": "code",
   "execution_count": 45,
   "id": "7c9e31fe",
   "metadata": {},
   "outputs": [],
   "source": [
    "# drop rows with missing\n",
    "X = X.dropna()"
   ]
  },
  {
   "cell_type": "code",
   "execution_count": 46,
   "id": "01d564cb",
   "metadata": {},
   "outputs": [
    {
     "name": "stdout",
     "output_type": "stream",
     "text": [
      "<class 'pandas.core.frame.DataFrame'>\n",
      "Int64Index: 45222 entries, 0 to 48841\n",
      "Data columns (total 14 columns):\n",
      " #   Column          Non-Null Count  Dtype   \n",
      "---  ------          --------------  -----   \n",
      " 0   age             45222 non-null  category\n",
      " 1   workclass       45222 non-null  category\n",
      " 2   fnlwgt          45222 non-null  float64 \n",
      " 3   education       45222 non-null  category\n",
      " 4   education-num   45222 non-null  float64 \n",
      " 5   marital-status  45222 non-null  category\n",
      " 6   occupation      45222 non-null  category\n",
      " 7   relationship    45222 non-null  category\n",
      " 8   race            45222 non-null  category\n",
      " 9   sex             45222 non-null  category\n",
      " 10  capitalgain     45222 non-null  category\n",
      " 11  capitalloss     45222 non-null  category\n",
      " 12  hoursperweek    45222 non-null  category\n",
      " 13  native-country  45222 non-null  category\n",
      "dtypes: category(12), float64(2)\n",
      "memory usage: 1.6 MB\n"
     ]
    }
   ],
   "source": [
    "X.info()"
   ]
  },
  {
   "cell_type": "code",
   "execution_count": 47,
   "id": "c35658b5",
   "metadata": {},
   "outputs": [
    {
     "name": "stdout",
     "output_type": "stream",
     "text": [
      "Index(['age', 'workclass', 'education', 'marital-status', 'occupation',\n",
      "       'relationship', 'race', 'sex', 'capitalgain', 'capitalloss',\n",
      "       'hoursperweek', 'native-country'],\n",
      "      dtype='object')\n"
     ]
    }
   ],
   "source": [
    "# get categorical columns\n",
    "cat_ix = X.select_dtypes(include=['category']).columns\n",
    "print(cat_ix)"
   ]
  },
  {
   "cell_type": "code",
   "execution_count": 48,
   "id": "6922cc48",
   "metadata": {},
   "outputs": [
    {
     "name": "stdout",
     "output_type": "stream",
     "text": [
      "Index(['fnlwgt', 'education-num'], dtype='object')\n"
     ]
    }
   ],
   "source": [
    "num_ix = X.select_dtypes(include=['int64', 'float64']).columns\n",
    "print(num_ix)"
   ]
  },
  {
   "cell_type": "code",
   "execution_count": 49,
   "id": "50206b8e",
   "metadata": {},
   "outputs": [
    {
     "name": "stdout",
     "output_type": "stream",
     "text": [
      "age 5\n",
      "workclass 7\n",
      "education 16\n",
      "marital-status 7\n",
      "occupation 14\n",
      "relationship 6\n",
      "race 5\n",
      "sex 2\n",
      "capitalgain 5\n",
      "capitalloss 5\n",
      "hoursperweek 5\n",
      "native-country 41\n",
      "\n",
      "118\n"
     ]
    },
    {
     "data": {
      "text/html": [
       "<div>\n",
       "<style scoped>\n",
       "    .dataframe tbody tr th:only-of-type {\n",
       "        vertical-align: middle;\n",
       "    }\n",
       "\n",
       "    .dataframe tbody tr th {\n",
       "        vertical-align: top;\n",
       "    }\n",
       "\n",
       "    .dataframe thead th {\n",
       "        text-align: right;\n",
       "    }\n",
       "</style>\n",
       "<table border=\"1\" class=\"dataframe\">\n",
       "  <thead>\n",
       "    <tr style=\"text-align: right;\">\n",
       "      <th></th>\n",
       "      <th>age</th>\n",
       "      <th>workclass</th>\n",
       "      <th>fnlwgt</th>\n",
       "      <th>education</th>\n",
       "      <th>education-num</th>\n",
       "      <th>marital-status</th>\n",
       "      <th>occupation</th>\n",
       "      <th>relationship</th>\n",
       "      <th>race</th>\n",
       "      <th>sex</th>\n",
       "      <th>capitalgain</th>\n",
       "      <th>capitalloss</th>\n",
       "      <th>hoursperweek</th>\n",
       "      <th>native-country</th>\n",
       "    </tr>\n",
       "  </thead>\n",
       "  <tbody>\n",
       "    <tr>\n",
       "      <th>0</th>\n",
       "      <td>2</td>\n",
       "      <td>5</td>\n",
       "      <td>77516.0</td>\n",
       "      <td>9</td>\n",
       "      <td>13.0</td>\n",
       "      <td>4</td>\n",
       "      <td>0</td>\n",
       "      <td>1</td>\n",
       "      <td>4</td>\n",
       "      <td>1</td>\n",
       "      <td>1</td>\n",
       "      <td>0</td>\n",
       "      <td>2</td>\n",
       "      <td>38</td>\n",
       "    </tr>\n",
       "    <tr>\n",
       "      <th>1</th>\n",
       "      <td>3</td>\n",
       "      <td>4</td>\n",
       "      <td>83311.0</td>\n",
       "      <td>9</td>\n",
       "      <td>13.0</td>\n",
       "      <td>2</td>\n",
       "      <td>3</td>\n",
       "      <td>0</td>\n",
       "      <td>4</td>\n",
       "      <td>1</td>\n",
       "      <td>0</td>\n",
       "      <td>0</td>\n",
       "      <td>0</td>\n",
       "      <td>38</td>\n",
       "    </tr>\n",
       "    <tr>\n",
       "      <th>2</th>\n",
       "      <td>2</td>\n",
       "      <td>2</td>\n",
       "      <td>215646.0</td>\n",
       "      <td>11</td>\n",
       "      <td>9.0</td>\n",
       "      <td>0</td>\n",
       "      <td>5</td>\n",
       "      <td>1</td>\n",
       "      <td>4</td>\n",
       "      <td>1</td>\n",
       "      <td>0</td>\n",
       "      <td>0</td>\n",
       "      <td>2</td>\n",
       "      <td>38</td>\n",
       "    </tr>\n",
       "    <tr>\n",
       "      <th>3</th>\n",
       "      <td>3</td>\n",
       "      <td>2</td>\n",
       "      <td>234721.0</td>\n",
       "      <td>1</td>\n",
       "      <td>7.0</td>\n",
       "      <td>2</td>\n",
       "      <td>5</td>\n",
       "      <td>0</td>\n",
       "      <td>2</td>\n",
       "      <td>1</td>\n",
       "      <td>0</td>\n",
       "      <td>0</td>\n",
       "      <td>2</td>\n",
       "      <td>38</td>\n",
       "    </tr>\n",
       "    <tr>\n",
       "      <th>4</th>\n",
       "      <td>1</td>\n",
       "      <td>2</td>\n",
       "      <td>338409.0</td>\n",
       "      <td>9</td>\n",
       "      <td>13.0</td>\n",
       "      <td>2</td>\n",
       "      <td>9</td>\n",
       "      <td>5</td>\n",
       "      <td>2</td>\n",
       "      <td>0</td>\n",
       "      <td>0</td>\n",
       "      <td>0</td>\n",
       "      <td>2</td>\n",
       "      <td>4</td>\n",
       "    </tr>\n",
       "    <tr>\n",
       "      <th>...</th>\n",
       "      <td>...</td>\n",
       "      <td>...</td>\n",
       "      <td>...</td>\n",
       "      <td>...</td>\n",
       "      <td>...</td>\n",
       "      <td>...</td>\n",
       "      <td>...</td>\n",
       "      <td>...</td>\n",
       "      <td>...</td>\n",
       "      <td>...</td>\n",
       "      <td>...</td>\n",
       "      <td>...</td>\n",
       "      <td>...</td>\n",
       "      <td>...</td>\n",
       "    </tr>\n",
       "    <tr>\n",
       "      <th>48836</th>\n",
       "      <td>1</td>\n",
       "      <td>2</td>\n",
       "      <td>245211.0</td>\n",
       "      <td>9</td>\n",
       "      <td>13.0</td>\n",
       "      <td>4</td>\n",
       "      <td>9</td>\n",
       "      <td>3</td>\n",
       "      <td>4</td>\n",
       "      <td>1</td>\n",
       "      <td>0</td>\n",
       "      <td>0</td>\n",
       "      <td>2</td>\n",
       "      <td>38</td>\n",
       "    </tr>\n",
       "    <tr>\n",
       "      <th>48837</th>\n",
       "      <td>2</td>\n",
       "      <td>2</td>\n",
       "      <td>215419.0</td>\n",
       "      <td>9</td>\n",
       "      <td>13.0</td>\n",
       "      <td>0</td>\n",
       "      <td>9</td>\n",
       "      <td>1</td>\n",
       "      <td>4</td>\n",
       "      <td>0</td>\n",
       "      <td>0</td>\n",
       "      <td>0</td>\n",
       "      <td>2</td>\n",
       "      <td>38</td>\n",
       "    </tr>\n",
       "    <tr>\n",
       "      <th>48839</th>\n",
       "      <td>2</td>\n",
       "      <td>2</td>\n",
       "      <td>374983.0</td>\n",
       "      <td>9</td>\n",
       "      <td>13.0</td>\n",
       "      <td>2</td>\n",
       "      <td>9</td>\n",
       "      <td>0</td>\n",
       "      <td>4</td>\n",
       "      <td>1</td>\n",
       "      <td>0</td>\n",
       "      <td>0</td>\n",
       "      <td>3</td>\n",
       "      <td>38</td>\n",
       "    </tr>\n",
       "    <tr>\n",
       "      <th>48840</th>\n",
       "      <td>2</td>\n",
       "      <td>2</td>\n",
       "      <td>83891.0</td>\n",
       "      <td>9</td>\n",
       "      <td>13.0</td>\n",
       "      <td>0</td>\n",
       "      <td>0</td>\n",
       "      <td>3</td>\n",
       "      <td>1</td>\n",
       "      <td>1</td>\n",
       "      <td>2</td>\n",
       "      <td>0</td>\n",
       "      <td>2</td>\n",
       "      <td>38</td>\n",
       "    </tr>\n",
       "    <tr>\n",
       "      <th>48841</th>\n",
       "      <td>1</td>\n",
       "      <td>3</td>\n",
       "      <td>182148.0</td>\n",
       "      <td>9</td>\n",
       "      <td>13.0</td>\n",
       "      <td>2</td>\n",
       "      <td>3</td>\n",
       "      <td>0</td>\n",
       "      <td>4</td>\n",
       "      <td>1</td>\n",
       "      <td>0</td>\n",
       "      <td>0</td>\n",
       "      <td>3</td>\n",
       "      <td>38</td>\n",
       "    </tr>\n",
       "  </tbody>\n",
       "</table>\n",
       "<p>45222 rows × 14 columns</p>\n",
       "</div>"
      ],
      "text/plain": [
       "       age  workclass    fnlwgt  education  education-num  marital-status  \\\n",
       "0        2          5   77516.0          9           13.0               4   \n",
       "1        3          4   83311.0          9           13.0               2   \n",
       "2        2          2  215646.0         11            9.0               0   \n",
       "3        3          2  234721.0          1            7.0               2   \n",
       "4        1          2  338409.0          9           13.0               2   \n",
       "...    ...        ...       ...        ...            ...             ...   \n",
       "48836    1          2  245211.0          9           13.0               4   \n",
       "48837    2          2  215419.0          9           13.0               0   \n",
       "48839    2          2  374983.0          9           13.0               2   \n",
       "48840    2          2   83891.0          9           13.0               0   \n",
       "48841    1          3  182148.0          9           13.0               2   \n",
       "\n",
       "       occupation  relationship  race  sex  capitalgain  capitalloss  \\\n",
       "0               0             1     4    1            1            0   \n",
       "1               3             0     4    1            0            0   \n",
       "2               5             1     4    1            0            0   \n",
       "3               5             0     2    1            0            0   \n",
       "4               9             5     2    0            0            0   \n",
       "...           ...           ...   ...  ...          ...          ...   \n",
       "48836           9             3     4    1            0            0   \n",
       "48837           9             1     4    0            0            0   \n",
       "48839           9             0     4    1            0            0   \n",
       "48840           0             3     1    1            2            0   \n",
       "48841           3             0     4    1            0            0   \n",
       "\n",
       "       hoursperweek  native-country  \n",
       "0                 2              38  \n",
       "1                 0              38  \n",
       "2                 2              38  \n",
       "3                 2              38  \n",
       "4                 2               4  \n",
       "...             ...             ...  \n",
       "48836             2              38  \n",
       "48837             2              38  \n",
       "48839             3              38  \n",
       "48840             2              38  \n",
       "48841             3              38  \n",
       "\n",
       "[45222 rows x 14 columns]"
      ]
     },
     "execution_count": 49,
     "metadata": {},
     "output_type": "execute_result"
    }
   ],
   "source": [
    "encoder = LabelEncoder()\n",
    "# now apply the transformation to all the columns:\n",
    "tot = 0\n",
    "for col in cat_ix:\n",
    "    print(col, X[col].unique().size)\n",
    "    tot += X[col].unique().size\n",
    "    X[col] = encoder.fit_transform(X[col])\n",
    "print()\n",
    "print(tot)\n",
    "X"
   ]
  },
  {
   "cell_type": "code",
   "execution_count": 52,
   "id": "fb94d94a",
   "metadata": {},
   "outputs": [
    {
     "name": "stdout",
     "output_type": "stream",
     "text": [
      "12\n"
     ]
    },
    {
     "data": {
      "text/plain": [
       "(45222, 118)"
      ]
     },
     "execution_count": 52,
     "metadata": {},
     "output_type": "execute_result"
    }
   ],
   "source": [
    "hotenc = OneHotEncoder(sparse=False)\n",
    "print(len(cat_ix))\n",
    "cat_features = hotenc.fit_transform(X[cat_ix])\n",
    "cat_features.shape"
   ]
  },
  {
   "cell_type": "code",
   "execution_count": 56,
   "id": "38fc74fa",
   "metadata": {},
   "outputs": [
    {
     "data": {
      "text/plain": [
       "(45222, 2)"
      ]
     },
     "execution_count": 56,
     "metadata": {},
     "output_type": "execute_result"
    }
   ],
   "source": [
    "num_features = StandardScaler().fit_transform(X[num_ix])\n",
    "num_features.shape"
   ]
  },
  {
   "cell_type": "code",
   "execution_count": 57,
   "id": "fa2a2644",
   "metadata": {},
   "outputs": [
    {
     "data": {
      "text/plain": [
       "array([0, 0, 0, ..., 0, 0, 1])"
      ]
     },
     "execution_count": 57,
     "metadata": {},
     "output_type": "execute_result"
    }
   ],
   "source": [
    "y_new = encoder.fit_transform(y)\n",
    "y_new"
   ]
  },
  {
   "cell_type": "code",
   "execution_count": 59,
   "id": "432b4ce3",
   "metadata": {},
   "outputs": [
    {
     "data": {
      "text/plain": [
       "(45222, 120)"
      ]
     },
     "execution_count": 59,
     "metadata": {},
     "output_type": "execute_result"
    }
   ],
   "source": [
    "X_new = np.concatenate((num_features, cat_features), axis=1)\n",
    "X_new.shape"
   ]
  },
  {
   "cell_type": "code",
   "execution_count": null,
   "id": "4ed7fe7e",
   "metadata": {},
   "outputs": [],
   "source": []
  }
 ],
 "metadata": {
  "kernelspec": {
   "display_name": "Python 3 (ipykernel)",
   "language": "python",
   "name": "python3"
  },
  "language_info": {
   "codemirror_mode": {
    "name": "ipython",
    "version": 3
   },
   "file_extension": ".py",
   "mimetype": "text/x-python",
   "name": "python",
   "nbconvert_exporter": "python",
   "pygments_lexer": "ipython3",
   "version": "3.8.12"
  }
 },
 "nbformat": 4,
 "nbformat_minor": 5
}
