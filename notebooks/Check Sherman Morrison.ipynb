{
 "cells": [
  {
   "cell_type": "code",
   "execution_count": 1,
   "metadata": {},
   "outputs": [],
   "source": [
    "from lrcb.algos.oful import oful\n",
    "from lrcb.bandits.finite_linear_bandits import make_random_flb\n",
    "from lrcb.visualization import notebook_utils as nu\n",
    "import numpy as np\n",
    "import time"
   ]
  },
  {
   "cell_type": "code",
   "execution_count": 7,
   "metadata": {},
   "outputs": [],
   "source": [
    "nc = 500\n",
    "na = 25\n",
    "dim = 100\n",
    "iters = 5000\n",
    "problem = make_random_flb(nc, na, dim)\n",
    "seed = 0"
   ]
  },
  {
   "cell_type": "code",
   "execution_count": 8,
   "metadata": {},
   "outputs": [],
   "source": [
    "reg = 0.01\n",
    "noise = 0.1\n",
    "delta = 0.2\n",
    "param_bound = np.linalg.norm(problem._param)"
   ]
  },
  {
   "cell_type": "code",
   "execution_count": 9,
   "metadata": {},
   "outputs": [
    {
     "name": "stdout",
     "output_type": "stream",
     "text": [
      "15.152824878692627\n"
     ]
    }
   ],
   "source": [
    "start = time.time()\n",
    "param = oful(problem, iters, reg, noise, delta, param_bound, \n",
    "         sherman=False, seed=seed, verbose=False, logname='oful_solve')\n",
    "print(time.time() - start)"
   ]
  },
  {
   "cell_type": "code",
   "execution_count": 10,
   "metadata": {},
   "outputs": [
    {
     "name": "stdout",
     "output_type": "stream",
     "text": [
      "10.465521812438965\n"
     ]
    }
   ],
   "source": [
    "start = time.time()\n",
    "param = oful(problem, iters, reg, noise, delta, param_bound, \n",
    "         sherman=True, seed=seed, verbose=False, logname='oful_sm')\n",
    "print(time.time() - start)"
   ]
  },
  {
   "cell_type": "code",
   "execution_count": 11,
   "metadata": {},
   "outputs": [
    {
     "data": {
      "image/png": "[encoded data removed]",
      "text/plain": [
       "<Figure size 432x288 with 1 Axes>"
      ]
     },
     "metadata": {
      "needs_background": "light"
     },
     "output_type": "display_data"
    }
   ],
   "source": [
    "nu.compare('../logs', ['oful_solve', 'oful_sm'], 'cumregret', [seed])"
   ]
  },
  {
   "cell_type": "code",
   "execution_count": null,
   "metadata": {},
   "outputs": [],
   "source": []
  }
 ],
 "metadata": {
  "kernelspec": {
   "display_name": "Python 3",
   "language": "python",
   "name": "python3"
  },
  "language_info": {
   "codemirror_mode": {
    "name": "ipython",
    "version": 3
   },
   "file_extension": ".py",
   "mimetype": "text/x-python",
   "name": "python",
   "nbconvert_exporter": "python",
   "pygments_lexer": "ipython3",
   "version": "3.6.12"
  }
 },
 "nbformat": 4,
 "nbformat_minor": 4
}
