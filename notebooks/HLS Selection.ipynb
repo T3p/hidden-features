{
 "cells": [
  {
   "cell_type": "code",
   "execution_count": 1,
   "metadata": {},
   "outputs": [],
   "source": [
    "from lrcb.bandits.multirep_finite import make_random_rep, fix_rank, hls_rank, rank, FiniteMultiBandit, derank\n",
    "from lrcb.bandits.finite_linear_bandits import FiniteLinearBandit\n",
    "from lrcb.algos.oful import oful\n",
    "from lrcb.algos.lr_oful import select_oful\n",
    "import math\n",
    "import os\n",
    "import pandas as pd\n",
    "import matplotlib.pyplot as plt\n",
    "import numpy as np\n",
    "import lrcb.visualization.notebook_utils as nu"
   ]
  },
  {
   "cell_type": "code",
   "execution_count": 2,
   "metadata": {},
   "outputs": [],
   "source": [
    "nc = 100\n",
    "na = 20\n",
    "dim = 20\n",
    "seeds = [1, 2, 3, 4, 5]"
   ]
  },
  {
   "cell_type": "code",
   "execution_count": 3,
   "metadata": {},
   "outputs": [
    {
     "data": {
      "text/plain": [
       "20"
      ]
     },
     "execution_count": 3,
     "metadata": {},
     "output_type": "execute_result"
    }
   ],
   "source": [
    "r0 = make_random_rep(nc, na, dim)\n",
    "hls_rank(r0)"
   ]
  },
  {
   "cell_type": "code",
   "execution_count": 4,
   "metadata": {},
   "outputs": [
    {
     "name": "stdout",
     "output_type": "stream",
     "text": [
      "1/20\n",
      "2/20\n",
      "3/20\n",
      "4/20\n",
      "5/20\n",
      "6/20\n",
      "7/20\n",
      "8/20\n",
      "9/20\n",
      "10/20\n",
      "11/20\n",
      "12/20\n",
      "13/20\n",
      "14/20\n",
      "15/20\n",
      "16/20\n",
      "17/20\n",
      "18/20\n",
      "19/20\n",
      "20/20\n"
     ]
    }
   ],
   "source": [
    "reps = [derank(r0, i) for i in range(1, dim)]\n",
    "reps.append(r0)\n",
    "\n",
    "for r in reps:\n",
    "    print('%d/%d' % (hls_rank(r), rank(r)))"
   ]
  },
  {
   "cell_type": "code",
   "execution_count": 5,
   "metadata": {},
   "outputs": [],
   "source": [
    "iterations = 500\n",
    "reg = 0.01\n",
    "noise = 0.5\n",
    "delta = 0.2\n",
    "param_bound = math.sqrt(2)\n",
    "\n",
    "problem = FiniteMultiBandit(nc, na, reps)"
   ]
  },
  {
   "cell_type": "code",
   "execution_count": null,
   "metadata": {},
   "outputs": [],
   "source": [
    "names = []\n",
    "for i in range(len(reps)):\n",
    "    problem.select_rep(i)\n",
    "    name = 'oful_rank%d' % hls_rank(reps[i])\n",
    "    names.append(name)\n",
    "    for seed in seeds:\n",
    "        oful(problem, iterations, reg, noise, delta, param_bound, seed=seed, verbose=False, logname=name)\n",
    "\n",
    "nu.compare('../logs', names, 'cumregret', seeds)"
   ]
  },
  {
   "cell_type": "code",
   "execution_count": null,
   "metadata": {},
   "outputs": [],
   "source": [
    "for seed in seeds:\n",
    "    select_oful(problem, iterations, reg, noise, delta, param_bound, seed=seed, verbose=False, logname='oful_select')"
   ]
  },
  {
   "cell_type": "code",
   "execution_count": null,
   "metadata": {},
   "outputs": [],
   "source": [
    "names = ['oful_rank%d' % dim, 'oful_select']\n",
    "        \n",
    "nu.compare('../logs', names, 'cumregret', seeds)"
   ]
  },
  {
   "cell_type": "code",
   "execution_count": null,
   "metadata": {},
   "outputs": [],
   "source": [
    "nu.plot_all('../logs', 'oful_select', 'selection', seeds, rows=10)"
   ]
  },
  {
   "cell_type": "code",
   "execution_count": null,
   "metadata": {},
   "outputs": [],
   "source": []
  }
 ],
 "metadata": {
  "kernelspec": {
   "display_name": "Python 3",
   "language": "python",
   "name": "python3"
  },
  "language_info": {
   "codemirror_mode": {
    "name": "ipython",
    "version": 3
   },
   "file_extension": ".py",
   "mimetype": "text/x-python",
   "name": "python",
   "nbconvert_exporter": "python",
   "pygments_lexer": "ipython3",
   "version": "3.6.12"
  }
 },
 "nbformat": 4,
 "nbformat_minor": 4
}
